{
 "cells": [
  {
   "cell_type": "markdown",
   "metadata": {},
   "source": [
    "<img style=\"float: left;padding: 1.3em\" src=\"https://indico.in2p3.fr/event/18313/logo-786578160.png\">  \n",
    "\n",
    "#  Gravitational Wave Open Data Workshop #2\n",
    "\n",
    "## Paris, April 8-10 2019 [Université Paris Diderot, France](https://www.univ-paris-diderot.fr/)\n",
    "\n",
    "\n",
    "### Tutorial 2.4: Running parameter estimation on GW150914 using open data.\n",
    "\n",
    "This example estimates the non-spinning parameters of the binary black hole system using\n",
    "commonly used prior distributions.  This will take about 30 minutes to run.\n",
    "\n",
    "[Click this link to view this tutorial in Google Colaboratory](https://colab.research.google.com/github/gw-odw/odw-2019/blob/master/day_2/Tuto 2.4 Parameter estimation for compact object mergers.ipynb)\n",
    "\n",
    "More at https://lscsoft.docs.ligo.org/bilby/examples.html"
   ]
  },
  {
   "cell_type": "markdown",
   "metadata": {},
   "source": [
    "## Installation"
   ]
  },
  {
   "cell_type": "code",
   "execution_count": null,
   "metadata": {
    "collapsed": true
   },
   "outputs": [],
   "source": [
    "! wget --output-document=requirements.txt 'https://raw.githubusercontent.com/gw-odw/odw-2019/master/requirements.txt'\n",
    "! pip install -r ./requirements.txt"
   ]
  },
  {
   "cell_type": "code",
   "execution_count": null,
   "metadata": {
    "collapsed": false
   },
   "outputs": [],
   "source": [
    "from __future__ import division, print_function\n",
    "import bilby"
   ]
  },
  {
   "cell_type": "code",
   "execution_count": null,
   "metadata": {
    "collapsed": true
   },
   "outputs": [],
   "source": [
    "outdir = 'outdir'\n",
    "label = 'GW150914'\n",
    "time_of_event = bilby.gw.utils.get_event_time(label)"
   ]
  },
  {
   "cell_type": "markdown",
   "metadata": {},
   "source": [
    "This sets up logging output to understand what bilby is doing"
   ]
  },
  {
   "cell_type": "code",
   "execution_count": null,
   "metadata": {
    "collapsed": true
   },
   "outputs": [],
   "source": [
    "bilby.core.utils.setup_logger(outdir=outdir, label=label)"
   ]
  },
  {
   "cell_type": "markdown",
   "metadata": {},
   "source": [
    "Here we import the detector data. This step downloads data from the\n",
    "LIGO/Virgo open data archives. The data is saved to an `Interferometer`\n",
    "object (here called `H1` and `L1`). A Power Spectral Density (PSD) estimate\n",
    "is also generated and saved to the same object. To check the data and PSD\n",
    "makes sense, for each detector a plot is created in the `outdir` called\n",
    "H1_frequency_domain_data.png and LI_frequency_domain_data.png. The two\n",
    "objects are then placed into a list.\n",
    "For GW170817, 170608 and 170814 add the following line to select clean data:\n",
    "```python\n",
    "kwargs = {\"tag\": 'CLN'}\n",
    "```"
   ]
  },
  {
   "cell_type": "code",
   "execution_count": null,
   "metadata": {
    "collapsed": false
   },
   "outputs": [],
   "source": [
    "interferometers = bilby.gw.detector.get_event_data(label)"
   ]
  },
  {
   "cell_type": "markdown",
   "metadata": {},
   "source": [
    "We now define the prior. We have defined our prior distribution in a file packaged with BILBY. The prior is printed to the terminal at run-time."
   ]
  },
  {
   "cell_type": "code",
   "execution_count": null,
   "metadata": {
    "collapsed": true
   },
   "outputs": [],
   "source": [
    "prior = bilby.gw.prior.BBHPriorDict(filename='GW150914.prior')"
   ]
  },
  {
   "cell_type": "markdown",
   "metadata": {},
   "source": [
    "You can overwrite this using the syntax below in the file, or choose a fixed value by just providing a float value as the prior. To speed-up the analysis, let's run with a simpler, non-spinning model:"
   ]
  },
  {
   "cell_type": "code",
   "execution_count": null,
   "metadata": {
    "collapsed": true
   },
   "outputs": [],
   "source": [
    "prior['a_1']=0.0\n",
    "prior['a_2']=0.0\n",
    "prior['tilt_1']=0.0\n",
    "prior['tilt_2']=0.0\n",
    "prior['phi_12']=0.0\n",
    "prior['phi_jl']=0.0"
   ]
  },
  {
   "cell_type": "markdown",
   "metadata": {},
   "source": [
    "In this step we define a `waveform_generator`. This is out object which\n",
    "creates the frequency-domain strain. In this instance, we are using the\n",
    "`lal_binary_black_hole model` source model. We also pass other parameters:\n",
    "the waveform approximant and reference frequency."
   ]
  },
  {
   "cell_type": "code",
   "execution_count": null,
   "metadata": {
    "collapsed": true
   },
   "outputs": [],
   "source": [
    "waveform_generator = bilby.gw.WaveformGenerator(\n",
    "    frequency_domain_source_model=bilby.gw.source.lal_binary_black_hole,\n",
    "    waveform_arguments={'waveform_approximant': 'IMRPhenomPv2',\n",
    "                        'reference_frequency': 50})"
   ]
  },
  {
   "cell_type": "markdown",
   "metadata": {},
   "source": [
    "In this step, we define the likelihood. Here we use the standard likelihood\n",
    "function, passing it the data and the waveform generator."
   ]
  },
  {
   "cell_type": "code",
   "execution_count": null,
   "metadata": {
    "collapsed": false
   },
   "outputs": [],
   "source": [
    "likelihood = bilby.gw.likelihood.GravitationalWaveTransient(\n",
    "    interferometers, waveform_generator, phase_marginalization=True, priors=prior)\n"
   ]
  },
  {
   "cell_type": "markdown",
   "metadata": {},
   "source": [
    "Finally, we run the sampler. This function takes the likelihood and prior\n",
    "along with some options for how to do the sampling and how to save the data"
   ]
  },
  {
   "cell_type": "code",
   "execution_count": null,
   "metadata": {
    "collapsed": false
   },
   "outputs": [],
   "source": [
    "result = bilby.run_sampler(likelihood, prior, sampler='dynesty',\n",
    "                           outdir=outdir, label=label)"
   ]
  },
  {
   "cell_type": "code",
   "execution_count": null,
   "metadata": {
    "collapsed": false
   },
   "outputs": [],
   "source": [
    "result.plot_corner()"
   ]
  },
  {
   "cell_type": "code",
   "execution_count": null,
   "metadata": {
    "collapsed": true
   },
   "outputs": [],
   "source": []
  }
 ],
 "metadata": {
  "kernelspec": {
   "display_name": "Python 2",
   "language": "python",
   "name": "python2"
  },
  "language_info": {
   "codemirror_mode": {
    "name": "ipython",
    "version": 2
   },
   "file_extension": ".py",
   "mimetype": "text/x-python",
   "name": "python",
   "nbconvert_exporter": "python",
   "pygments_lexer": "ipython2",
   "version": "2.7.13"
  }
 },
 "nbformat": 4,
 "nbformat_minor": 2
}
