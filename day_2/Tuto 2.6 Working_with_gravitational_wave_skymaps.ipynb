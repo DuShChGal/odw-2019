{
  "nbformat": 4,
  "nbformat_minor": 0,
  "metadata": {
    "colab": {
      "name": "Working with gravitational-wave skymaps.ipynb",
      "version": "0.3.2",
      "provenance": [],
      "collapsed_sections": [],
      "toc_visible": true
    },
    "kernelspec": {
      "display_name": "Python 3",
      "language": "python",
      "name": "python3"
    }
  },
  "cells": [
    {
      "metadata": {
        "id": "7Gh4yLBUA6nR",
        "colab_type": "text"
      },
      "cell_type": "markdown",
      "source": [
        "<img style=\"float: left;padding: 1.3em\" src=\"https://indico.in2p3.fr/event/18313/logo-786578160.png\">  \n",
        "\n",
        "#  Gravitational Wave Open Data Workshop #2\n",
        "\n",
        "###  Paris, April 8-10 2019 \n",
        "*[Université Paris Diderot, France](https://www.univ-paris-diderot.fr/)*\n",
        "\n",
        "                                                                            Tutorial 2.6"
      ]
    },
    {
      "metadata": {
        "id": "XoXK5903A6nW",
        "colab_type": "text"
      },
      "cell_type": "markdown",
      "source": [
        " \n",
        "#  Electromagnetic follow-up of gravitational-wave events\n",
        "\n",
        "\n",
        "In this tutorial we will learn how: \n",
        "\n",
        "    1) to visualize over the sky the gravitational-wave localization \n",
        "    \n",
        "    2) to get information from the image's header\n",
        "    \n",
        "    3) to identify the maximum probability pixel \n",
        "    \n",
        "    4) to create the confidence levels and query the galaxy catalog(s)\n",
        " \n",
        "##  Installation and initialization\n"
      ]
    },
    {
      "metadata": {
        "id": "fr1pbfjzA6nY",
        "colab_type": "code",
        "colab": {}
      },
      "cell_type": "code",
      "source": [
        "from IPython.display import display, Math, Latex"
      ],
      "execution_count": 0,
      "outputs": []
    },
    {
      "metadata": {
        "id": "M7bP71f5CLWj",
        "colab_type": "code",
        "outputId": "dfb2e0c9-a533-4c45-f657-0dd859fa8f2d",
        "colab": {
          "base_uri": "https://localhost:8080/",
          "height": 1117
        }
      },
      "cell_type": "code",
      "source": [
        "! wget --output-document=requirements.txt 'https://raw.githubusercontent.com/gw-odw/odw-2019/master/requirements.txt'\n",
        "! pip install -r ./requirements.txt"
      ],
      "execution_count": 0,
      "outputs": [
        {
          "output_type": "stream",
          "text": [
            "--2019-03-18 00:00:21--  https://raw.githubusercontent.com/gw-odw/odw-2019/master/requirements.txt\n",
            "Resolving raw.githubusercontent.com (raw.githubusercontent.com)... 151.101.0.133, 151.101.64.133, 151.101.128.133, ...\n",
            "Connecting to raw.githubusercontent.com (raw.githubusercontent.com)|151.101.0.133|:443... connected.\n",
            "HTTP request sent, awaiting response... 200 OK\n",
            "Length: 98 [text/plain]\n",
            "Saving to: ‘requirements.txt’\n",
            "\n",
            "\rrequirements.txt      0%[                    ]       0  --.-KB/s               \rrequirements.txt    100%[===================>]      98  --.-KB/s    in 0s      \n",
            "\n",
            "2019-03-18 00:00:21 (14.4 MB/s) - ‘requirements.txt’ saved [98/98]\n",
            "\n",
            "Requirement already satisfied: lalsuite==6.49 in /usr/local/lib/python3.6/dist-packages (from -r ./requirements.txt (line 1)) (6.49)\n",
            "Requirement already satisfied: gwpy==0.12.2 in /usr/local/lib/python3.6/dist-packages (from -r ./requirements.txt (line 2)) (0.12.2)\n",
            "Requirement already satisfied: PyCBC==1.13.3 in /usr/local/lib/python3.6/dist-packages (from -r ./requirements.txt (line 3)) (1.13.3)\n",
            "Requirement already satisfied: gwosc==0.3.4 in /usr/local/lib/python3.6/dist-packages (from -r ./requirements.txt (line 4)) (0.3.4)\n",
            "Requirement already satisfied: bilby==0.4.0 in /usr/local/lib/python3.6/dist-packages (from -r ./requirements.txt (line 5)) (0.4.0)\n",
            "Requirement already satisfied: healpy==1.12.8 in /usr/local/lib/python3.6/dist-packages (from -r ./requirements.txt (line 6)) (1.12.8)\n",
            "Requirement already satisfied: astropy==3.1.2 in /usr/local/lib/python3.6/dist-packages (from -r ./requirements.txt (line 7)) (3.1.2)\n",
            "Requirement already satisfied: python-dateutil in /usr/local/lib/python3.6/dist-packages (from lalsuite==6.49->-r ./requirements.txt (line 1)) (2.5.3)\n",
            "Requirement already satisfied: scipy in /usr/local/lib/python3.6/dist-packages (from lalsuite==6.49->-r ./requirements.txt (line 1)) (1.1.0)\n",
            "Requirement already satisfied: matplotlib in /usr/local/lib/python3.6/dist-packages (from lalsuite==6.49->-r ./requirements.txt (line 1)) (3.0.3)\n",
            "Requirement already satisfied: lscsoft-glue in /usr/local/lib/python3.6/dist-packages (from lalsuite==6.49->-r ./requirements.txt (line 1)) (2.0.0)\n",
            "Requirement already satisfied: ligo-segments in /usr/local/lib/python3.6/dist-packages (from lalsuite==6.49->-r ./requirements.txt (line 1)) (1.2.0)\n",
            "Requirement already satisfied: numpy>=1.7 in /usr/local/lib/python3.6/dist-packages (from lalsuite==6.49->-r ./requirements.txt (line 1)) (1.14.6)\n",
            "Requirement already satisfied: tqdm>=4.10.0 in /usr/local/lib/python3.6/dist-packages (from gwpy==0.12.2->-r ./requirements.txt (line 2)) (4.28.1)\n",
            "Requirement already satisfied: six>=1.5 in /usr/local/lib/python3.6/dist-packages (from gwpy==0.12.2->-r ./requirements.txt (line 2)) (1.11.0)\n",
            "Requirement already satisfied: ligotimegps>=1.2.1 in /usr/local/lib/python3.6/dist-packages (from gwpy==0.12.2->-r ./requirements.txt (line 2)) (2.0.0)\n",
            "Requirement already satisfied: h5py>=1.3 in /usr/local/lib/python3.6/dist-packages (from gwpy==0.12.2->-r ./requirements.txt (line 2)) (2.8.0)\n",
            "Requirement already satisfied: cython in /usr/local/lib/python3.6/dist-packages (from PyCBC==1.13.3->-r ./requirements.txt (line 3)) (0.29.6)\n",
            "Requirement already satisfied: requests>=1.2.1 in /usr/local/lib/python3.6/dist-packages (from PyCBC==1.13.3->-r ./requirements.txt (line 3)) (2.18.4)\n",
            "Requirement already satisfied: beautifulsoup4>=4.6.0 in /usr/local/lib/python3.6/dist-packages (from PyCBC==1.13.3->-r ./requirements.txt (line 3)) (4.6.3)\n",
            "Requirement already satisfied: decorator>=3.4.2 in /usr/local/lib/python3.6/dist-packages (from PyCBC==1.13.3->-r ./requirements.txt (line 3)) (4.3.2)\n",
            "Requirement already satisfied: pillow in /usr/local/lib/python3.6/dist-packages (from PyCBC==1.13.3->-r ./requirements.txt (line 3)) (4.1.1)\n",
            "Requirement already satisfied: emcee==2.2.1 in /usr/local/lib/python3.6/dist-packages (from PyCBC==1.13.3->-r ./requirements.txt (line 3)) (2.2.1)\n",
            "Requirement already satisfied: Mako>=1.0.1 in /usr/local/lib/python3.6/dist-packages (from PyCBC==1.13.3->-r ./requirements.txt (line 3)) (1.0.7)\n",
            "Requirement already satisfied: jinja2 in /usr/local/lib/python3.6/dist-packages (from PyCBC==1.13.3->-r ./requirements.txt (line 3)) (2.10)\n",
            "Requirement already satisfied: mpld3>=0.3 in /usr/local/lib/python3.6/dist-packages (from PyCBC==1.13.3->-r ./requirements.txt (line 3)) (0.3)\n",
            "Requirement already satisfied: kombine>=0.8.2 in /usr/local/lib/python3.6/dist-packages (from PyCBC==1.13.3->-r ./requirements.txt (line 3)) (0.8.3)\n",
            "Requirement already satisfied: future in /usr/local/lib/python3.6/dist-packages (from bilby==0.4.0->-r ./requirements.txt (line 5)) (0.16.0)\n",
            "Requirement already satisfied: dynesty in /usr/local/lib/python3.6/dist-packages (from bilby==0.4.0->-r ./requirements.txt (line 5)) (0.9.5.1)\n",
            "Requirement already satisfied: pandas in /usr/local/lib/python3.6/dist-packages (from bilby==0.4.0->-r ./requirements.txt (line 5)) (0.22.0)\n",
            "Requirement already satisfied: corner in /usr/local/lib/python3.6/dist-packages (from bilby==0.4.0->-r ./requirements.txt (line 5)) (2.0.1)\n",
            "Requirement already satisfied: deepdish in /usr/local/lib/python3.6/dist-packages (from bilby==0.4.0->-r ./requirements.txt (line 5)) (0.3.6)\n",
            "Requirement already satisfied: pyparsing!=2.0.4,!=2.1.2,!=2.1.6,>=2.0.1 in /usr/local/lib/python3.6/dist-packages (from matplotlib->lalsuite==6.49->-r ./requirements.txt (line 1)) (2.3.1)\n",
            "Requirement already satisfied: cycler>=0.10 in /usr/local/lib/python3.6/dist-packages (from matplotlib->lalsuite==6.49->-r ./requirements.txt (line 1)) (0.10.0)\n",
            "Requirement already satisfied: kiwisolver>=1.0.1 in /usr/local/lib/python3.6/dist-packages (from matplotlib->lalsuite==6.49->-r ./requirements.txt (line 1)) (1.0.1)\n",
            "Requirement already satisfied: pyOpenSSL in /usr/local/lib/python3.6/dist-packages (from lscsoft-glue->lalsuite==6.49->-r ./requirements.txt (line 1)) (19.0.0)\n",
            "Requirement already satisfied: chardet<3.1.0,>=3.0.2 in /usr/local/lib/python3.6/dist-packages (from requests>=1.2.1->PyCBC==1.13.3->-r ./requirements.txt (line 3)) (3.0.4)\n",
            "Requirement already satisfied: certifi>=2017.4.17 in /usr/local/lib/python3.6/dist-packages (from requests>=1.2.1->PyCBC==1.13.3->-r ./requirements.txt (line 3)) (2019.3.9)\n",
            "Requirement already satisfied: urllib3<1.23,>=1.21.1 in /usr/local/lib/python3.6/dist-packages (from requests>=1.2.1->PyCBC==1.13.3->-r ./requirements.txt (line 3)) (1.22)\n",
            "Requirement already satisfied: idna<2.7,>=2.5 in /usr/local/lib/python3.6/dist-packages (from requests>=1.2.1->PyCBC==1.13.3->-r ./requirements.txt (line 3)) (2.6)\n",
            "Requirement already satisfied: olefile in /usr/local/lib/python3.6/dist-packages (from pillow->PyCBC==1.13.3->-r ./requirements.txt (line 3)) (0.46)\n",
            "Requirement already satisfied: MarkupSafe>=0.9.2 in /usr/local/lib/python3.6/dist-packages (from Mako>=1.0.1->PyCBC==1.13.3->-r ./requirements.txt (line 3)) (1.1.1)\n",
            "Requirement already satisfied: pytz>=2011k in /usr/local/lib/python3.6/dist-packages (from pandas->bilby==0.4.0->-r ./requirements.txt (line 5)) (2018.9)\n",
            "Requirement already satisfied: tables in /usr/local/lib/python3.6/dist-packages (from deepdish->bilby==0.4.0->-r ./requirements.txt (line 5)) (3.4.4)\n",
            "Requirement already satisfied: setuptools in /usr/local/lib/python3.6/dist-packages (from kiwisolver>=1.0.1->matplotlib->lalsuite==6.49->-r ./requirements.txt (line 1)) (40.8.0)\n",
            "Requirement already satisfied: cryptography>=2.3 in /usr/local/lib/python3.6/dist-packages (from pyOpenSSL->lscsoft-glue->lalsuite==6.49->-r ./requirements.txt (line 1)) (2.6.1)\n",
            "Requirement already satisfied: numexpr>=2.5.2 in /usr/local/lib/python3.6/dist-packages (from tables->deepdish->bilby==0.4.0->-r ./requirements.txt (line 5)) (2.6.9)\n",
            "Requirement already satisfied: asn1crypto>=0.21.0 in /usr/local/lib/python3.6/dist-packages (from cryptography>=2.3->pyOpenSSL->lscsoft-glue->lalsuite==6.49->-r ./requirements.txt (line 1)) (0.24.0)\n",
            "Requirement already satisfied: cffi!=1.11.3,>=1.8 in /usr/local/lib/python3.6/dist-packages (from cryptography>=2.3->pyOpenSSL->lscsoft-glue->lalsuite==6.49->-r ./requirements.txt (line 1)) (1.12.2)\n",
            "Requirement already satisfied: pycparser in /usr/local/lib/python3.6/dist-packages (from cffi!=1.11.3,>=1.8->cryptography>=2.3->pyOpenSSL->lscsoft-glue->lalsuite==6.49->-r ./requirements.txt (line 1)) (2.19)\n"
          ],
          "name": "stdout"
        }
      ]
    },
    {
      "metadata": {
        "id": "32HyQWWHA6nm",
        "colab_type": "text"
      },
      "cell_type": "markdown",
      "source": [
        "# LIGO/Virgo probability sky maps - a short introduction\n",
        " \n",
        "Probability sky maps associated with a gravitational-wave signal detected by \n",
        "the Advanced LIGO and Virgo are given as all-sky \n",
        "images stored in the [HEALPix](http://healpix.sourceforge.net/)\n",
        "(Hierarchical Equal Area isoLatitude Pixelisation) projection.\n",
        "The  sphere  is  hierarchically tessellated into curvilinear quadrilaterals; \n",
        "the resolution of the tessellation can be increased by the division of each pixel into four new ones.  \n",
        "The lowest resolution partition is comprised of twelve base pixels.\n",
        "The pixel position on the sky is uniquely specified by the index in the array and the array’s length.\n",
        "The resolution of the grid is expressed by the parameter $N_{side}$,\n",
        "and the total number of pixels equal to $N_{pix} = 12 \\times N_{side}^2$. "
      ]
    },
    {
      "metadata": {
        "id": "myTfV_dDA6no",
        "colab_type": "text"
      },
      "cell_type": "markdown",
      "source": [
        "\n",
        "\n",
        "\n",
        "\n",
        "<img style=\"float: left;padding: 1.3em\" src=\"https://healpix.jpl.nasa.gov/images/healpixGridRefinement.jpg\"> "
      ]
    },
    {
      "metadata": {
        "id": "iOsPR39MA6nq",
        "colab_type": "text"
      },
      "cell_type": "markdown",
      "source": [
        "**FIG.1.** It shows the partitioning of a sphere at progressively higher resolutions, from left to right. The green sphere represents the lowest resolution possible with the HEALPix base partitioning of the sphere surface into 12 equal sized pixels. The yellow sphere has a HEALPix grid of 48 pixels, the red sphere has 192 pixels, and the blue sphere has a grid of 768 pixels - more information [here](https://healpix.jpl.nasa.gov/). "
      ]
    },
    {
      "metadata": {
        "id": "4FOWYLlcA6nu",
        "colab_type": "text"
      },
      "cell_type": "markdown",
      "source": [
        "## Downloading  and reading GW sky localizations\n",
        "\n",
        "\n",
        "The signal-to-noise ratio (SNR) contributed by Virgo can significantly shrink the area. We find the smallest 90% sky localization areas for GW170817: $16\\deg^2$ and GW170818: $39 \\deg^2$. The two sky localization maps will be used in the tutorial.\n",
        "\n",
        "\n",
        "\n",
        "\n",
        "\n",
        "\n",
        "Specifically, we will use the LALInference skymap published in  the [Gravitational-Wave Transient Catalog of Compact Binary Mergers (O1 & O2) GWTC-1](https://www.gw-openscience.org/catalog/).\n"
      ]
    },
    {
      "metadata": {
        "id": "VTCH9GhzA6nw",
        "colab_type": "text"
      },
      "cell_type": "markdown",
      "source": [
        "### Working with GW170818 - BBH merger"
      ]
    },
    {
      "metadata": {
        "id": "YVSdRX3MA6ny",
        "colab_type": "text"
      },
      "cell_type": "markdown",
      "source": [
        "We will download the refined skymap from the binary black hole (BBH) merger event, GW170818. GW170818 is the second BBH observed in triple-coincidence between the two LIGO observatories and Virgo after [GW170814](https://apod.nasa.gov/apod/ap170928.html)."
      ]
    },
    {
      "metadata": {
        "id": "SlJF8BmEA6n1",
        "colab_type": "code",
        "colab": {}
      },
      "cell_type": "code",
      "source": [
        "from astropy.utils.data import download_file\n",
        "url = ('https://dcc.ligo.org/public/0157/P1800381/002/GW170818_skymap.fits.gz')\n",
        "gw170818_skymap = download_file(url, cache=True)"
      ],
      "execution_count": 0,
      "outputs": []
    },
    {
      "metadata": {
        "id": "3QffjnQGA6n7",
        "colab_type": "text"
      },
      "cell_type": "markdown",
      "source": [
        "<span style=\"color:#B22222\"> <strong> ↳ </strong> </span>  We are going to demonstrate how to read HEALPix maps with the official Python library, Healpy."
      ]
    },
    {
      "metadata": {
        "id": "-tblmU3kA6nj",
        "colab_type": "text"
      },
      "cell_type": "markdown",
      "source": [
        "###  Python packages\n",
        "\n",
        "We will need [healpy](https://healpy.readthedocs.org/en/latest/) [astropy](http://www.astropy.org/), [astropy-healpix](https://astropy-healpix.readthedocs.io/en/latest/installation.html), [ligo.skymap](https://pypi.org/project/ligo.skymap/), [numpy](http://www.numpy.org/),  [matplotlib](https://matplotlib.org/).\n",
        "\n",
        "\n",
        "### Aladin Sky Atlas\n",
        "\n",
        "Aladin is an interactive sky atlas allowing the user to visualize digitized astronomical images or full surveys, superimpose entries from astronomical catalogues or databases, and interactively access related data and information from the *Simbad* database, the *VizieR* service and other archives for all known astronomical objects in the field. Installation instruction are provided [here](<https://aladin.u-strasbg.fr/java/nph-aladin.pl?frame=downloading)."
      ]
    },
    {
      "metadata": {
        "id": "KCXVpjgLA6n-",
        "colab_type": "code",
        "outputId": "6587acfe-df62-4f22-f028-a62684b9afe3",
        "colab": {
          "base_uri": "https://localhost:8080/",
          "height": 88
        }
      },
      "cell_type": "code",
      "source": [
        "import healpy as hp\n",
        "prob, header = hp.read_map(gw170818_skymap, h=True)"
      ],
      "execution_count": 0,
      "outputs": [
        {
          "output_type": "stream",
          "text": [
            "NSIDE = 1024\n",
            "ORDERING = NESTED in fits file\n",
            "INDXSCHM = IMPLICIT\n",
            "Ordering converted to RING\n"
          ],
          "name": "stdout"
        }
      ]
    },
    {
      "metadata": {
        "id": "LErmz81pA6oP",
        "colab_type": "text"
      },
      "cell_type": "markdown",
      "source": [
        "<span style=\"color:#B22222\"> <strong> ↳ </strong> </span> We can look at the metadata inside the FITS file by printing its header. The circulars issued by the LIGO and Virgo Collaborations contain information from the skymap headers  - more information in [LIGO/Virgo Public Alerts User Guide](https://emfollow.docs.ligo.org/userguide/tutorial/skymaps.html))."
      ]
    },
    {
      "metadata": {
        "id": "GytiMG2XA6oS",
        "colab_type": "code",
        "outputId": "1401fdba-e662-4402-d0ca-89d5042820d1",
        "colab": {
          "base_uri": "https://localhost:8080/",
          "height": 778
        }
      },
      "cell_type": "code",
      "source": [
        "header"
      ],
      "execution_count": 0,
      "outputs": [
        {
          "output_type": "execute_result",
          "data": {
            "text/plain": [
              "[('XTENSION', 'BINTABLE'),\n",
              " ('BITPIX', 8),\n",
              " ('NAXIS', 2),\n",
              " ('NAXIS1', 32),\n",
              " ('NAXIS2', 12582912),\n",
              " ('PCOUNT', 0),\n",
              " ('GCOUNT', 1),\n",
              " ('TFIELDS', 4),\n",
              " ('TTYPE1', 'PROB'),\n",
              " ('TFORM1', 'D'),\n",
              " ('TUNIT1', 'pix-1'),\n",
              " ('TTYPE2', 'DISTMU'),\n",
              " ('TFORM2', 'D'),\n",
              " ('TUNIT2', 'Mpc'),\n",
              " ('TTYPE3', 'DISTSIGMA'),\n",
              " ('TFORM3', 'D'),\n",
              " ('TUNIT3', 'Mpc'),\n",
              " ('TTYPE4', 'DISTNORM'),\n",
              " ('TFORM4', 'D'),\n",
              " ('TUNIT4', 'Mpc-2'),\n",
              " ('PIXTYPE', 'HEALPIX'),\n",
              " ('ORDERING', 'NESTED'),\n",
              " ('COORDSYS', 'C'),\n",
              " ('NSIDE', 1024),\n",
              " ('INDXSCHM', 'IMPLICIT'),\n",
              " ('OBJECT', 'GW170818'),\n",
              " ('DATE-OBS', '2017-08-18T02:25:09.088401'),\n",
              " ('MJD-OBS', 57983.10079963422),\n",
              " ('DATE', '2018-12-07T05:21:12.820251'),\n",
              " ('CREATOR', 'ligo-skymap-from-samples'),\n",
              " ('ORIGIN', 'LIGO/Virgo'),\n",
              " ('DISTMEAN', 1033.935452663821),\n",
              " ('DISTSTD', 244.9451365743755),\n",
              " ('VCSVERS', 'ligo.skymap 0.0.14'),\n",
              " ('VCSREV', '707cac6e1e006dfcc35b7af4c2f39ba8c3b7fa22'),\n",
              " ('DATE-BLD', '2018-08-28T08:58:40'),\n",
              " ('HISTORY', ''),\n",
              " ('HISTORY', 'Generated by running the following script:'),\n",
              " ('HISTORY',\n",
              "  'ligo-skymap-from-samples --fitsoutname Combined_Isp_Sprec_skymap_time_fi'),\n",
              " ('HISTORY',\n",
              "  'x.fits.gz --seed 103876236 --objid GW170818 Combined_Isp_Sprec_post_time'),\n",
              " ('HISTORY', '_fix.dat')]"
            ]
          },
          "metadata": {
            "tags": []
          },
          "execution_count": 20
        }
      ]
    },
    {
      "metadata": {
        "id": "GpDROZHEA6of",
        "colab_type": "text"
      },
      "cell_type": "markdown",
      "source": [
        "### 3D sky maps\n",
        "[Singer et al.(2016)](https://arxiv.org/pdf/1603.07333v2.pdf) discuss a rapid algorithm for obtaining a three-dimensional probability estimates of sky location and luminosity distance from observations of binary \n",
        "compact object mergers with Advanced LIGO and Virgo. Combining the reconstructed gravitational wave volumes with positions and redshifts of possible host  galaxies  provides  a  manageable  list  of  sky location  targets  to  search  for  the  electromagnetic counterpart of the gravitational wave signal  - see the last section.\n",
        "\n",
        "<span style=\"color:#B22222\"> <strong> ↳ </strong> </span>  marginal distance posterior distribution integrated over the whole sky is reported in the header *with* \n",
        "\n",
        "       DISTMEAN    /Posterior mean distance (Mpc)\n",
        "       DISTSTB     /Posterior standard deviation of distance (Mpc)"
      ]
    },
    {
      "metadata": {
        "id": "ipeDrgwSA6oh",
        "colab_type": "text"
      },
      "cell_type": "markdown",
      "source": [
        "<span style=\"color:#B22222\"> <strong> ↳ </strong> </span> Healpy has several useful plotting routines including **[hp.mollview](https://healpy.readthedocs.io/en/stable/generated/healpy.visufunc.mollview.html#healpy.visufunc.mollview)** for plotting a Mollweide-projection all-sky map: "
      ]
    },
    {
      "metadata": {
        "id": "nBCVoVHeA6oi",
        "colab_type": "code",
        "outputId": "30050dad-0f30-42a1-986a-01e3fcda2144",
        "colab": {
          "base_uri": "https://localhost:8080/",
          "height": 441
        }
      },
      "cell_type": "code",
      "source": [
        "from matplotlib import pyplot as plt \n",
        "\n",
        "hp.mollview(prob, title='GW170817 LALInference',)\n",
        "hp.graticule(local=True)\n",
        "plt.show()"
      ],
      "execution_count": 0,
      "outputs": [
        {
          "output_type": "stream",
          "text": [
            "0.0 180.0 -180.0 180.0\n",
            "The interval between parallels is 30 deg -0.00'.\n",
            "The interval between meridians is 30 deg -0.00'.\n"
          ],
          "name": "stdout"
        },
        {
          "output_type": "display_data",
          "data": {
            "image/png": "[encoded data removed]",
            "text/plain": [
              "<Figure size 612x388.8 with 2 Axes>"
            ]
          },
          "metadata": {
            "tags": []
          }
        }
      ]
    },
    {
      "metadata": {
        "id": "iaZkKk2TA6ov",
        "colab_type": "text"
      },
      "cell_type": "markdown",
      "source": [
        "The value stored at each pixel represents the probability that the gravitational-wave source \n",
        "is located within that pixel."
      ]
    },
    {
      "metadata": {
        "id": "f5n1RKNMA6ox",
        "colab_type": "text"
      },
      "cell_type": "markdown",
      "source": [
        "<span style=\"color:#B22222\"> <strong> ↳ </strong> </span> Now we plot the gravitational-wave sky localization using a dedicate package named  [ligo.skymap](https://pypi.org/project/ligo.skymap/)."
      ]
    },
    {
      "metadata": {
        "id": "cXmPt7oRA6oy",
        "colab_type": "code",
        "cellView": "both",
        "colab": {}
      },
      "cell_type": "code",
      "source": [
        "#@title\n",
        "from matplotlib import pyplot as plt \n",
        "\n",
        "# from ligo.skymap.tool.ligo_skymap_plot import main\n",
        "# main([gw170818_skymap, '--annotate', '--contour', '50', '90',])\n",
        "# plt.show()"
      ],
      "execution_count": 0,
      "outputs": []
    },
    {
      "metadata": {
        "id": "V5_EjHJ8A6o6",
        "colab_type": "text"
      },
      "cell_type": "markdown",
      "source": [
        "The plot shows the  the 50% and 90% credible regions. The value of these areas are reported at the top left corner. These contours were constructed ranking the pixels from most probable to least, and finally counted how many pixels summed to a given total probability.\n",
        "\n",
        "In the next section, we will identify the highest probability pixel in a gravitational-wave sky localization."
      ]
    },
    {
      "metadata": {
        "id": "HCMpXwOoA6o8",
        "colab_type": "text"
      },
      "cell_type": "markdown",
      "source": [
        "###  Finding the maximum probability density pixel\n",
        "<span style=\"color:#B22222\"> <strong> ↳ </strong> </span> We are identifying the highest probability pixel `ipix_max` and the probability inside it `highest_probability`."
      ]
    },
    {
      "metadata": {
        "id": "upPU66qzA6o-",
        "colab_type": "code",
        "colab": {}
      },
      "cell_type": "code",
      "source": [
        "import numpy as np\n",
        "ipix_max = np.argmax(prob)\n",
        "highest_probability = prob[ipix_max]"
      ],
      "execution_count": 0,
      "outputs": []
    },
    {
      "metadata": {
        "id": "HzVvgxypA6pF",
        "colab_type": "text"
      },
      "cell_type": "markdown",
      "source": [
        "<span style=\"color:#B22222\"> <strong> ↳ </strong> </span> Now we define the sky coordinates `ra`, `dec` of the highest probability pixel."
      ]
    },
    {
      "metadata": {
        "id": "btK2Vta3A6pH",
        "colab_type": "code",
        "outputId": "3587a211-2c18-4bb9-cb98-7ce5e7de9b68",
        "colab": {
          "base_uri": "https://localhost:8080/",
          "height": 35
        }
      },
      "cell_type": "code",
      "source": [
        "nside = hp.get_nside(prob) # calculate the healpix resolution - nside\n",
        "\n",
        "theta, phi = hp.pix2ang(nside, ipix_max)\n",
        "ra = np.rad2deg(phi)\n",
        "dec = np.rad2deg(0.5 * np.pi - theta)\n",
        "\n",
        "ra = round(ra,5); dec = round(dec,12);\n",
        "print(\"The sky coordinates of the highest probability pixel are:\", \"ra =\",ra,\"dec =\",dec, )"
      ],
      "execution_count": 0,
      "outputs": [
        {
          "output_type": "stream",
          "text": [
            "The sky coordinates of the highest probability pixel are: ra = 341.2793 dec = 22.386924481902\n"
          ],
          "name": "stdout"
        }
      ]
    },
    {
      "metadata": {
        "id": "7DcEL6zEA6pN",
        "colab_type": "text"
      },
      "cell_type": "markdown",
      "source": [
        "The function **[hp.pix2ang](https://healpy.readthedocs.io/en/stable/generated/healpy.pixelfunc.pix2ang.html#healpy.pixelfunc.pix2ang)** converts from pixel index to spherical polar coordinates; the function **[hp.ang2pix](https://healpy.readthedocs.io/en/stable/generated/healpy.pixelfunc.ang2pix.html#healpy.pixelfunc.ang2pix)** does the reverse."
      ]
    },
    {
      "metadata": {
        "id": "PAO4ogE1A6pO",
        "colab_type": "text"
      },
      "cell_type": "markdown",
      "source": [
        "**Alternatively, you can use [astropy-healpix](https://astropy-healpix.readthedocs.io/en/latest/installation.html) to perform the same tasks.** Recommendation for the Windows OS users."
      ]
    },
    {
      "metadata": {
        "id": "O4U9KTauA6pQ",
        "colab_type": "code",
        "outputId": "05c842c1-c451-419d-9d51-2bc56a8328b7",
        "colab": {
          "base_uri": "https://localhost:8080/",
          "height": 743
        }
      },
      "cell_type": "code",
      "source": [
        "from astropy.io import fits\n",
        "hdulist = fits.open(\"https://dcc.ligo.org/public/0157/P1800381/002/GW170818_skymap.fits.gz\")\n",
        "\n",
        "hdulist[1].header"
      ],
      "execution_count": 0,
      "outputs": [
        {
          "output_type": "execute_result",
          "data": {
            "text/plain": [
              "XTENSION= 'BINTABLE'           / binary table extension                         \n",
              "BITPIX  =                    8 / array data type                                \n",
              "NAXIS   =                    2 / number of array dimensions                     \n",
              "NAXIS1  =                   32 / length of dimension 1                          \n",
              "NAXIS2  =             12582912 / length of dimension 2                          \n",
              "PCOUNT  =                    0 / number of group parameters                     \n",
              "GCOUNT  =                    1 / number of groups                               \n",
              "TFIELDS =                    4 / number of table fields                         \n",
              "TTYPE1  = 'PROB    '                                                            \n",
              "TFORM1  = 'D       '                                                            \n",
              "TUNIT1  = 'pix-1   '                                                            \n",
              "TTYPE2  = 'DISTMU  '                                                            \n",
              "TFORM2  = 'D       '                                                            \n",
              "TUNIT2  = 'Mpc     '                                                            \n",
              "TTYPE3  = 'DISTSIGMA'                                                           \n",
              "TFORM3  = 'D       '                                                            \n",
              "TUNIT3  = 'Mpc     '                                                            \n",
              "TTYPE4  = 'DISTNORM'                                                            \n",
              "TFORM4  = 'D       '                                                            \n",
              "TUNIT4  = 'Mpc-2   '                                                            \n",
              "PIXTYPE = 'HEALPIX '           / HEALPIX pixelisation                           \n",
              "ORDERING= 'NESTED  '           / Pixel ordering scheme: RING, NESTED, or NUNIQ  \n",
              "COORDSYS= 'C       '           / Ecliptic, Galactic or Celestial (equatorial)   \n",
              "NSIDE   =                 1024 / Resolution parameter of HEALPIX                \n",
              "INDXSCHM= 'IMPLICIT'           / Indexing: IMPLICIT or EXPLICIT                 \n",
              "OBJECT  = 'GW170818'           / Unique identifier for this event               \n",
              "DATE-OBS= '2017-08-18T02:25:09.088401' / UTC date of the observation            \n",
              "MJD-OBS =    57983.10079963422 / modified Julian date of the observation        \n",
              "DATE    = '2018-12-07T05:21:12.820251' / UTC date of file creation              \n",
              "CREATOR = 'ligo-skymap-from-samples' / Program that created this file           \n",
              "ORIGIN  = 'LIGO/Virgo'         / Organization responsible for this FITS file    \n",
              "DISTMEAN=    1033.935452663821 / Posterior mean distance (Mpc)                  \n",
              "DISTSTD =    244.9451365743755 / Posterior standard deviation of distance (Mpc) \n",
              "VCSVERS = 'ligo.skymap 0.0.14' / Software version                               \n",
              "VCSREV  = '707cac6e1e006dfcc35b7af4c2f39ba8c3b7fa22' / Software revision (Git)  \n",
              "DATE-BLD= '2018-08-28T08:58:40' / Software build date                           \n",
              "HISTORY                                                                         \n",
              "HISTORY Generated by running the following script:                              \n",
              "HISTORY ligo-skymap-from-samples --fitsoutname Combined_Isp_Sprec_skymap_time_fi\n",
              "HISTORY x.fits.gz --seed 103876236 --objid GW170818 Combined_Isp_Sprec_post_time\n",
              "HISTORY _fix.dat                                                                "
            ]
          },
          "metadata": {
            "tags": []
          },
          "execution_count": 25
        }
      ]
    },
    {
      "metadata": {
        "id": "S_gCi9tkA6pc",
        "colab_type": "code",
        "outputId": "d5734360-ae5c-4ebe-d22e-54d07bbff2c8",
        "colab": {
          "base_uri": "https://localhost:8080/",
          "height": 35
        }
      },
      "cell_type": "code",
      "source": [
        "from astropy_healpix.healpy import pix2ang\n",
        "\n",
        "hdulist[1].header['NSIDE'] # get the healpix resolution - nside - from the header\n",
        "\n",
        "theta, phi = hp.pix2ang(nside, ipix_max)\n",
        "ra = np.rad2deg(phi)\n",
        "dec = np.rad2deg(0.5 * np.pi - theta)\n",
        "\n",
        "ra = round(ra,5); dec = round(dec,12);\n",
        "print(\"The sky coordinates of the highest probability pixel are:\", \"ra =\",ra,\"dec =\",dec, )"
      ],
      "execution_count": 0,
      "outputs": [
        {
          "output_type": "stream",
          "text": [
            "The sky coordinates of the highest probability pixel are: ra = 341.2793 dec = 22.386924481902\n"
          ],
          "name": "stdout"
        }
      ]
    },
    {
      "metadata": {
        "id": "Hg5v6mDoA6pn",
        "colab_type": "text"
      },
      "cell_type": "markdown",
      "source": [
        "## Working with GW170817 - BNS Merger"
      ]
    },
    {
      "metadata": {
        "id": "4GfzqqDyA6pt",
        "colab_type": "text"
      },
      "cell_type": "markdown",
      "source": [
        "On August 17, 2017 astronomers around the world were alerted to gravitational waves observed by the Advanced LIGO and Advanced Virgo detectors. This gravitational wave event, now known as GW170817, appeared to be the result of the merger of two neutron stars (BNS). Less than two seconds after the GW170817 signal, NASA's [Fermi](https://fermi.gsfc.nasa.gov/) satellite observed a gamma-ray burst, now known as GRB170817A, and within minutes of these initial detections telescopes around the world began an extensive observing campaign. The [Swope telescope](http://obs.carnegiescience.edu/swope) in Chile was the first to report a bright optical source (SSS17a/AT2017gfo) in the galaxy NGC 4993 and several other teams independently detected the same transient over the next minutes and hours.  \n",
        "GW170817 marks a new era of multi-messenger astronomy, where the same event is observed by both gravitational waves and electromagnetic waves. [The Dawn of Multi-Messenger Astrophysics: Observations of a Binary Neutron Star Merger](http://ligo.org/science/Publication-GW170817MMA/). \n"
      ]
    },
    {
      "metadata": {
        "id": "YCh7ERC5A6pw",
        "colab_type": "text"
      },
      "cell_type": "markdown",
      "source": [
        "\n",
        "####  ↳ Loading the skymap from the [GWOS](https://www.gw-openscience.org/catalog/) in Aladin\n",
        "* [Using Aladin GUI](https://drive.google.com/open?id=1DlWUxzqgSZpYAckaq58ZGMXHlJAaEwc4) <em>Copy and Paste the link in the Command Bar </em>\n",
        "\n",
        "####  ↳ Reading the header\n",
        "* [Using Aladin GUI](https://drive.google.com/open?id=1sl3_uedBfbbOLvSZCdckSQKPJZwWzyxE) <em>Edit → Fits header </em>\n",
        "           .\n",
        "           .\n",
        "           .\n",
        "        DISTMEAN=    38.59 / Posterior mean distance (Mpc)\n",
        "        DISTSTD =     6.99 / Posterior standard deviation of distance (Mpc)\n",
        "           .\n",
        "           .\n",
        "           .\n",
        "\n",
        "####  ↳ Creating the 90% confidence level \n",
        "* [Using Aladin GUI](https://drive.google.com/open?id=1aH-YvEyN9xeD9kGZkQ7ASXNcDK-33KUt) <em>Coverage → Generate a MOC based on... → The current probability skymap → MOC generation window </em>\n",
        "\n",
        "\n",
        "####  ↳ Setting Drawing method\n",
        "* [Using Aladin GUI](https://drive.google.com/open?id=1Xy6S-y9SRB_TIKFYcecUrXtqdAZ96YcI) <em> Aladin stack → Select the plane → right-click → Properties...  → Properties window   </em>\n",
        "\n",
        "####  ↳ Querying the GLADE catalog (v2.3)\n",
        "* [Using Aladin GUI](https://drive.google.com/open?id=11rCSzdUd4AP49T26ujOyQfZ0CQ4e9KP1) <em> Aladin data collections tree → Select → click on the catalog item → in the popup menu check  → by region&MOC   </em>\n",
        "\n",
        "####  ↳ Filtering the galaxies  according with the distance information\n",
        "* [Using Aladin GUI](https://drive.google.com/open?id=1FJ0GtEt4qXOtEmET7mXtCW_0lggouXUm) <em> Catalog →  Create a filter  → Properties window → Advanced mode → Or enter your filter definition: `${Dist}>31 && ${Dist}<45 {draw}`    </em>\n",
        " \n",
        "####  ↳ Search for the host galaxy NGC 4993\n",
        "* [Using Aladin GUI](https://drive.google.com/open?id=1cSeL3HJBAEXAqBOGSdb5zTAAZPhpVPpM) <em>Type in the Command bar: NGC 4993    </em>"
      ]
    }
  ]
}