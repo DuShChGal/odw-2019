{
 "cells": [
  {
   "cell_type": "markdown",
   "metadata": {},
   "source": [
    "# Spectrograms of transients\n",
    "\n",
    "This tutorial shows a few examples of transients that may be found in LIGO data.\n",
    "\n",
    "Below, for each transient type:\n",
    "\n",
    "1. Find the data file in the O1 data set that corresponds to the GPS time\n",
    " 1. Hint: See https://losc.ligo.org/archive/O1/\n",
    "1. Download the data file\n",
    "1. Read in the data file, and plot a spectrogram of 200 ms of whitened data around the transient\n",
    "1. Describe what you see in the spectrogram\n",
    "\n",
    "\n",
    "Possible ways to make a spectrogram of whitened data include:\n",
    "* Example with gwpy (Q-scan): https://gwpy.github.io/docs/latest/examples/timeseries/qscan.html\n",
    "* Example using matplotlib (Quickview): http://beta.mybinder.org/repo/losc-tutorial/quickview \n",
    " * Quickview code at https://github.com/losc-tutorial/quickview\n",
    "* Use https://qscan.ligo.org (no code required)"
   ]
  },
  {
   "cell_type": "markdown",
   "metadata": {},
   "source": [
    "### Imports and set-up"
   ]
  },
  {
   "cell_type": "code",
   "execution_count": 2,
   "metadata": {
    "collapsed": false
   },
   "outputs": [
    {
     "ename": "ImportError",
     "evalue": "No module named gwpy.timeseries",
     "output_type": "error",
     "traceback": [
      "\u001b[0;31m---------------------------------------------------------------------------\u001b[0m",
      "\u001b[0;31mImportError\u001b[0m                               Traceback (most recent call last)",
      "\u001b[0;32m<ipython-input-2-6c80888b3438>\u001b[0m in \u001b[0;36m<module>\u001b[0;34m()\u001b[0m\n\u001b[1;32m     16\u001b[0m \u001b[0;34m\u001b[0m\u001b[0m\n\u001b[1;32m     17\u001b[0m \u001b[0;32mimport\u001b[0m \u001b[0mos\u001b[0m\u001b[0;34m\u001b[0m\u001b[0m\n\u001b[0;32m---> 18\u001b[0;31m \u001b[0;32mfrom\u001b[0m \u001b[0mgwpy\u001b[0m\u001b[0;34m.\u001b[0m\u001b[0mtimeseries\u001b[0m \u001b[0;32mimport\u001b[0m \u001b[0mTimeSeries\u001b[0m\u001b[0;34m\u001b[0m\u001b[0m\n\u001b[0m\u001b[1;32m     19\u001b[0m \u001b[0;34m\u001b[0m\u001b[0m\n\u001b[1;32m     20\u001b[0m \u001b[0;31m# the IPython magic below must be commented out in the .py file, since it doesn't work there.\u001b[0m\u001b[0;34m\u001b[0m\u001b[0;34m\u001b[0m\u001b[0m\n",
      "\u001b[0;31mImportError\u001b[0m: No module named gwpy.timeseries"
     ]
    }
   ],
   "source": [
    "# Standard python numerical analysis imports:\n",
    "#!pip install gwpy\n",
    "import numpy as np\n",
    "from scipy import signal\n",
    "from scipy.interpolate import interp1d\n",
    "from scipy.signal import butter, filtfilt, iirdesign, zpk2tf, freqz\n",
    "import h5py\n",
    "import json\n",
    "import sys\n",
    "\n",
    "pyversion = sys.version_info.major\n",
    "if pyversion == 2: \n",
    "    import urllib2\n",
    "else:\n",
    "    import urllib.request\n",
    "    \n",
    "import os\n",
    "from gwpy.timeseries import TimeSeries\n",
    "\n",
    "# the IPython magic below must be commented out in the .py file, since it doesn't work there.\n",
    "%matplotlib inline\n",
    "%config InlineBackend.figure_format = 'retina'\n",
    "import matplotlib.pyplot as plt\n",
    "import matplotlib.mlab as mlab"
   ]
  },
  {
   "cell_type": "markdown",
   "metadata": {},
   "source": [
    "### Define a handy function for data downloads"
   ]
  },
  {
   "cell_type": "code",
   "execution_count": null,
   "metadata": {
    "collapsed": true
   },
   "outputs": [],
   "source": [
    "try: os.mkdir('./data')\n",
    "except: pass\n",
    "\n",
    "# -- Handy function to download data file, and return the filename\n",
    "def download(url):\n",
    "    filename = os.path.join('data', url.split('/')[-1])\n",
    "    print('Downloading ' + url )\n",
    "    if pyversion == 2: \n",
    "        r = urllib2.urlopen(url).read()\n",
    "        f = open(filename, 'w')   # write it to the right filename\n",
    "        f.write(r)\n",
    "        f.close()\n",
    "    else:\n",
    "        urllib.request.urlretrieve(url, filename)  \n",
    "    print(\"File download complete\")\n",
    "    return filename"
   ]
  },
  {
   "cell_type": "markdown",
   "metadata": {},
   "source": [
    "## Hardware Injections\n",
    "\n",
    "LIGO data includes simulated signals known as hardware injections.\n",
    "\n",
    "1. See the O1 hardware injection page: https://losc.ligo.org/o1_inj/\n",
    "1. Find a CBC injection with SNR > 30\n",
    "1. Download the data file, and make a spectrogram of the whitened data\n",
    "\n",
    "#### Question:\n",
    "* Describe what you seen in the spectrogram:"
   ]
  },
  {
   "cell_type": "markdown",
   "metadata": {},
   "source": [
    "#### To help get started, we'll show you this one using gwpy"
   ]
  },
  {
   "cell_type": "code",
   "execution_count": null,
   "metadata": {
    "collapsed": false
   },
   "outputs": [],
   "source": [
    "## Make a spectrogram of a hardware injection\n",
    "gps_inj = 1128668183\n",
    "url_inj = 'https://losc.ligo.org/archive/data/O1/1128267776/H-H1_LOSC_4_V1-1128665088-4096.hdf5'\n",
    "fn_inj = download(url_inj)"
   ]
  },
  {
   "cell_type": "code",
   "execution_count": null,
   "metadata": {
    "collapsed": false
   },
   "outputs": [],
   "source": [
    "gps = gps_inj\n",
    "fn = fn_inj\n",
    "inj_data = TimeSeries.read(fn, format='hdf5.losc', start=gps-16, end=gps+16)\n",
    "# -- Follow example at https://gwpy.github.io/docs/stable/examples/timeseries/qscan.html\n",
    "plot = inj_data.q_transform().crop(gps-.15, gps+.05).plot(figsize=[8, 4])\n",
    "ax = plot.gca()\n",
    "ax.set_epoch(gps)\n",
    "ax.set_yscale('log')\n",
    "ax.set_xlabel('Time [milliseconds]')\n",
    "ax.set_ylim(20, 500)\n",
    "ax.grid(True, axis='y', which='both')\n",
    "plot.add_colorbar(cmap='viridis', label='Normalized energy')"
   ]
  },
  {
   "cell_type": "markdown",
   "metadata": {},
   "source": [
    "## Binary Black Hole Merger: GW150914\n",
    "\n",
    "1. Find the GPS time of GW150914\n",
    " * Hint: https://losc.ligo.org/events/\n",
    "1. Download a data file containing this time\n",
    "1. Plot a spectrogram of whitened data around this time\n",
    "\n",
    "#### Question:\n",
    "* Describe what you seen in the spectrogram:"
   ]
  },
  {
   "cell_type": "code",
   "execution_count": null,
   "metadata": {
    "collapsed": true
   },
   "outputs": [],
   "source": [
    "#-- GW150914\n",
    "# gps_bbh = XXX\n",
    "# url_bbh = XXX\n",
    "# fn = download(url_bbh)"
   ]
  },
  {
   "cell_type": "markdown",
   "metadata": {},
   "source": [
    "## Koi Fish Glitch\n",
    "\n",
    "\"Glitches\" are transient instrumental artifacts in the data.  Glitches may be classified by their time-frequency properties and/or cause.  One class of glitches is known as \"Koi Fish\"\n",
    "\n",
    "1. A Koi Fish glitch occurs in Hanford data at GPS 1132401286.330\n",
    "1. Find and download the corresponding data file from O1\n",
    "1. Make a spectrogram of the whitened data around this event\n",
    "\n",
    "#### Question:\n",
    "* Describe what you seen in the spectrogram:\n"
   ]
  },
  {
   "cell_type": "code",
   "execution_count": null,
   "metadata": {
    "collapsed": true
   },
   "outputs": [],
   "source": [
    "# -- Koi fish glitch\n",
    "#gps_koi = 1132401286.330\n",
    "#url_koi = 'https://losc.ligo.org/archive/data/O1/1131413504/H-H1_LOSC_4_V1-1132400640-4096.hdf5'\n",
    "#fn_koi = download(url)"
   ]
  },
  {
   "cell_type": "markdown",
   "metadata": {},
   "source": [
    "## Scratchy glitch\n",
    "\n",
    "Another category of glitches are known as \"Scratchy Glitches\".\n",
    "\n",
    "1. A Scratchy glitch occurs in Hanford data at GPS 1128779800.440\n",
    "2. Find the corresponding data file and download it\n",
    "3. Plot a spectrogram of the whitened data around this time\n",
    "\n",
    "#### Question:\n",
    "* Describe what you seen in the spectrogram:"
   ]
  },
  {
   "cell_type": "code",
   "execution_count": null,
   "metadata": {
    "collapsed": true
   },
   "outputs": [],
   "source": [
    "# -- Scratchy glitch\n",
    "#gps_scratch = 1128779800.440\n",
    "#url_scratch = 'https://losc.ligo.org/archive/data/O1/1128267776/H-H1_LOSC_4_V1-1128779776-4096.hdf5'\n",
    "#fn_scratch = download(url)"
   ]
  },
  {
   "cell_type": "markdown",
   "metadata": {},
   "source": [
    "### More to Explore\n",
    "\n",
    "The S6 data set contains hardware injections with a variety of morphologies, including supernovae waveforms, cosmic strings, white noise bursts, black hole ringdowns, and sine-Gaussians.\n",
    "\n",
    "For documentation, see:\n",
    "https://losc.ligo.org/s6hwburst/\n",
    "\n",
    "1. Use the documentation at https://losc.ligo.org/s6hwburst/ to find times of each of these morphologies.\n",
    "\n",
    "2. Make a spectrogram for 1 loud example of each morphology type\n",
    "\n",
    "3. See if you can write an algorithm that looks for burst signals by thresholding on loud pixels in the spectrogram, and then looks for times of coincident \"triggers\" between detectors\n",
    "\n",
    "4. You can test your algorithm on some burst hardware injections.  For comparison, try some times without hardware injections."
   ]
  }
 ],
 "metadata": {
  "kernelspec": {
   "display_name": "Python 2",
   "language": "python",
   "name": "python2"
  },
  "language_info": {
   "codemirror_mode": {
    "name": "ipython",
    "version": 2
   },
   "file_extension": ".py",
   "mimetype": "text/x-python",
   "name": "python",
   "nbconvert_exporter": "python",
   "pygments_lexer": "ipython2",
   "version": "2.7.12"
  }
 },
 "nbformat": 4,
 "nbformat_minor": 2
}
