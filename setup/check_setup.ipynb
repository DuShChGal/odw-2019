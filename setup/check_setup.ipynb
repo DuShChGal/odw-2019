{
 "cells": [
  {
   "cell_type": "markdown",
   "metadata": {},
   "source": [
    "# Check Setup for Open Data Workshop\n",
    "\n",
    "This notebook will check for the following packages:\n",
    "\n",
    "* numpy\n",
    "* matplotlib\n",
    "* gwpy\n",
    "* pycbc\n",
    "* astropy\n",
    "* lal\n",
    "\n",
    "If these are all present, this notebook should run with no errors."
   ]
  },
  {
   "cell_type": "code",
   "execution_count": 1,
   "metadata": {},
   "outputs": [
    {
     "name": "stdout",
     "output_type": "stream",
     "text": [
      "Downloading software requirements ...\n",
      "Installing software, this could take a few minutes ...\n",
      "Software installation complete\n"
     ]
    }
   ],
   "source": [
    "# -- If needed: Install some packages right now.\n",
    "\n",
    "print(\"Downloading software requirements ...\")\n",
    "!wget -q https://raw.githubusercontent.com/gw-odw/odw-2019/master/requirements.txt -O requirements.txt\n",
    "\n",
    "print(\"Installing software, this could take a few minutes ...\")\n",
    "!pip install -q -r ./requirements.txt\n",
    "\n",
    "print(\"Software installation complete\")"
   ]
  },
  {
   "cell_type": "code",
   "execution_count": 2,
   "metadata": {},
   "outputs": [
    {
     "name": "stdout",
     "output_type": "stream",
     "text": [
      "The software is ready!\n"
     ]
    }
   ],
   "source": [
    "import numpy\n",
    "import matplotlib\n",
    "import lal\n",
    "import lal.utils\n",
    "import gwpy\n",
    "import astropy\n",
    "import pycbc\n",
    "\n",
    "print(\"The software is ready!\")"
   ]
  }
 ],
 "metadata": {
  "kernelspec": {
   "display_name": "Python 2",
   "language": "python",
   "name": "python2"
  },
  "language_info": {
   "codemirror_mode": {
    "name": "ipython",
    "version": 2
   },
   "file_extension": ".py",
   "mimetype": "text/x-python",
   "name": "python",
   "nbconvert_exporter": "python",
   "pygments_lexer": "ipython2",
   "version": "2.7.5"
  }
 },
 "nbformat": 4,
 "nbformat_minor": 2
}
