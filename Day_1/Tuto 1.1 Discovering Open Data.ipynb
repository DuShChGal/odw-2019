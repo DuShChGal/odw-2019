{
  "nbformat": 4,
  "nbformat_minor": 0,
  "metadata": {
    "kernelspec": {
      "display_name": "Python 3",
      "language": "python",
      "name": "python3"
    },
    "language_info": {
      "codemirror_mode": {
        "name": "ipython",
        "version": 3
      },
      "file_extension": ".py",
      "mimetype": "text/x-python",
      "name": "python",
      "nbconvert_exporter": "python",
      "pygments_lexer": "ipython3",
      "version": "3.5.3"
    },
    "colab": {
      "name": "Tuto 1.1 Discovering Open Data.ipynb",
      "provenance": []
    }
  },
  "cells": [
    {
      "cell_type": "markdown",
      "metadata": {
        "id": "R_adEak0Q8NT",
        "colab_type": "text"
      },
      "source": [
        "<img style=\"float: left;padding: 1.3em\" src=\"https://indico.in2p3.fr/event/18313/logo-786578160.png\">  \n",
        "\n",
        "#  Gravitational Wave Open Data Workshop #2\n",
        "\n",
        "\n",
        "#### Tutorial 1.1: Discovering open data from GW observatories\n",
        "\n",
        "This notebook describes how to discover what data are available from the [Gravitational-Wave Open Science Center (GWOSC)](https://www.gw-openscience.org).\n",
        "    \n",
        "[Click this link to view this tutorial in Google Colaboratory](https://colab.research.google.com/github/gw-odw/odw-2019/blob/master/Day_1/Tuto 1.1 Discovering Open Data.ipynb)"
      ]
    },
    {
      "cell_type": "markdown",
      "metadata": {
        "id": "W6msjCJVQ8NV",
        "colab_type": "text"
      },
      "source": [
        "## Software installation  (execute only if running on a cloud platform or haven't done the installation yet!)\n",
        "\n",
        "First, we need to install the software, which we do so using the `requirements.txt` file provided for this workshop:"
      ]
    },
    {
      "cell_type": "code",
      "metadata": {
        "id": "DXoxopwkQ8NY",
        "colab_type": "code",
        "colab": {},
        "outputId": "4153209e-2f25-4b92-c039-ac552ee5aec8"
      },
      "source": [
        "import sys\n",
        "!curl --silent --output requirements.txt https://raw.githubusercontent.com/jkanner/odw-2019/master/requirements.txt\n",
        "!{sys.executable} -m pip install -q -r requirements.txt"
      ],
      "execution_count": 0,
      "outputs": [
        {
          "output_type": "stream",
          "text": [
            "/Users/duncan/opt/miniconda3/envs/py37/lib/python3.7/site-packages/pip/_vendor/msgpack/fallback.py:222: PendingDeprecationWarning: encoding is deprecated, Use raw=False instead.\n",
            "  PendingDeprecationWarning)\n",
            "\u001b[31mCannot uninstall 'lalsuite'. It is a distutils installed project and thus we cannot accurately determine which files belong to it which would lead to only a partial uninstall.\u001b[0m\n"
          ],
          "name": "stdout"
        }
      ]
    },
    {
      "cell_type": "markdown",
      "metadata": {
        "id": "mQ8Jjb0PQ8Ni",
        "colab_type": "text"
      },
      "source": [
        "**Important:** With Google Colab, you may need to restart the runtime after running the cell above."
      ]
    },
    {
      "cell_type": "markdown",
      "metadata": {
        "id": "L7EpVdvjQ8Nj",
        "colab_type": "text"
      },
      "source": [
        "In general, we could install just what we need for this tutorial using `pip` as follows:"
      ]
    },
    {
      "cell_type": "code",
      "metadata": {
        "id": "JzRTNoRQQ8Nl",
        "colab_type": "code",
        "colab": {},
        "outputId": "038d9cf2-af15-4f01-e23d-0616303b9d71"
      },
      "source": [
        "!{sys.executable} -m pip install \"gwosc\""
      ],
      "execution_count": 0,
      "outputs": [
        {
          "output_type": "stream",
          "text": [
            "Requirement already satisfied: gwosc in /Users/duncan/opt/miniconda3/envs/py37/lib/python3.7/site-packages (0.4.3)\r\n",
            "Requirement already satisfied: six>=1.9.0 in /Users/duncan/opt/miniconda3/envs/py37/lib/python3.7/site-packages (from gwosc) (1.12.0)\r\n"
          ],
          "name": "stdout"
        }
      ]
    },
    {
      "cell_type": "markdown",
      "metadata": {
        "id": "h94Cv2QiQ8Ns",
        "colab_type": "text"
      },
      "source": [
        "<div class=\"alert alert-info\">Here we use <code>{sys.executable} -m pip install</code>, which is just a fancy way of saying <code>pip install ...</code></div>"
      ]
    },
    {
      "cell_type": "markdown",
      "metadata": {
        "id": "F3tmmQ-hQ8Nu",
        "colab_type": "text"
      },
      "source": [
        "## Querying for event information\n",
        "\n",
        "The gwosc.datasets module provides tools to search for datasets, including filtering on GPS times.\n",
        "\n",
        "For example, we can search for what event datasets are available:"
      ]
    },
    {
      "cell_type": "code",
      "metadata": {
        "id": "-BkUqpvkQ8Nv",
        "colab_type": "code",
        "colab": {},
        "outputId": "c0ea10bf-52ed-42ff-89f4-e221e0980ace"
      },
      "source": [
        "from gwosc.datasets import find_datasets\n",
        "events = find_datasets(type=\"event\")\n",
        "print(events)"
      ],
      "execution_count": 0,
      "outputs": [
        {
          "output_type": "stream",
          "text": [
            "['151008', '151012A', '151116', '161202', '161217', '170208', '170219', '170405', '170412', '170423', '170616', '170630', '170705', '170720', 'GW150914', 'GW151012', 'GW151226', 'GW170104', 'GW170608', 'GW170729', 'GW170809', 'GW170814', 'GW170817', 'GW170818', 'GW170823']\n"
          ],
          "name": "stdout"
        }
      ]
    },
    {
      "cell_type": "markdown",
      "metadata": {
        "id": "hU1ORf0iQ8Nz",
        "colab_type": "text"
      },
      "source": [
        "As of O2, there are 25 event datasets available; 11 of those are confident detections (with the `'GW'` prefix), the other are _marginal_ detections. For more details, see [GWTC-1](https://www.gw-openscience.org/GWTC-1/). \n",
        "\n",
        "`find_datasets` also accepts a `detector` keyword to return only those datasets that include data for that detector:"
      ]
    },
    {
      "cell_type": "code",
      "metadata": {
        "id": "Hjc54bsuQ8N0",
        "colab_type": "code",
        "colab": {},
        "outputId": "1580daf9-e09a-4225-9a7d-db815219e101"
      },
      "source": [
        "print(find_datasets(type=\"event\", detector=\"V1\"))\n",
        "print(find_datasets(type=\"event\", detector=\"G1\"))"
      ],
      "execution_count": 0,
      "outputs": [
        {
          "output_type": "stream",
          "text": [
            "['GW170729', 'GW170809', 'GW170814', 'GW170817', 'GW170818']\n",
            "['GW170817']\n"
          ],
          "name": "stdout"
        }
      ]
    },
    {
      "cell_type": "markdown",
      "metadata": {
        "id": "D9_tRXpMQ8N8",
        "colab_type": "text"
      },
      "source": [
        "`find_datasets` also accepts a `segment` keyword to narrow results based on GPS time:"
      ]
    },
    {
      "cell_type": "code",
      "metadata": {
        "id": "XZTniqwHQ8N-",
        "colab_type": "code",
        "colab": {},
        "outputId": "a993b85f-d047-4618-b695-3af4d45f2cfe"
      },
      "source": [
        "print(find_datasets(type=\"event\", detector=\"L1\", segment=(1164556817, 1187733618)))"
      ],
      "execution_count": 0,
      "outputs": [
        {
          "output_type": "stream",
          "text": [
            "['161202', '161217', '170208', '170219', '170405', '170412', '170423', '170616', '170630', '170705', '170720', 'GW170104', 'GW170608', 'GW170729', 'GW170809', 'GW170814', 'GW170817', 'GW170818', 'GW170823']\n"
          ],
          "name": "stdout"
        }
      ]
    },
    {
      "cell_type": "markdown",
      "metadata": {
        "id": "7pnAItOJQ8OC",
        "colab_type": "text"
      },
      "source": [
        "Using `gwosc.datasets.event_gps`, we can query for the GPS time of a specific event:"
      ]
    },
    {
      "cell_type": "code",
      "metadata": {
        "id": "tdr8c15_Q8OD",
        "colab_type": "code",
        "colab": {},
        "outputId": "f6728512-d67a-4bbd-c192-95cef9cc775b"
      },
      "source": [
        "from gwosc.datasets import event_gps\n",
        "gps = event_gps('GW170817')\n",
        "print(gps)"
      ],
      "execution_count": 0,
      "outputs": [
        {
          "output_type": "stream",
          "text": [
            "1187008882.4\n"
          ],
          "name": "stdout"
        }
      ]
    },
    {
      "cell_type": "markdown",
      "metadata": {
        "id": "hKvQhYAOQ8OG",
        "colab_type": "text"
      },
      "source": [
        "<div class=\"alert alert-info\">All of these times are returned in the GPS time system, which counts the number of seconds that have elapsed since the start of the GPS epoch at midnight (00:00) on January 6th 1980. GWOSC provides a <a href=\"https://www.gw-openscience.org/gps/\">GPS time converter</a> you can use to translate into datetime, or you can use <a href=\"https://gwpy.github.io/docs/stable/time/\"><code>gwpy.time</code></a>.</div>"
      ]
    },
    {
      "cell_type": "markdown",
      "metadata": {
        "id": "RXVyJsDDQ8OH",
        "colab_type": "text"
      },
      "source": [
        "We can query for the GPS time interval for an observing run:"
      ]
    },
    {
      "cell_type": "code",
      "metadata": {
        "id": "QYsQSPNJQ8OK",
        "colab_type": "code",
        "colab": {},
        "outputId": "34f52eaa-3e95-4bf4-c0e6-dbb7cfbf7f2e"
      },
      "source": [
        "from gwosc.datasets import run_segment\n",
        "print(run_segment('O1'))"
      ],
      "execution_count": 0,
      "outputs": [
        {
          "output_type": "stream",
          "text": [
            "(1126051217, 1137254417)\n"
          ],
          "name": "stdout"
        }
      ]
    },
    {
      "cell_type": "markdown",
      "metadata": {
        "id": "ACFu7w4_Q8OO",
        "colab_type": "text"
      },
      "source": [
        "## Querying for data files\n",
        "\n",
        "The `gwosc.locate` module provides a function to find the URLs of data files associated with a given dataset.\n",
        "\n",
        "For event datasets, one can get the list of URLs using only the event name:"
      ]
    },
    {
      "cell_type": "code",
      "metadata": {
        "id": "uMb1bsBNQ8OQ",
        "colab_type": "code",
        "colab": {},
        "outputId": "37ceadc4-d111-4491-ba57-55d99f8203ea"
      },
      "source": [
        "from gwosc.locate import get_event_urls\n",
        "urls = get_event_urls('GW150914')\n",
        "print(urls)"
      ],
      "execution_count": 0,
      "outputs": [
        {
          "output_type": "stream",
          "text": [
            "['https://www.gw-osc.org/catalog/GWTC-1-confident/data/GW150914/H-H1_GWOSC_4KHZ_R1-1126259447-32.hdf5', 'https://www.gw-osc.org/catalog/GWTC-1-confident/data/GW150914/L-L1_GWOSC_4KHZ_R1-1126259447-32.hdf5', 'https://www.gw-osc.org/catalog/GWTC-1-confident/data/GW150914/H-H1_GWOSC_4KHZ_R1-1126257415-4096.hdf5', 'https://www.gw-osc.org/catalog/GWTC-1-confident/data/GW150914/L-L1_GWOSC_4KHZ_R1-1126257415-4096.hdf5']\n"
          ],
          "name": "stdout"
        }
      ]
    },
    {
      "cell_type": "markdown",
      "metadata": {
        "id": "19XV79-XQ8OV",
        "colab_type": "text"
      },
      "source": [
        "By default, this function returns all of the files associated with a given event, which isn't particularly helpful. However, we can can filter on any of these by using keyword arguments, for example to get the URL for the 32-second file for the LIGO-Livingston detector:"
      ]
    },
    {
      "cell_type": "code",
      "metadata": {
        "id": "H7MfuRbPQ8OW",
        "colab_type": "code",
        "colab": {},
        "outputId": "bb3dbc3c-50f0-454f-abae-047397fc8e37"
      },
      "source": [
        "urls = get_event_urls('GW150914', duration=32, detector='L1')\n",
        "print(urls)"
      ],
      "execution_count": 0,
      "outputs": [
        {
          "output_type": "stream",
          "text": [
            "['https://www.gw-osc.org/catalog/GWTC-1-confident/data/GW150914/L-L1_GWOSC_4KHZ_R1-1126259447-32.hdf5']\n"
          ],
          "name": "stdout"
        }
      ]
    },
    {
      "cell_type": "markdown",
      "metadata": {
        "id": "r_YLBpR0Q8Oe",
        "colab_type": "text"
      },
      "source": [
        "# Exercises\n",
        "\n",
        "Now that you've seen examples of how to query for dataset information using the `gwosc` package, please try and complete the following exercies using that interface:\n",
        "\n",
        "- How many months did S6 last?\n",
        "- How many events were detected during O1?\n",
        "- What file URL contains data for V1 4096 seconds around GW170817?"
      ]
    }
  ]
}