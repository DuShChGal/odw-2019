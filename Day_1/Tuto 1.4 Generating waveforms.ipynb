{
 "cells": [
  {
   "cell_type": "markdown",
   "metadata": {},
   "source": [
    "<img style=\"float: left;padding: 1.3em\" src=\"https://indico.in2p3.fr/event/18313/logo-786578160.png\">  \n",
    "\n",
    "#  Gravitational Wave Open Data Workshop #2\n",
    "\n",
    "## Paris, April 8-10 2019 [Université Paris Diderot, France](https://www.univ-paris-diderot.fr/)\n",
    "\n",
    "\n",
    "#### Tutorial 1.4: Generating Waveforms\n",
    "\n",
    "We will be using the [PyCBC](http://github.com/ligo-cbc/pycbc) library, which is used to study gravitational-wave data, find astrophysical sources due to compact binary mergers, and study their parameters. These are some of the same tools that the LIGO and Virgo collaborations use to find gravitational waves in LIGO/Virgo data \n",
    "\n",
    "In this tutorial we will walk through how find a specific signal in LIGO data. We present how to generate the waveform of a gravitational-wave merger and matched filtering, which is optimal in the case of Gaussian noise and a known signal model. In reality our noise is not entirely Guassian, and in practice we use a variety of techniques to separate signals from noise in addition to the use of the matched filter. \n",
    "\n",
    "Additional [examples](http://pycbc.org/pycbc/latest/html/#library-examples-and-interactive-tutorials) and module level documentation are [here](http://pycbc.org/pycbc/latest/html/py-modindex.html)\n",
    "\n",
    "[Click this link to view this tutorial in Google Colaboratory](https://colab.research.google.com/github/gw-odw/odw-2019/blob/master/day_1/Tuto 1.4 Generating waveforms.ipynb)"
   ]
  },
  {
   "cell_type": "markdown",
   "metadata": {},
   "source": [
    "#### Getting the software environment setup\n",
    "\n",
    "PyCBC is installable through pip, but also relies on portions of the [LALSuite]() c-library. A bundled version of this suitable for use with PyCBC is also available on Mac / Linux through pip. These can be installed as follows within the notebook."
   ]
  },
  {
   "cell_type": "code",
   "execution_count": 3,
   "metadata": {
    "collapsed": false
   },
   "outputs": [
    {
     "name": "stdout",
     "output_type": "stream",
     "text": [
      "--2019-03-18 21:07:18--  https://raw.githubusercontent.com/gw-odw/odw-2019/master/requirements.txt\n",
      "Resolving raw.githubusercontent.com (raw.githubusercontent.com)... 151.101.0.133, 151.101.64.133, 151.101.128.133, ...\n",
      "Connecting to raw.githubusercontent.com (raw.githubusercontent.com)|151.101.0.133|:443... connected.\n",
      "HTTP request sent, awaiting response... 200 OK\n",
      "Length: 98 [text/plain]\n",
      "Saving to: ‘requirements.txt’\n",
      "\n",
      "requirements.txt    100%[===================>]      98  --.-KB/s    in 0s      \n",
      "\n",
      "2019-03-18 21:07:18 (182 MB/s) - ‘requirements.txt’ saved [98/98]\n",
      "\n",
      "Collecting lalsuite==6.49 (from -r ./requirements.txt (line 1))\n",
      "  Downloading https://files.pythonhosted.org/packages/c7/d3/d77caabf6f5e4000637624c9613a6ed21bf04bdb8478a215ac3600d4b13f/lalsuite-6.49-cp27-cp27mu-manylinux1_x86_64.whl (29.9MB)\n",
      "\u001b[K    100% |████████████████████████████████| 29.9MB 52kB/s \n",
      "\u001b[?25hCollecting gwpy==0.12.2 (from -r ./requirements.txt (line 2))\n",
      "  Using cached https://files.pythonhosted.org/packages/5c/fc/0106ee5ebd4a741b3979a084204f890e75fb90a5e383b087c02502ed9c6f/gwpy-0.12.2-py2.py3-none-any.whl\n",
      "Collecting PyCBC==1.13.3 (from -r ./requirements.txt (line 3))\n",
      "  Downloading https://files.pythonhosted.org/packages/4b/6a/b62b97de775d5ef66127cbb74dc3487e6e940d9bde7a2c518c9e9e4c2d35/PyCBC-1.13.3.tar.gz (3.0MB)\n",
      "\u001b[K    100% |████████████████████████████████| 3.0MB 465kB/s \n",
      "\u001b[?25h    Complete output from command python setup.py egg_info:\n",
      "    /usr/lib/python2.7/distutils/extension.py:133: UserWarning: Unknown Extension options: 'compiler_directives'\n",
      "      warnings.warn(msg)\n",
      "    /tmp/easy_install-7JwXTA/numpy-1.15.2/setup.py:378: UserWarning: Unrecognized setuptools command, proceeding with generating Cython sources and expanding templates\n",
      "      run_build = parse_setuppy_commands()\n",
      "    Traceback (most recent call last):\n",
      "      File \"<string>\", line 1, in <module>\n",
      "      File \"/tmp/pip-build-a_9YgO/PyCBC/setup.py\", line 247, in <module>\n",
      "        'License :: OSI Approved :: GNU General Public License v3 (GPLv3)',\n",
      "      File \"/usr/lib/python2.7/distutils/core.py\", line 111, in setup\n",
      "        _setup_distribution = dist = klass(attrs)\n",
      "      File \"/usr/lib/python2.7/dist-packages/setuptools/dist.py\", line 317, in __init__\n",
      "        self.fetch_build_eggs(attrs['setup_requires'])\n",
      "      File \"/usr/lib/python2.7/dist-packages/setuptools/dist.py\", line 372, in fetch_build_eggs\n",
      "        replace_conflicting=True,\n",
      "      File \"/usr/lib/python2.7/dist-packages/pkg_resources/__init__.py\", line 846, in resolve\n",
      "        dist = best[req.key] = env.best_match(req, ws, installer)\n",
      "      File \"/usr/lib/python2.7/dist-packages/pkg_resources/__init__.py\", line 1118, in best_match\n",
      "        return self.obtain(req, installer)\n",
      "      File \"/usr/lib/python2.7/dist-packages/pkg_resources/__init__.py\", line 1130, in obtain\n",
      "        return installer(requirement)\n",
      "      File \"/usr/lib/python2.7/dist-packages/setuptools/dist.py\", line 440, in fetch_build_egg\n",
      "        return cmd.easy_install(req)\n",
      "      File \"/usr/lib/python2.7/dist-packages/setuptools/command/easy_install.py\", line 699, in easy_install\n",
      "        return self.install_item(spec, dist.location, tmpdir, deps)\n",
      "      File \"/usr/lib/python2.7/dist-packages/setuptools/command/easy_install.py\", line 725, in install_item\n",
      "        dists = self.install_eggs(spec, download, tmpdir)\n",
      "      File \"/usr/lib/python2.7/dist-packages/setuptools/command/easy_install.py\", line 906, in install_eggs\n",
      "        return self.build_and_install(setup_script, setup_base)\n",
      "      File \"/usr/lib/python2.7/dist-packages/setuptools/command/easy_install.py\", line 1145, in build_and_install\n",
      "        self.run_setup(setup_script, setup_base, args)\n",
      "      File \"/usr/lib/python2.7/dist-packages/setuptools/command/easy_install.py\", line 1131, in run_setup\n",
      "        run_setup(setup_script, args)\n",
      "      File \"/usr/lib/python2.7/dist-packages/setuptools/sandbox.py\", line 258, in run_setup\n",
      "        raise\n",
      "      File \"/usr/lib/python2.7/contextlib.py\", line 35, in __exit__\n",
      "        self.gen.throw(type, value, traceback)\n",
      "      File \"/usr/lib/python2.7/dist-packages/setuptools/sandbox.py\", line 198, in setup_context\n",
      "        yield\n",
      "      File \"/usr/lib/python2.7/contextlib.py\", line 35, in __exit__\n",
      "        self.gen.throw(type, value, traceback)\n",
      "      File \"/usr/lib/python2.7/dist-packages/setuptools/sandbox.py\", line 169, in save_modules\n",
      "        saved_exc.resume()\n",
      "      File \"/usr/lib/python2.7/dist-packages/setuptools/sandbox.py\", line 144, in resume\n",
      "        six.reraise(type, exc, self._tb)\n",
      "      File \"/usr/lib/python2.7/dist-packages/setuptools/sandbox.py\", line 157, in save_modules\n",
      "        yield saved\n",
      "      File \"/usr/lib/python2.7/dist-packages/setuptools/sandbox.py\", line 198, in setup_context\n",
      "        yield\n",
      "      File \"/usr/lib/python2.7/dist-packages/setuptools/sandbox.py\", line 255, in run_setup\n",
      "        DirectorySandbox(setup_dir).run(runner)\n",
      "      File \"/usr/lib/python2.7/dist-packages/setuptools/sandbox.py\", line 285, in run\n",
      "        return func()\n",
      "      File \"/usr/lib/python2.7/dist-packages/setuptools/sandbox.py\", line 253, in runner\n",
      "        _execfile(setup_script, ns)\n",
      "      File \"/usr/lib/python2.7/dist-packages/setuptools/sandbox.py\", line 47, in _execfile\n",
      "        exec(code, globals, locals)\n",
      "      File \"/tmp/easy_install-7JwXTA/numpy-1.15.2/setup.py\", line 403, in <module>\n",
      "    \n",
      "      File \"/tmp/easy_install-7JwXTA/numpy-1.15.2/setup.py\", line 395, in setup_package\n",
      "    \n",
      "      File \"/usr/lib/python2.7/dist-packages/numpy/distutils/core.py\", line 135, in setup\n",
      "        config = configuration()\n",
      "      File \"/tmp/easy_install-7JwXTA/numpy-1.15.2/setup.py\", line 167, in configuration\n",
      "        return version\n",
      "      File \"/usr/lib/python2.7/dist-packages/numpy/distutils/misc_util.py\", line 1001, in add_subpackage\n",
      "        caller_level = 2)\n",
      "      File \"/usr/lib/python2.7/dist-packages/numpy/distutils/misc_util.py\", line 970, in get_subpackage\n",
      "        caller_level = caller_level + 1)\n",
      "      File \"/usr/lib/python2.7/dist-packages/numpy/distutils/misc_util.py\", line 907, in _get_configuration_from_setup_py\n",
      "        config = setup_module.configuration(*args)\n",
      "      File \"numpy/setup.py\", line 10, in configuration\n",
      "        # WITHOUT ANY WARRANTY; without even the implied warranty of\n",
      "      File \"/usr/lib/python2.7/dist-packages/numpy/distutils/misc_util.py\", line 1001, in add_subpackage\n",
      "        caller_level = 2)\n",
      "      File \"/usr/lib/python2.7/dist-packages/numpy/distutils/misc_util.py\", line 970, in get_subpackage\n",
      "        caller_level = caller_level + 1)\n",
      "      File \"/usr/lib/python2.7/dist-packages/numpy/distutils/misc_util.py\", line 883, in _get_configuration_from_setup_py\n",
      "        ('.py', 'U', 1))\n",
      "      File \"/usr/lib/python2.7/dist-packages/numpy/compat/py3k.py\", line 153, in npy_load_module\n",
      "        mod = imp.load_module(name, fo, fn, info)\n",
      "      File \"numpy/core/setup.py\", line 14, in <module>\n",
      "        # You should have received a copy of the GNU General Public License along\n",
      "    ImportError: No module named _build_utils.apple_accelerate\n",
      "    \n",
      "    ----------------------------------------\n",
      "\u001b[31mCommand \"python setup.py egg_info\" failed with error code 1 in /tmp/pip-build-a_9YgO/PyCBC/\u001b[0m\n"
     ]
    }
   ],
   "source": [
    "! wget --output-document=requirements.txt 'https://raw.githubusercontent.com/gw-odw/odw-2019/master/requirements.txt'\n",
    "! pip install -r ./requirements.txt"
   ]
  },
  {
   "cell_type": "code",
   "execution_count": null,
   "metadata": {
    "collapsed": true
   },
   "outputs": [],
   "source": [
    "%matplotlib inline\n",
    "\n",
    "from pycbc.waveform import get_td_waveform\n",
    "import pylab"
   ]
  },
  {
   "cell_type": "markdown",
   "metadata": {},
   "source": [
    "### Generate your first waveform !\n",
    "\n",
    "Here we'll generate the gravitational waveform using one of the available waveform approximants. These can be generated as a time series using [`get_td_waveform`](http://pycbc.org/pycbc/latest/html/pycbc.waveform.html#pycbc.waveform.waveform.get_td_waveform). There are some additional examples using this interface [here](http://pycbc.org/pycbc/latest/html/waveform.html). The key parameters are the masses of the binary (given in solar masses), the time between samples (in seconds), the starting gravitational-wave frequency (Hz) and the name of the approximant we'd like to generate. A variety of approximants are available that include different physical effects. A full review of the different models is outside of the scope of this tutorial.\n",
    "\n",
    "In this example, we've chosen to use the 'SEOBNRv4_opt' model. There are many others available as well with different methodologies and which include different physical effects. This is an implementation of the model introduced [in this paper](https://arxiv.org/pdf/1611.03703.pdf). It models the gravitational waveform of inspiralling and merging black holes, and includes the ability for each black hole to spin in the same direction as the orbit (aligned spin)."
   ]
  },
  {
   "cell_type": "code",
   "execution_count": 1,
   "metadata": {
    "collapsed": false
   },
   "outputs": [
    {
     "ename": "NameError",
     "evalue": "name 'get_td_waveform' is not defined",
     "output_type": "error",
     "traceback": [
      "\u001b[0;31m---------------------------------------------------------------------------\u001b[0m",
      "\u001b[0;31mNameError\u001b[0m                                 Traceback (most recent call last)",
      "\u001b[0;32m<ipython-input-1-94d7e0a9974f>\u001b[0m in \u001b[0;36m<module>\u001b[0;34m()\u001b[0m\n\u001b[1;32m      1\u001b[0m \u001b[0;31m# The output of this function are the \"plus\" and \"cross\" polarizations of the gravitational-wave signal\u001b[0m\u001b[0;34m\u001b[0m\u001b[0;34m\u001b[0m\u001b[0m\n\u001b[1;32m      2\u001b[0m \u001b[0;31m# as viewed from the line of sight at a given source inclination (assumed face-on if not provided)\u001b[0m\u001b[0;34m\u001b[0m\u001b[0;34m\u001b[0m\u001b[0m\n\u001b[0;32m----> 3\u001b[0;31m hp, hc = get_td_waveform(approximant=\"SEOBNRv4_opt\",\n\u001b[0m\u001b[1;32m      4\u001b[0m                          \u001b[0mmass1\u001b[0m\u001b[0;34m=\u001b[0m\u001b[0;36m10\u001b[0m\u001b[0;34m,\u001b[0m\u001b[0;34m\u001b[0m\u001b[0m\n\u001b[1;32m      5\u001b[0m                          \u001b[0mmass2\u001b[0m\u001b[0;34m=\u001b[0m\u001b[0;36m10\u001b[0m\u001b[0;34m,\u001b[0m\u001b[0;34m\u001b[0m\u001b[0m\n",
      "\u001b[0;31mNameError\u001b[0m: name 'get_td_waveform' is not defined"
     ]
    }
   ],
   "source": [
    "# The output of this function are the \"plus\" and \"cross\" polarizations of the gravitational-wave signal \n",
    "# as viewed from the line of sight at a given source inclination (assumed face-on if not provided)\n",
    "hp, hc = get_td_waveform(approximant=\"SEOBNRv4_opt\",\n",
    "                         mass1=10,\n",
    "                         mass2=10,\n",
    "                         delta_t=1.0/4096,\n",
    "                         f_lower=30)\n",
    "\n",
    "pylab.plot(hp.sample_times, hp, label='Plus Polarization')\n",
    "pylab.plot(hp.sample_times, hc, label='Cross Polarization')\n",
    "pylab.xlabel('Time (s)')\n",
    "pylab.legend()\n",
    "pylab.grid()\n",
    "pylab.show()\n",
    "\n",
    "# Zoom in near the merger time#\n",
    "pylab.plot(hp.sample_times, hp, label='Plus Polarization')\n",
    "pylab.plot(hp.sample_times, hc, label='Cross Polarization')\n",
    "pylab.xlabel('Time (s)')\n",
    "pylab.xlim(-.01, .01)\n",
    "pylab.legend()\n",
    "pylab.grid()\n",
    "pylab.show()"
   ]
  },
  {
   "cell_type": "markdown",
   "metadata": {},
   "source": [
    "We can see that in the this case, the two polariations differ only by the phase of the signal. This holds for systems where the orbital plane of the binary doesn't precess. In the zoom-in plot, we can see the merger itself and the ringdown that follows."
   ]
  },
  {
   "cell_type": "markdown",
   "metadata": {},
   "source": [
    "### How does the waveform change with the mass of the binary?\n",
    "\n",
    "Below you can see how the length of the waveform increases for lower mass binary mergers."
   ]
  },
  {
   "cell_type": "code",
   "execution_count": 2,
   "metadata": {
    "collapsed": false
   },
   "outputs": [
    {
     "ename": "NameError",
     "evalue": "name 'get_td_waveform' is not defined",
     "output_type": "error",
     "traceback": [
      "\u001b[0;31m---------------------------------------------------------------------------\u001b[0m",
      "\u001b[0;31mNameError\u001b[0m                                 Traceback (most recent call last)",
      "\u001b[0;32m<ipython-input-2-5a1505bf23e3>\u001b[0m in \u001b[0;36m<module>\u001b[0;34m()\u001b[0m\n\u001b[1;32m      2\u001b[0m \u001b[0;31m# component of the binary has the same mass. Again, units are in solar masses.\u001b[0m\u001b[0;34m\u001b[0m\u001b[0;34m\u001b[0m\u001b[0m\n\u001b[1;32m      3\u001b[0m \u001b[0;32mfor\u001b[0m \u001b[0mm\u001b[0m \u001b[0;32min\u001b[0m \u001b[0;34m[\u001b[0m\u001b[0;36m5\u001b[0m\u001b[0;34m,\u001b[0m \u001b[0;36m10\u001b[0m\u001b[0;34m,\u001b[0m \u001b[0;36m30\u001b[0m\u001b[0;34m,\u001b[0m \u001b[0;36m100\u001b[0m\u001b[0;34m]\u001b[0m\u001b[0;34m:\u001b[0m\u001b[0;34m\u001b[0m\u001b[0m\n\u001b[0;32m----> 4\u001b[0;31m     hp, hc = get_td_waveform(approximant=\"SEOBNRv4_opt\",\n\u001b[0m\u001b[1;32m      5\u001b[0m                          \u001b[0mmass1\u001b[0m\u001b[0;34m=\u001b[0m\u001b[0mm\u001b[0m\u001b[0;34m,\u001b[0m\u001b[0;34m\u001b[0m\u001b[0m\n\u001b[1;32m      6\u001b[0m                          \u001b[0mmass2\u001b[0m\u001b[0;34m=\u001b[0m\u001b[0mm\u001b[0m\u001b[0;34m,\u001b[0m\u001b[0;34m\u001b[0m\u001b[0m\n",
      "\u001b[0;31mNameError\u001b[0m: name 'get_td_waveform' is not defined"
     ]
    }
   ],
   "source": [
    "# Component mass of each binary component. We'll simplify here and assume that each \n",
    "# component of the binary has the same mass. Again, units are in solar masses.\n",
    "for m in [5, 10, 30, 100]:\n",
    "    hp, hc = get_td_waveform(approximant=\"SEOBNRv4_opt\",\n",
    "                         mass1=m,\n",
    "                         mass2=m,\n",
    "                         delta_t=1.0/4096,\n",
    "                         f_lower=30)\n",
    "    \n",
    "    pylab.plot(hp.sample_times, hp, label='$M_{\\odot 1,2}=%s$' % m)\n",
    "pylab.legend()\n",
    "pylab.grid()\n",
    "pylab.xlabel('Time (s)')\n",
    "pylab.show()"
   ]
  },
  {
   "cell_type": "markdown",
   "metadata": {},
   "source": [
    "### Changing the distance of the waveform\n",
    "\n",
    "The distance of the waveform is also selectable when you generate a waveform. The units used are Megaparsecs. Keep in mind that no redshift effects are taken into account here, so there is a simple linear relationship between distance and amplitude"
   ]
  },
  {
   "cell_type": "code",
   "execution_count": null,
   "metadata": {
    "collapsed": true
   },
   "outputs": [],
   "source": [
    "for d in [100, 500, 1000]:\n",
    "    hp, hc = get_td_waveform(approximant=\"SEOBNRv4_opt\",\n",
    "                         mass1=10,\n",
    "                         mass2=10,\n",
    "                         delta_t=1.0/4096,\n",
    "                         f_lower=30,\n",
    "                         distance=d)\n",
    "    \n",
    "    pylab.plot(hp.sample_times, hp, label='$Distance=%sMpc$' % d)\n",
    "pylab.legend()\n",
    "pylab.grid()\n",
    "pylab.xlabel('Time (s)')\n",
    "pylab.show()"
   ]
  }
 ],
 "metadata": {
  "kernelspec": {
   "display_name": "Python 2",
   "language": "python",
   "name": "python2"
  },
  "language_info": {
   "codemirror_mode": {
    "name": "ipython",
    "version": 2
   },
   "file_extension": ".py",
   "mimetype": "text/x-python",
   "name": "python",
   "nbconvert_exporter": "python",
   "pygments_lexer": "ipython2",
   "version": "2.7.13"
  }
 },
 "nbformat": 4,
 "nbformat_minor": 2
}
