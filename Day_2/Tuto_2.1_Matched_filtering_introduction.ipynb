{
 "cells": [
  {
   "cell_type": "markdown",
   "metadata": {},
   "source": [
    "<img style=\"float: left;padding: 1.3em\" src=\"https://indico.in2p3.fr/event/18313/logo-786578160.png\">  \n",
    "\n",
    "#  Gravitational Wave Open Data Workshop #2\n",
    "\n",
    "\n",
    "## Tutorial 2.1 PyCBC Tutorial, An introduction to matched-filtering\n",
    "\n",
    "We will be using the [PyCBC](http://github.com/ligo-cbc/pycbc) library, which is used to study gravitational-wave data, find astrophysical sources due to compact binary mergers, and study their parameters. These are some of the same tools that the LIGO and Virgo collaborations use to find gravitational waves in LIGO/Virgo data \n",
    "\n",
    "In this tutorial we will walk through how find a specific signal in LIGO data. We present matched filtering in PyCBC, which is optimal in the case of Gaussian noise and a known signal model. In reality our noise is not entirely Gaussian, and in practice we use a variety of techniques to separate signals from noise in addition to the use of the matched filter. \n",
    "\n",
    "[Click this link to view this tutorial in Google Colaboratory](https://github.com/gw-odw/odw-2019/blob/master/Day_2/Tuto_2.1_Matched_filtering_introduction.ipynb)\n",
    "\n",
    "Additional [examples](http://pycbc.org/pycbc/latest/html/#library-examples-and-interactive-tutorials) and module level documentation are [here](http://pycbc.org/pycbc/latest/html/py-modindex.html)"
   ]
  },
  {
   "cell_type": "markdown",
   "metadata": {},
   "source": [
    "## Installation (execute only if running on a cloud platform!)"
   ]
  },
  {
   "cell_type": "code",
   "execution_count": null,
   "metadata": {
    "collapsed": false
   },
   "outputs": [],
   "source": [
    "! wget --output-document=requirements.txt 'https://raw.githubusercontent.com/gw-odw/odw-2019/master/requirements.txt'\n",
    "! pip install -r ./requirements.txt"
   ]
  },
  {
   "cell_type": "markdown",
   "metadata": {},
   "source": [
    "**Important:** With Google Colab, you may need to restart the runtime after running the cell above."
   ]
  },
  {
   "cell_type": "markdown",
   "metadata": {},
   "source": [
    "### Matched-filtering: Finding well modelled signals in Gaussian noise\n",
    "\n",
    "Matched filtering can be shown to be the optimal method for \"detecting\" signals---where the signal is known---in Gaussian noise. We'll explore those assumptions a little later, but for now let's demonstrate how this works.\n",
    "\n",
    "Let's assume you have a stretch of noise, white noise to start:"
   ]
  },
  {
   "cell_type": "code",
   "execution_count": null,
   "metadata": {
    "collapsed": true
   },
   "outputs": [],
   "source": [
    "%matplotlib inline\n",
    "import numpy\n",
    "import pylab\n",
    "\n",
    "sample_rate = 1024 # samples per second\n",
    "data_length = 1024 # seconds\n",
    "\n",
    "# Generate a long stretch of white noise\n",
    "data = numpy.random.normal(size=[sample_rate * data_length])\n",
    "times = numpy.arange(len(data)) / float(sample_rate)"
   ]
  },
  {
   "cell_type": "markdown",
   "metadata": {},
   "source": [
    "And then let's add a gravitational wave signal to some random part of this data."
   ]
  },
  {
   "cell_type": "code",
   "execution_count": null,
   "metadata": {
    "collapsed": false
   },
   "outputs": [],
   "source": [
    "from pycbc.waveform import get_td_waveform\n",
    "\n",
    "apx = 'IMRPhenomD'\n",
    "\n",
    "hp1, _ = get_td_waveform(approximant=apx,\n",
    "                         mass1=10,\n",
    "                         mass2=10,\n",
    "                         delta_t=1.0/sample_rate,\n",
    "                         f_lower=25)\n",
    "\n",
    "# Before adding the signal to the data we need to normalize it so that the signal is observable,\n",
    "# but not so loud as to be clearly present\n",
    "\n",
    "hp1 = hp1 / max(numpy.correlate(hp1,hp1, mode='full'))**0.5\n",
    "\n",
    "# HP1 will have 3 very loud signals (SNR = 100) and nothing quieter.\n",
    "# Astrophysical interpretation here is why are are there only 3 loud events (with same loudness) and nothing\n",
    "# quieter. Is this some repeating source? Or some very strange galaxy / cluster?\n",
    "waveform_start = numpy.random.randint(0, len(data) - len(hp1))\n",
    "data[waveform_start:waveform_start+len(hp1)] += 10 * hp1.numpy()\n",
    "\n",
    "pylab.figure()\n",
    "pylab.title(\"Looks like random noise, right?\")\n",
    "pylab.plot(data[waveform_start:waveform_start+len(hp1)], label=apx)\n"
   ]
  },
  {
   "cell_type": "markdown",
   "metadata": {},
   "source": [
    "To search for this signal we can cross-correlate the signal with the entire dataset -> Not in any way optimized at this point, just showing the method"
   ]
  },
  {
   "cell_type": "code",
   "execution_count": null,
   "metadata": {
    "collapsed": false
   },
   "outputs": [],
   "source": [
    "cross_correlation = numpy.zeros([len(data)-len(hp1)])\n",
    "hp1_numpy = hp1.numpy()\n",
    "for i in range(len(data) - len(hp1_numpy)):\n",
    "    cross_correlation[i] = (hp1_numpy * data[i:i+len(hp1_numpy)]).sum()\n",
    "\n",
    "pylab.figure()\n",
    "times = numpy.arange(len(data) - len(hp1_numpy)) / float(sample_rate)\n",
    "pylab.plot(times, cross_correlation)\n",
    "pylab.plot([waveform_start/float(sample_rate), waveform_start/float(sample_rate)], [-10,10],'r:')\n",
    "\n"
   ]
  },
  {
   "cell_type": "markdown",
   "metadata": {},
   "source": [
    "Here you can see that the largest spike from the cross-correlation comes at the time of the signal. We only really need one more ingredient to describe matched-filtering: Colored noise. Let's repeat the process, but generate a stretch of data colored with LIGO's zero-detuned--high-power noise curve. We'll use a PyCBC library to do this."
   ]
  },
  {
   "cell_type": "code",
   "execution_count": null,
   "metadata": {
    "collapsed": true
   },
   "outputs": [],
   "source": [
    "# http://pycbc.org/pycbc/latest/html/noise.html\n",
    "import pycbc.noise\n",
    "import pycbc.psd\n",
    "\n",
    "# The color of the noise matches a PSD which you provide:\n",
    "# Generate a PSD matching Advanced LIGO's zero-detuned--high-power noise curve \n",
    "flow = 10.0\n",
    "delta_f = 1.0 / 128\n",
    "flen = int(sample_rate / (2 * delta_f)) + 1\n",
    "psd = pycbc.psd.aLIGOZeroDetHighPower(flen, delta_f, flow)\n",
    "\n",
    "# Generate colored noise\n",
    "delta_t = 1.0 / sample_rate\n",
    "ts = pycbc.noise.noise_from_psd(data_length*sample_rate, delta_t, psd, seed=127)\n",
    "ts[waveform_start:waveform_start+len(hp1)] += hp1.numpy() * 1E-20\n",
    "\n"
   ]
  },
  {
   "cell_type": "markdown",
   "metadata": {},
   "source": [
    "Then all we need to do is to \"whiten\" both the data, and the template waveform. This can be done, in the frequency domain, by dividing by the PSD. This *can* be done in the time domain as well, but it's more intuitive in the frequency domain"
   ]
  },
  {
   "cell_type": "code",
   "execution_count": null,
   "metadata": {
    "collapsed": false
   },
   "outputs": [],
   "source": [
    "# Generate a PSD for whitening the data\n",
    "from pycbc.types import TimeSeries\n",
    "flow = 10.0\n",
    "delta_f = 1.0 / data_length\n",
    "flen = int(sample_rate / (2 * delta_f)) + 1\n",
    "psd_td = pycbc.psd.aLIGOZeroDetHighPower(flen, delta_f, 0)\n",
    "delta_f = sample_rate / float(len(hp1))\n",
    "flen = int(sample_rate / (2 * delta_f)) + 1\n",
    "psd_hp1 = pycbc.psd.aLIGOZeroDetHighPower(flen, delta_f, 0)\n",
    "\n",
    "# Set 0th and Nth value to avoid inf\n",
    "psd_td[0] = psd_td[1]\n",
    "psd_td[len(psd_td) - 1] = psd_td[len(psd_td) - 2]\n",
    "\n",
    "psd_hp1[0] = psd_hp1[1]\n",
    "psd_hp1[len(psd_hp1) - 1] = psd_hp1[len(psd_hp1) - 2]\n",
    "\n",
    "data_whitened = (ts.to_frequencyseries() / psd_td**0.5).to_timeseries()\n",
    "hp1_whitened = (hp1.to_frequencyseries() / psd_hp1**0.5).to_timeseries() * 1E-21\n"
   ]
  },
  {
   "cell_type": "code",
   "execution_count": null,
   "metadata": {
    "collapsed": false
   },
   "outputs": [],
   "source": [
    "cross_correlation = numpy.zeros([len(data)-len(hp1)])\n",
    "hp1n = hp1_whitened.numpy()\n",
    "datan = data_whitened.numpy()\n",
    "for i in range(len(datan) - len(hp1n)):\n",
    "    cross_correlation[i] = (hp1n * datan[i:i+len(hp1n)]).sum()\n",
    "\n",
    "pylab.figure()\n",
    "times = numpy.arange(len(datan) - len(hp1n)) / float(sample_rate)\n",
    "pylab.plot(times, cross_correlation)\n",
    "pylab.plot([waveform_start/float(sample_rate), waveform_start/float(sample_rate)],\n",
    "           [(min(cross_correlation))*1.1,(max(cross_correlation))*1.1],'r:')\n"
   ]
  },
  {
   "cell_type": "markdown",
   "metadata": {},
   "source": [
    "### Optimizing a matched-filter\n",
    "\n",
    "That's all that a matched-filter is. A cross-correlation of the data with a template waveform performed as a function of time. This cross-correlation walking through the data is a convolution operation. Convolution operations are more optimally performed in the frequency domain, which becomes a `O(N ln N)` operation, as opposed to the `O(N^2)` operation shown here. You can also conveniently vary the phase of the signal in the frequency domain, as we will illustrate in the next tutorial. PyCBC implements a frequency-domain matched-filtering engine. Let's move to the next tutorial now, where we will demonstrate its use on real data."
   ]
  },
  {
   "cell_type": "code",
   "execution_count": null,
   "metadata": {
    "collapsed": true
   },
   "outputs": [],
   "source": []
  }
 ],
 "metadata": {
  "kernelspec": {
   "display_name": "Python 2",
   "language": "python",
   "name": "python2"
  },
  "language_info": {
   "codemirror_mode": {
    "name": "ipython",
    "version": 2
   },
   "file_extension": ".py",
   "mimetype": "text/x-python",
   "name": "python",
   "nbconvert_exporter": "python",
   "pygments_lexer": "ipython2",
   "version": "2.7.13"
  }
 },
 "nbformat": 4,
 "nbformat_minor": 2
}
