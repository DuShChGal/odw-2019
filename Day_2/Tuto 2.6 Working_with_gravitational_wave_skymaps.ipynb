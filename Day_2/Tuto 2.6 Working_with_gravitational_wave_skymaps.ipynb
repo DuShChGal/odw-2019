{
  "nbformat": 4,
  "nbformat_minor": 0,
  "metadata": {
    "colab": {
      "name": "Working with gravitational-wave skymaps.ipynb",
      "provenance": [],
      "collapsed_sections": []
    },
    "kernelspec": {
      "display_name": "Python 3",
      "language": "python",
      "name": "python3"
    },
    "language_info": {
      "codemirror_mode": {
        "name": "ipython",
        "version": 3
      },
      "file_extension": ".py",
      "mimetype": "text/x-python",
      "name": "python",
      "nbconvert_exporter": "python",
      "pygments_lexer": "ipython3",
      "version": "3.5.3"
    }
  },
  "cells": [
    {
      "cell_type": "markdown",
      "metadata": {
        "colab_type": "text",
        "id": "7Gh4yLBUA6nR"
      },
      "source": [
        "<img style=\"float: left;padding: 1.3em\" src=\"https://indico.in2p3.fr/event/18313/logo-786578160.png\">  \n",
        "\n",
        "#  Gravitational Wave Open Data Workshop #2\n",
        "\n",
        "\n",
        "#### Tutorial 2.6: skymap and source localization of gravitational-wave events\n",
        "\n",
        "In this tutorial we will learn how: \n",
        "\n",
        "    1) to visualize over the sky the gravitational-wave localization \n",
        "    2) to get information from the image's header\n",
        "    3) to identify the maximum probability pixel \n",
        "    4) to create the confidence levels and query the galaxy catalog(s)\n",
        "    \n",
        "[Click this link to view this tutorial in Google Colaboratory](https://colab.research.google.com/github/gw-odw/odw-2019/blob/master/Day_2/Tuto%202.6%20Working_with_gravitational_wave_skymaps.ipynb)"
      ]
    },
    {
      "cell_type": "markdown",
      "metadata": {
        "colab_type": "text",
        "id": "XoXK5903A6nW"
      },
      "source": [
        "##  Installation  (execute only if running on a cloud platform!)"
      ]
    },
    {
      "cell_type": "code",
      "metadata": {
        "colab_type": "code",
        "id": "M7bP71f5CLWj",
        "outputId": "76ec8096-5312-4b86-cfbf-09c0eb4c7127",
        "colab": {
          "base_uri": "https://localhost:8080/",
          "height": 1000
        }
      },
      "source": [
        "! wget --output-document=requirements.txt 'https://raw.githubusercontent.com/jkanner/odw-2019/master/nrequirements.txt'\n",
        "! pip install -r ./requirements.txt"
      ],
      "execution_count": 1,
      "outputs": [
        {
          "output_type": "stream",
          "text": [
            "--2020-01-16 03:31:35--  https://raw.githubusercontent.com/jkanner/odw-2019/master/nrequirements.txt\n",
            "Resolving raw.githubusercontent.com (raw.githubusercontent.com)... 151.101.0.133, 151.101.64.133, 151.101.128.133, ...\n",
            "Connecting to raw.githubusercontent.com (raw.githubusercontent.com)|151.101.0.133|:443... connected.\n",
            "HTTP request sent, awaiting response... 200 OK\n",
            "Length: 129 [text/plain]\n",
            "Saving to: ‘requirements.txt’\n",
            "\n",
            "\rrequirements.txt      0%[                    ]       0  --.-KB/s               \rrequirements.txt    100%[===================>]     129  --.-KB/s    in 0s      \n",
            "\n",
            "2020-01-16 03:31:36 (32.4 MB/s) - ‘requirements.txt’ saved [129/129]\n",
            "\n",
            "Requirement already satisfied: numpy==1.17.5 in /usr/local/lib/python3.6/dist-packages (from -r ./requirements.txt (line 1)) (1.17.5)\n",
            "Collecting lalsuite==6.66\n",
            "\u001b[?25l  Downloading https://files.pythonhosted.org/packages/9f/97/e11de8f199cc6325e36bdd0c06f044b4310a3b5aaa0eb53f103651777a7d/lalsuite-6.66-cp36-cp36m-manylinux2010_x86_64.whl (28.5MB)\n",
            "\u001b[K     |████████████████████████████████| 28.5MB 148kB/s \n",
            "\u001b[?25hCollecting gwpy==1.0.1\n",
            "\u001b[?25l  Downloading https://files.pythonhosted.org/packages/f0/33/6c78801e1f6f55932321e1de80f9fe6ba006298cc3e03978a88859286e6f/gwpy-1.0.1-py2.py3-none-any.whl (1.4MB)\n",
            "\u001b[K     |████████████████████████████████| 1.4MB 41.4MB/s \n",
            "\u001b[?25hCollecting PyCBC==1.15.3\n",
            "\u001b[?25l  Downloading https://files.pythonhosted.org/packages/4f/69/a62938cb5f3e143bcf44edbfa1bcca023578caa04b741bf4c5f6d9bd7fd6/PyCBC-1.15.3.tar.gz (3.1MB)\n",
            "\u001b[K     |████████████████████████████████| 3.1MB 42.5MB/s \n",
            "\u001b[?25h  Installing build dependencies ... \u001b[?25l\u001b[?25hdone\n",
            "  Getting requirements to build wheel ... \u001b[?25l\u001b[?25hdone\n",
            "    Preparing wheel metadata ... \u001b[?25l\u001b[?25hdone\n",
            "Collecting gwosc==0.4.3\n",
            "  Downloading https://files.pythonhosted.org/packages/6d/ff/67426ce11f9f3432e020f5d5ef796e1d8e1c2a76b555c8705177f4347f99/gwosc-0.4.3-py2.py3-none-any.whl\n",
            "Collecting bilby==0.6.3\n",
            "\u001b[?25l  Downloading https://files.pythonhosted.org/packages/6d/34/b3eb6fe074775cdded846aa0e5e0d3e9c02fc234d02549a0e2a5523f19cf/bilby-0.6.3.tar.gz (1.5MB)\n",
            "\u001b[K     |████████████████████████████████| 1.5MB 47.1MB/s \n",
            "\u001b[?25hCollecting healpy==1.13.0\n",
            "\u001b[?25l  Downloading https://files.pythonhosted.org/packages/30/18/04e88aff3d4cc6818465c0e397f8e87fb51403f65afc5c119f90c4932ba3/healpy-1.13.0-cp36-cp36m-manylinux1_x86_64.whl (11.8MB)\n",
            "\u001b[K     |████████████████████████████████| 11.8MB 170kB/s \n",
            "\u001b[?25hRequirement already satisfied: astropy==4.0 in /usr/local/lib/python3.6/dist-packages (from -r ./requirements.txt (line 8)) (4.0)\n",
            "Requirement already satisfied: scipy==1.4.1 in /usr/local/lib/python3.6/dist-packages (from -r ./requirements.txt (line 9)) (1.4.1)\n",
            "Collecting lscsoft-glue\n",
            "\u001b[?25l  Downloading https://files.pythonhosted.org/packages/3b/65/e93853bc1876516db8d58f4590dba1d6b85eaf9d1bd375926ac7897e525a/lscsoft-glue-2.0.0.tar.gz (1.6MB)\n",
            "\u001b[K     |████████████████████████████████| 1.6MB 50.2MB/s \n",
            "\u001b[?25hRequirement already satisfied: python-dateutil in /usr/local/lib/python3.6/dist-packages (from lalsuite==6.66->-r ./requirements.txt (line 2)) (2.6.1)\n",
            "Requirement already satisfied: matplotlib in /usr/local/lib/python3.6/dist-packages (from lalsuite==6.66->-r ./requirements.txt (line 2)) (3.1.2)\n",
            "Collecting ligo-segments\n",
            "\u001b[?25l  Downloading https://files.pythonhosted.org/packages/62/cd/225e331e95cf6aff8ba13bf9a8053b29248a5e71f7fa9bbb1f0db1eaadff/ligo-segments-1.2.0.tar.gz (48kB)\n",
            "\u001b[K     |████████████████████████████████| 51kB 6.3MB/s \n",
            "\u001b[?25hRequirement already satisfied: h5py>=1.3 in /usr/local/lib/python3.6/dist-packages (from gwpy==1.0.1->-r ./requirements.txt (line 3)) (2.8.0)\n",
            "Collecting gwdatafind\n",
            "  Downloading https://files.pythonhosted.org/packages/d6/9e/616124723b7a8f2a5399f9288b056bb31f37222b0b7cae46f6bafaa42154/gwdatafind-1.0.4-py2.py3-none-any.whl\n",
            "Collecting dqsegdb2\n",
            "  Downloading https://files.pythonhosted.org/packages/5d/97/355617233a3b4a25966b35a536379d23345e9783db009248a199a48e60dd/dqsegdb2-1.0.1-py2.py3-none-any.whl\n",
            "Requirement already satisfied: tqdm>=4.10.0 in /usr/local/lib/python3.6/dist-packages (from gwpy==1.0.1->-r ./requirements.txt (line 3)) (4.28.1)\n",
            "Collecting ligotimegps>=1.2.1\n",
            "  Downloading https://files.pythonhosted.org/packages/69/b6/6d6d0585fa2ae936a9f5d411b1f0fbe9fcb0aca0c51a775aa4f8f95fdf5e/ligotimegps-2.0.1-py2.py3-none-any.whl\n",
            "Requirement already satisfied: six>=1.5 in /usr/local/lib/python3.6/dist-packages (from gwpy==1.0.1->-r ./requirements.txt (line 3)) (1.12.0)\n",
            "Requirement already satisfied: requests>=1.2.1 in /usr/local/lib/python3.6/dist-packages (from PyCBC==1.15.3->-r ./requirements.txt (line 4)) (2.21.0)\n",
            "Requirement already satisfied: beautifulsoup4>=4.6.0 in /usr/local/lib/python3.6/dist-packages (from PyCBC==1.15.3->-r ./requirements.txt (line 4)) (4.6.3)\n",
            "Requirement already satisfied: pillow in /usr/local/lib/python3.6/dist-packages (from PyCBC==1.15.3->-r ./requirements.txt (line 4)) (6.2.2)\n",
            "Requirement already satisfied: decorator>=3.4.2 in /usr/local/lib/python3.6/dist-packages (from PyCBC==1.15.3->-r ./requirements.txt (line 4)) (4.4.1)\n",
            "Collecting emcee==2.2.1\n",
            "  Downloading https://files.pythonhosted.org/packages/3f/d3/7635106605dedccd08705beac53be4c43a8da1caad6be667adbf93ed0965/emcee-2.2.1.tar.gz\n",
            "Collecting Mako>=1.0.1\n",
            "\u001b[?25l  Downloading https://files.pythonhosted.org/packages/b0/3c/8dcd6883d009f7cae0f3157fb53e9afb05a0d3d33b3db1268ec2e6f4a56b/Mako-1.1.0.tar.gz (463kB)\n",
            "\u001b[K     |████████████████████████████████| 471kB 49.1MB/s \n",
            "\u001b[?25hRequirement already satisfied: jinja2 in /usr/local/lib/python3.6/dist-packages (from PyCBC==1.15.3->-r ./requirements.txt (line 4)) (2.10.3)\n",
            "Collecting mpld3>=0.3\n",
            "\u001b[?25l  Downloading https://files.pythonhosted.org/packages/91/95/a52d3a83d0a29ba0d6898f6727e9858fe7a43f6c2ce81a5fe7e05f0f4912/mpld3-0.3.tar.gz (788kB)\n",
            "\u001b[K     |████████████████████████████████| 798kB 45.0MB/s \n",
            "\u001b[?25hRequirement already satisfied: cython>=0.29 in /usr/local/lib/python3.6/dist-packages (from PyCBC==1.15.3->-r ./requirements.txt (line 4)) (0.29.14)\n",
            "Requirement already satisfied: future in /usr/local/lib/python3.6/dist-packages (from bilby==0.6.3->-r ./requirements.txt (line 6)) (0.16.0)\n",
            "Collecting dynesty>=1.0.0\n",
            "\u001b[?25l  Downloading https://files.pythonhosted.org/packages/78/2d/7bb5f7e6eb7e67f5dbf276cfd98cbc93b78da79cefeb5c9cfc92cee20deb/dynesty-1.0.0-py2.py3-none-any.whl (84kB)\n",
            "\u001b[K     |████████████████████████████████| 92kB 9.4MB/s \n",
            "\u001b[?25hCollecting corner\n",
            "  Downloading https://files.pythonhosted.org/packages/65/af/a7ba022f2d5787f51db91b5550cbe8e8c40a6eebd8f15119e743a09a9c19/corner-2.0.1.tar.gz\n",
            "Requirement already satisfied: dill in /usr/local/lib/python3.6/dist-packages (from bilby==0.6.3->-r ./requirements.txt (line 6)) (0.3.1.1)\n",
            "Requirement already satisfied: pandas in /usr/local/lib/python3.6/dist-packages (from bilby==0.6.3->-r ./requirements.txt (line 6)) (0.25.3)\n",
            "Collecting pyOpenSSL\n",
            "\u001b[?25l  Downloading https://files.pythonhosted.org/packages/9e/de/f8342b68fa9e981d348039954657bdf681b2ab93de27443be51865ffa310/pyOpenSSL-19.1.0-py2.py3-none-any.whl (53kB)\n",
            "\u001b[K     |████████████████████████████████| 61kB 7.2MB/s \n",
            "\u001b[?25hRequirement already satisfied: cycler>=0.10 in /usr/local/lib/python3.6/dist-packages (from matplotlib->lalsuite==6.66->-r ./requirements.txt (line 2)) (0.10.0)\n",
            "Requirement already satisfied: pyparsing!=2.0.4,!=2.1.2,!=2.1.6,>=2.0.1 in /usr/local/lib/python3.6/dist-packages (from matplotlib->lalsuite==6.66->-r ./requirements.txt (line 2)) (2.4.6)\n",
            "Requirement already satisfied: kiwisolver>=1.0.1 in /usr/local/lib/python3.6/dist-packages (from matplotlib->lalsuite==6.66->-r ./requirements.txt (line 2)) (1.1.0)\n",
            "Requirement already satisfied: idna<2.9,>=2.5 in /usr/local/lib/python3.6/dist-packages (from requests>=1.2.1->PyCBC==1.15.3->-r ./requirements.txt (line 4)) (2.8)\n",
            "Requirement already satisfied: urllib3<1.25,>=1.21.1 in /usr/local/lib/python3.6/dist-packages (from requests>=1.2.1->PyCBC==1.15.3->-r ./requirements.txt (line 4)) (1.24.3)\n",
            "Requirement already satisfied: certifi>=2017.4.17 in /usr/local/lib/python3.6/dist-packages (from requests>=1.2.1->PyCBC==1.15.3->-r ./requirements.txt (line 4)) (2019.11.28)\n",
            "Requirement already satisfied: chardet<3.1.0,>=3.0.2 in /usr/local/lib/python3.6/dist-packages (from requests>=1.2.1->PyCBC==1.15.3->-r ./requirements.txt (line 4)) (3.0.4)\n",
            "Requirement already satisfied: MarkupSafe>=0.9.2 in /usr/local/lib/python3.6/dist-packages (from Mako>=1.0.1->PyCBC==1.15.3->-r ./requirements.txt (line 4)) (1.1.1)\n",
            "Requirement already satisfied: pytz>=2017.2 in /usr/local/lib/python3.6/dist-packages (from pandas->bilby==0.6.3->-r ./requirements.txt (line 6)) (2018.9)\n",
            "Collecting cryptography>=2.8\n",
            "\u001b[?25l  Downloading https://files.pythonhosted.org/packages/ca/9a/7cece52c46546e214e10811b36b2da52ce1ea7fa203203a629b8dfadad53/cryptography-2.8-cp34-abi3-manylinux2010_x86_64.whl (2.3MB)\n",
            "\u001b[K     |████████████████████████████████| 2.3MB 47.2MB/s \n",
            "\u001b[?25hRequirement already satisfied: setuptools in /usr/local/lib/python3.6/dist-packages (from kiwisolver>=1.0.1->matplotlib->lalsuite==6.66->-r ./requirements.txt (line 2)) (42.0.2)\n",
            "Requirement already satisfied: cffi!=1.11.3,>=1.8 in /usr/local/lib/python3.6/dist-packages (from cryptography>=2.8->pyOpenSSL->lscsoft-glue->lalsuite==6.66->-r ./requirements.txt (line 2)) (1.13.2)\n",
            "Requirement already satisfied: pycparser in /usr/local/lib/python3.6/dist-packages (from cffi!=1.11.3,>=1.8->cryptography>=2.8->pyOpenSSL->lscsoft-glue->lalsuite==6.66->-r ./requirements.txt (line 2)) (2.19)\n",
            "Building wheels for collected packages: PyCBC\n",
            "  Building wheel for PyCBC (PEP 517) ... \u001b[?25l\u001b[?25hdone\n",
            "  Created wheel for PyCBC: filename=PyCBC-1.15.3-cp36-cp36m-linux_x86_64.whl size=5591095 sha256=d45a384dd3be430f983b370558a4baa734fef81540975a794583ffbab60317ed\n",
            "  Stored in directory: /root/.cache/pip/wheels/ed/93/51/aafc6d597c7e358296c1700a6b567235fd92060f040780d0dd\n",
            "Successfully built PyCBC\n",
            "Building wheels for collected packages: bilby, lscsoft-glue, ligo-segments, emcee, Mako, mpld3, corner\n",
            "  Building wheel for bilby (setup.py) ... \u001b[?25l\u001b[?25hdone\n",
            "  Created wheel for bilby: filename=bilby-0.6.3-cp36-none-any.whl size=1563687 sha256=d8fa75f12822526bd5b4cf36ec458a1cebf6d06b8a0e547391b3d7f93631f45d\n",
            "  Stored in directory: /root/.cache/pip/wheels/5d/7b/d6/a3ae90f4f15b68619cd2dbafcf9f0da48c69314663a7e6d7a3\n",
            "  Building wheel for lscsoft-glue (setup.py) ... \u001b[?25l\u001b[?25hdone\n",
            "  Created wheel for lscsoft-glue: filename=lscsoft_glue-2.0.0-cp36-cp36m-linux_x86_64.whl size=414156 sha256=3f5954914fe3a549af8006d09b6a312bd8c40bb13990e34c275b9f113b958511\n",
            "  Stored in directory: /root/.cache/pip/wheels/aa/fa/38/d61b002c627ca54f03755b9a288f4b1fa83291608a4bc47b7b\n",
            "  Building wheel for ligo-segments (setup.py) ... \u001b[?25l\u001b[?25hdone\n",
            "  Created wheel for ligo-segments: filename=ligo_segments-1.2.0-cp36-cp36m-linux_x86_64.whl size=83628 sha256=fbd3cfab8960ff53e2a974c134eb16b5fd23273cb5e126f671a65aff09317cf9\n",
            "  Stored in directory: /root/.cache/pip/wheels/5d/1e/4a/ab4122baed7d67f6abce65b2b12049d3bc7fe5dad24edf89df\n",
            "  Building wheel for emcee (setup.py) ... \u001b[?25l\u001b[?25hdone\n",
            "  Created wheel for emcee: filename=emcee-2.2.1-cp36-none-any.whl size=29596 sha256=d2a6f71e698c0259e94072cd090e43373cf3478987080adae8f853daa5e9c051\n",
            "  Stored in directory: /root/.cache/pip/wheels/2f/5d/a5/78f84e23329ad7d9b1787c9d24371100cae74cdefe25eba50d\n",
            "  Building wheel for Mako (setup.py) ... \u001b[?25l\u001b[?25hdone\n",
            "  Created wheel for Mako: filename=Mako-1.1.0-cp36-none-any.whl size=75363 sha256=8f61366768d7e64cabcaa2a2ef3e015d92011d494ce1930275d38b6ba33cec42\n",
            "  Stored in directory: /root/.cache/pip/wheels/98/32/7b/a291926643fc1d1e02593e0d9e247c5a866a366b8343b7aa27\n",
            "  Building wheel for mpld3 (setup.py) ... \u001b[?25l\u001b[?25hdone\n",
            "  Created wheel for mpld3: filename=mpld3-0.3-cp36-none-any.whl size=116679 sha256=74d4803764b7beb61e874815a49088470c429316ba339783c6f03a0224448d26\n",
            "  Stored in directory: /root/.cache/pip/wheels/c0/47/fb/8a64f89aecfe0059830479308ad42d62e898a3e3cefdf6ba28\n",
            "  Building wheel for corner (setup.py) ... \u001b[?25l\u001b[?25hdone\n",
            "  Created wheel for corner: filename=corner-2.0.1-cp36-none-any.whl size=11643 sha256=5e7dab17c15818f9e388afab9125d7ee163c56119b70cb3288e089b13d9d9bd4\n",
            "  Stored in directory: /root/.cache/pip/wheels/70/d8/e5/e0e7974a2a5757483ea5a180c937041cf6872dc9993d78234a\n",
            "Successfully built bilby lscsoft-glue ligo-segments emcee Mako mpld3 corner\n",
            "Installing collected packages: cryptography, pyOpenSSL, ligo-segments, lscsoft-glue, lalsuite, gwdatafind, gwosc, dqsegdb2, ligotimegps, gwpy, emcee, Mako, mpld3, PyCBC, dynesty, corner, bilby, healpy\n",
            "Successfully installed Mako-1.1.0 PyCBC-1.15.3 bilby-0.6.3 corner-2.0.1 cryptography-2.8 dqsegdb2-1.0.1 dynesty-1.0.0 emcee-2.2.1 gwdatafind-1.0.4 gwosc-0.4.3 gwpy-1.0.1 healpy-1.13.0 lalsuite-6.66 ligo-segments-1.2.0 ligotimegps-2.0.1 lscsoft-glue-2.0.0 mpld3-0.3 pyOpenSSL-19.1.0\n"
          ],
          "name": "stdout"
        }
      ]
    },
    {
      "cell_type": "markdown",
      "metadata": {
        "id": "6ZOC-jisaEyV",
        "colab_type": "text"
      },
      "source": [
        "**Important:** With Google Colab, you may need to restart the runtime after running the cell above."
      ]
    },
    {
      "cell_type": "markdown",
      "metadata": {
        "id": "7XPY2X6vaEyY",
        "colab_type": "text"
      },
      "source": [
        "## Initialization"
      ]
    },
    {
      "cell_type": "code",
      "metadata": {
        "colab_type": "code",
        "id": "fr1pbfjzA6nY",
        "colab": {}
      },
      "source": [
        "from IPython.display import display, Math, Latex\n",
        "from __future__ import print_function"
      ],
      "execution_count": 0,
      "outputs": []
    },
    {
      "cell_type": "markdown",
      "metadata": {
        "colab_type": "text",
        "id": "32HyQWWHA6nm"
      },
      "source": [
        "# LIGO/Virgo probability sky maps - a short introduction\n",
        " \n",
        "Probability sky maps associated with a gravitational-wave signal detected by \n",
        "the Advanced LIGO and Virgo are given as all-sky \n",
        "images stored in the [HEALPix](http://healpix.sourceforge.net/)\n",
        "(Hierarchical Equal Area isoLatitude Pixelisation) projection.\n",
        "The  sphere  is  hierarchically tessellated into curvilinear quadrilaterals; \n",
        "the resolution of the tessellation can be increased by the division of each pixel into four new ones.  \n",
        "The lowest resolution partition is comprised of twelve base pixels.\n",
        "The pixel position on the sky is uniquely specified by the index in the array and the array’s length.\n",
        "The resolution of the grid is expressed by the parameter $N_{side}$,\n",
        "and the total number of pixels equal to $N_{pix} = 12 \\times N_{side}^2$. "
      ]
    },
    {
      "cell_type": "markdown",
      "metadata": {
        "colab_type": "text",
        "id": "myTfV_dDA6no"
      },
      "source": [
        "\n",
        "\n",
        "\n",
        "\n",
        "<img style=\"float: left;padding: 1.3em\" src=\"https://healpix.jpl.nasa.gov/images/healpixGridRefinement.jpg\"> "
      ]
    },
    {
      "cell_type": "markdown",
      "metadata": {
        "colab_type": "text",
        "id": "iOsPR39MA6nq"
      },
      "source": [
        "**FIG.1.** It shows the partitioning of a sphere at progressively higher resolutions, from left to right. The green sphere represents the lowest resolution possible with the HEALPix base partitioning of the sphere surface into 12 equal sized pixels. The yellow sphere has a HEALPix grid of 48 pixels, the red sphere has 192 pixels, and the blue sphere has a grid of 768 pixels - more information [here](https://healpix.jpl.nasa.gov/). "
      ]
    },
    {
      "cell_type": "markdown",
      "metadata": {
        "colab_type": "text",
        "id": "4FOWYLlcA6nu"
      },
      "source": [
        "## Downloading  and reading GW sky localizations\n",
        "\n",
        "\n",
        "The signal-to-noise ratio (SNR) contributed by Virgo can significantly shrink the area. We find the smallest 90% sky localization areas for GW170817: $16\\deg^2$ and GW170818: $39 \\deg^2$. The two sky localization maps will be used in the tutorial.\n",
        "\n",
        "\n",
        "\n",
        "\n",
        "\n",
        "\n",
        "Specifically, we will use the LALInference skymap published in  the [Gravitational-Wave Transient Catalog of Compact Binary Mergers (O1 & O2) GWTC-1](https://www.gw-openscience.org/catalog/).\n"
      ]
    },
    {
      "cell_type": "markdown",
      "metadata": {
        "colab_type": "text",
        "id": "VTCH9GhzA6nw"
      },
      "source": [
        "### Working with GW170818 - BBH merger"
      ]
    },
    {
      "cell_type": "markdown",
      "metadata": {
        "colab_type": "text",
        "id": "YVSdRX3MA6ny"
      },
      "source": [
        "We will download the refined skymap from the binary black hole (BBH) merger event, GW170818. GW170818 is the second BBH observed in triple-coincidence between the two LIGO observatories and Virgo after [GW170814](https://apod.nasa.gov/apod/ap170928.html)."
      ]
    },
    {
      "cell_type": "code",
      "metadata": {
        "colab_type": "code",
        "id": "SlJF8BmEA6n1",
        "colab": {}
      },
      "source": [
        "from astropy.utils.data import download_file\n",
        "url = ('https://dcc.ligo.org/public/0157/P1800381/002/GW170818_skymap.fits.gz')\n",
        "gw170818_skymap = download_file(url, cache=True)"
      ],
      "execution_count": 0,
      "outputs": []
    },
    {
      "cell_type": "markdown",
      "metadata": {
        "colab_type": "text",
        "id": "3QffjnQGA6n7"
      },
      "source": [
        "<span style=\"color:#B22222\"> <strong> ↳ </strong> </span>  We are going to demonstrate how to read HEALPix maps with the official Python library, Healpy."
      ]
    },
    {
      "cell_type": "code",
      "metadata": {
        "colab_type": "code",
        "id": "KCXVpjgLA6n-",
        "outputId": "bf5cb3a9-f8a4-471a-f904-8a3de6287225",
        "colab": {
          "base_uri": "https://localhost:8080/",
          "height": 141
        }
      },
      "source": [
        "import healpy as hp\n",
        "prob, header = hp.read_map(gw170818_skymap, h=True)"
      ],
      "execution_count": 4,
      "outputs": [
        {
          "output_type": "stream",
          "text": [
            "/usr/local/lib/python3.6/dist-packages/healpy/fitsfunc.py:352: UserWarning: If you are not specifying the input dtype and using the default np.float64 dtype of read_map(), please consider that it will change in a future version to None as to keep the same dtype of the input file: please explicitly set the dtype if it is important to you.\n",
            "  \"If you are not specifying the input dtype and using the default \"\n"
          ],
          "name": "stderr"
        },
        {
          "output_type": "stream",
          "text": [
            "NSIDE = 1024\n",
            "ORDERING = NESTED in fits file\n",
            "INDXSCHM = IMPLICIT\n",
            "Ordering converted to RING\n"
          ],
          "name": "stdout"
        }
      ]
    },
    {
      "cell_type": "markdown",
      "metadata": {
        "colab_type": "text",
        "id": "LErmz81pA6oP"
      },
      "source": [
        "<span style=\"color:#B22222\"> <strong> ↳ </strong> </span> We can look at the metadata inside the FITS file by printing its header. The circulars issued by the LIGO and Virgo Collaborations contain information from the skymap headers  - more information in [LIGO/Virgo Public Alerts User Guide](https://emfollow.docs.ligo.org/userguide/tutorial/skymaps.html))."
      ]
    },
    {
      "cell_type": "code",
      "metadata": {
        "colab_type": "code",
        "id": "GytiMG2XA6oS",
        "outputId": "8f3e1188-4536-4bf3-970c-6e6baf7be2b9",
        "colab": {
          "base_uri": "https://localhost:8080/",
          "height": 763
        }
      },
      "source": [
        "header"
      ],
      "execution_count": 5,
      "outputs": [
        {
          "output_type": "execute_result",
          "data": {
            "text/plain": [
              "[('XTENSION', 'BINTABLE'),\n",
              " ('BITPIX', 8),\n",
              " ('NAXIS', 2),\n",
              " ('NAXIS1', 32),\n",
              " ('NAXIS2', 12582912),\n",
              " ('PCOUNT', 0),\n",
              " ('GCOUNT', 1),\n",
              " ('TFIELDS', 4),\n",
              " ('TTYPE1', 'PROB'),\n",
              " ('TFORM1', 'D'),\n",
              " ('TUNIT1', 'pix-1'),\n",
              " ('TTYPE2', 'DISTMU'),\n",
              " ('TFORM2', 'D'),\n",
              " ('TUNIT2', 'Mpc'),\n",
              " ('TTYPE3', 'DISTSIGMA'),\n",
              " ('TFORM3', 'D'),\n",
              " ('TUNIT3', 'Mpc'),\n",
              " ('TTYPE4', 'DISTNORM'),\n",
              " ('TFORM4', 'D'),\n",
              " ('TUNIT4', 'Mpc-2'),\n",
              " ('PIXTYPE', 'HEALPIX'),\n",
              " ('ORDERING', 'NESTED'),\n",
              " ('COORDSYS', 'C'),\n",
              " ('NSIDE', 1024),\n",
              " ('INDXSCHM', 'IMPLICIT'),\n",
              " ('OBJECT', 'GW170818'),\n",
              " ('DATE-OBS', '2017-08-18T02:25:09.088401'),\n",
              " ('MJD-OBS', 57983.10079963422),\n",
              " ('DATE', '2018-12-07T05:21:12.820251'),\n",
              " ('CREATOR', 'ligo-skymap-from-samples'),\n",
              " ('ORIGIN', 'LIGO/Virgo'),\n",
              " ('DISTMEAN', 1033.935452663821),\n",
              " ('DISTSTD', 244.9451365743755),\n",
              " ('VCSVERS', 'ligo.skymap 0.0.14'),\n",
              " ('VCSREV', '707cac6e1e006dfcc35b7af4c2f39ba8c3b7fa22'),\n",
              " ('DATE-BLD', '2018-08-28T08:58:40'),\n",
              " ('HISTORY', ''),\n",
              " ('HISTORY', 'Generated by running the following script:'),\n",
              " ('HISTORY',\n",
              "  'ligo-skymap-from-samples --fitsoutname Combined_Isp_Sprec_skymap_time_fi'),\n",
              " ('HISTORY',\n",
              "  'x.fits.gz --seed 103876236 --objid GW170818 Combined_Isp_Sprec_post_time'),\n",
              " ('HISTORY', '_fix.dat')]"
            ]
          },
          "metadata": {
            "tags": []
          },
          "execution_count": 5
        }
      ]
    },
    {
      "cell_type": "markdown",
      "metadata": {
        "colab_type": "text",
        "id": "GpDROZHEA6of"
      },
      "source": [
        "### 3D sky maps\n",
        "[Singer et al.(2016)](https://arxiv.org/pdf/1603.07333v2.pdf) discuss a rapid algorithm for obtaining a three-dimensional probability estimates of sky location and luminosity distance from observations of binary \n",
        "compact object mergers with Advanced LIGO and Virgo. Combining the reconstructed gravitational wave volumes with positions and redshifts of possible host  galaxies  provides  a  manageable  list  of  sky location  targets  to  search  for  the  electromagnetic counterpart of the gravitational wave signal  - see the last section.\n",
        "\n",
        "<span style=\"color:#B22222\"> <strong> ↳ </strong> </span>  marginal distance posterior distribution integrated over the whole sky is reported in the header *with* \n",
        "\n",
        "       DISTMEAN    /Posterior mean distance (Mpc)\n",
        "       DISTSTB     /Posterior standard deviation of distance (Mpc)"
      ]
    },
    {
      "cell_type": "markdown",
      "metadata": {
        "colab_type": "text",
        "id": "ipeDrgwSA6oh"
      },
      "source": [
        "<span style=\"color:#B22222\"> <strong> ↳ </strong> </span> Healpy has several useful plotting routines including **[hp.mollview](https://healpy.readthedocs.io/en/stable/generated/healpy.visufunc.mollview.html#healpy.visufunc.mollview)** for plotting a Mollweide-projection all-sky map: "
      ]
    },
    {
      "cell_type": "code",
      "metadata": {
        "colab_type": "code",
        "id": "nBCVoVHeA6oi",
        "outputId": "e5d6461d-76d0-4f15-94ba-c9c367e439ea",
        "colab": {
          "base_uri": "https://localhost:8080/",
          "height": 440
        }
      },
      "source": [
        "\n",
        "hp.mollview(prob, title='GW170818 LALInference',)\n",
        "hp.graticule()\n"
      ],
      "execution_count": 6,
      "outputs": [
        {
          "output_type": "stream",
          "text": [
            "0.0 180.0 -180.0 180.0\n",
            "The interval between parallels is 30 deg -0.00'.\n",
            "The interval between meridians is 30 deg -0.00'.\n"
          ],
          "name": "stdout"
        },
        {
          "output_type": "display_data",
          "data": {
            "image/png": "[encoded data removed]",
            "text/plain": [
              "<Figure size 612x388.8 with 2 Axes>"
            ]
          },
          "metadata": {
            "tags": []
          }
        }
      ]
    },
    {
      "cell_type": "markdown",
      "metadata": {
        "colab_type": "text",
        "id": "iaZkKk2TA6ov"
      },
      "source": [
        "The value stored at each pixel represents the probability that the gravitational-wave source \n",
        "is located within that pixel."
      ]
    },
    {
      "cell_type": "markdown",
      "metadata": {
        "colab_type": "text",
        "id": "HCMpXwOoA6o8"
      },
      "source": [
        "###  Finding the maximum probability density pixel\n",
        "<span style=\"color:#B22222\"> <strong> ↳ </strong> </span> We are identifying the highest probability pixel `ipix_max` and the probability inside it `highest_probability`."
      ]
    },
    {
      "cell_type": "code",
      "metadata": {
        "colab_type": "code",
        "id": "upPU66qzA6o-",
        "colab": {}
      },
      "source": [
        "import numpy as np\n",
        "ipix_max = np.argmax(prob)\n",
        "highest_probability = prob[ipix_max]"
      ],
      "execution_count": 0,
      "outputs": []
    },
    {
      "cell_type": "markdown",
      "metadata": {
        "colab_type": "text",
        "id": "HzVvgxypA6pF"
      },
      "source": [
        "<span style=\"color:#B22222\"> <strong> ↳ </strong> </span> Now we define the sky coordinates `ra`, `dec` of the highest probability pixel."
      ]
    },
    {
      "cell_type": "code",
      "metadata": {
        "colab_type": "code",
        "id": "btK2Vta3A6pH",
        "outputId": "148737d7-def5-49f0-efc4-a247e280e556",
        "colab": {
          "base_uri": "https://localhost:8080/",
          "height": 35
        }
      },
      "source": [
        "nside = hp.get_nside(prob) # calculate the healpix resolution - nside\n",
        "\n",
        "theta, phi = hp.pix2ang(nside, ipix_max)\n",
        "ra = np.rad2deg(phi)\n",
        "dec = np.rad2deg(0.5 * np.pi - theta)\n",
        "\n",
        "ra = round(ra,5); dec = round(dec,5);\n",
        "print(\"The sky coordinates of the highest probability pixel are:\", \"ra =\",ra,\"dec =\",dec, \"(ICRS coordinates in degrees)\")"
      ],
      "execution_count": 8,
      "outputs": [
        {
          "output_type": "stream",
          "text": [
            "The sky coordinates of the highest probability pixel are: ra = 341.2793 dec = 22.38692 (ICRS coordinates in degrees)\n"
          ],
          "name": "stdout"
        }
      ]
    },
    {
      "cell_type": "markdown",
      "metadata": {
        "colab_type": "text",
        "id": "7DcEL6zEA6pN"
      },
      "source": [
        "The function **[hp.pix2ang](https://healpy.readthedocs.io/en/stable/generated/healpy.pixelfunc.pix2ang.html#healpy.pixelfunc.pix2ang)** converts from pixel index to spherical polar coordinates; the function **[hp.ang2pix](https://healpy.readthedocs.io/en/stable/generated/healpy.pixelfunc.ang2pix.html#healpy.pixelfunc.ang2pix)** does the reverse."
      ]
    },
    {
      "cell_type": "markdown",
      "metadata": {
        "colab_type": "text",
        "id": "PAO4ogE1A6pO"
      },
      "source": [
        "Alternatively, you can use [astropy-healpix](https://astropy-healpix.readthedocs.io/en/latest/installation.html) to perform the same tasks. We recommand this alternative solution for the Windows OS users."
      ]
    },
    {
      "cell_type": "markdown",
      "metadata": {
        "colab_type": "text",
        "id": "Hg5v6mDoA6pn"
      },
      "source": [
        "## Working with GW170817 - BNS Merger"
      ]
    },
    {
      "cell_type": "markdown",
      "metadata": {
        "colab_type": "text",
        "id": "4GfzqqDyA6pt"
      },
      "source": [
        "On August 17, 2017 astronomers around the world were alerted to gravitational waves observed by the Advanced LIGO and Advanced Virgo detectors. This gravitational wave event, now known as GW170817, appeared to be the result of the merger of two neutron stars (BNS). Less than two seconds after the GW170817 signal, NASA's [Fermi](https://fermi.gsfc.nasa.gov/) satellite observed a gamma-ray burst, now known as GRB170817A, and within minutes of these initial detections telescopes around the world began an extensive observing campaign. The [Swope telescope](http://obs.carnegiescience.edu/swope) in Chile was the first to report a bright optical source (SSS17a/AT2017gfo) in the galaxy NGC 4993 and several other teams independently detected the same transient over the next minutes and hours.  \n",
        "GW170817 marks a new era of multi-messenger astronomy, where the same event is observed by both gravitational waves and electromagnetic waves. [The Dawn of Multi-Messenger Astrophysics: Observations of a Binary Neutron Star Merger](http://ligo.org/science/Publication-GW170817MMA/). \n"
      ]
    },
    {
      "cell_type": "markdown",
      "metadata": {
        "colab_type": "text",
        "id": "-tblmU3kA6nj"
      },
      "source": [
        "### Aladin Sky Atlas\n",
        "\n",
        "Aladin is an interactive sky atlas allowing the user to visualize digitized astronomical images or full surveys, superimpose entries from astronomical catalogues or databases, and interactively access related data and information from the *Simbad* database, the *VizieR* service and other archives for all known astronomical objects in the field.\n",
        "\n",
        "**You now must install the Aladin GUI following those [instructions](<https://aladin.u-strasbg.fr/java/nph-aladin.pl?frame=downloading>).**\n",
        "\n",
        "If you are a Linux user: download the Aladin tarball, and launch the Aladin GUI with the following command line: java -jar -Xmx1G Aladin.jar\n",
        "\n",
        "If you are a Mac OS user: download the Aladin dmg, and launch (preferably) the Aladin GUI with the following command line: java -jar -Xmx1G /Applications/Aladin.app/Contents/Ressources/Java/Aladin.jar"
      ]
    },
    {
      "cell_type": "markdown",
      "metadata": {
        "colab_type": "text",
        "id": "YCh7ERC5A6pw"
      },
      "source": [
        "\n",
        "####  ↳ Loading the skymap from the [GWOSC](https://www.gw-openscience.org/catalog/) in Aladin\n",
        "* [Using Aladin GUI](https://drive.google.com/open?id=1DlWUxzqgSZpYAckaq58ZGMXHlJAaEwc4) <em>Copy and Paste the link in the Command Bar </em>\n",
        "\n",
        "####  ↳ Reading the header\n",
        "* [Using Aladin GUI](https://drive.google.com/open?id=1sl3_uedBfbbOLvSZCdckSQKPJZwWzyxE) <em>Edit → Fits header </em>\n",
        "           .\n",
        "           .\n",
        "           .\n",
        "        DISTMEAN=    38.59 / Posterior mean distance (Mpc)\n",
        "        DISTSTD =     6.99 / Posterior standard deviation of distance (Mpc)\n",
        "           .\n",
        "           .\n",
        "           .\n",
        "\n",
        "####  ↳ Creating the 90% confidence level \n",
        "* [Using Aladin GUI](https://drive.google.com/open?id=1aH-YvEyN9xeD9kGZkQ7ASXNcDK-33KUt) <em>Coverage → Generate a MOC based on... → The current probability skymap → MOC generation window </em>\n",
        "\n",
        "The plot shows the 90% credible regions. These contours were constructed ranking the pixels from most probable to least, and finally counted how many pixels summed to a given total probability. Place your mouse arrow on the MOC plane (bottom right). You can then read in the description on the top right the solid angle ('Space') associated with the skymap. How many square degrees to you read?\n",
        "\n",
        "We can do a similar plot using a dedicated package named  [ligo.skymap](https://pypi.org/project/ligo.skymap/).\n",
        "\n",
        "####  ↳ Setting Drawing method\n",
        "* [Using Aladin GUI](https://drive.google.com/open?id=1Xy6S-y9SRB_TIKFYcecUrXtqdAZ96YcI) <em> Aladin stack → Select the plane → right-click → Properties...  → Properties window   </em>\n",
        "\n",
        "####  ↳ Querying the GLADE galaxy catalog (v2.3) and select the galaxies compatible with the direction of the source\n",
        "* [Using Aladin GUI](https://drive.google.com/open?id=11rCSzdUd4AP49T26ujOyQfZ0CQ4e9KP1) <em> Aladin data collections tree → Select → click on the catalog item → in the popup menu check  → by region&MOC   </em>\n",
        "\n",
        "####  ↳ Filtering the galaxies  according with the distance information\n",
        "* [Using Aladin GUI](https://drive.google.com/open?id=1FJ0GtEt4qXOtEmET7mXtCW_0lggouXUm) <em> Catalog →  Create a filter  → Properties window → Advanced mode → Or enter your filter definition: `${Dist}>31 && ${Dist}<45 {draw}`    </em>\n",
        " \n",
        "####  ↳ Search for the host galaxy NGC 4993\n",
        "* [Using Aladin GUI](https://drive.google.com/open?id=1cSeL3HJBAEXAqBOGSdb5zTAAZPhpVPpM) <em>Type in the Command bar: NGC 4993    </em>"
      ]
    }
  ]
}