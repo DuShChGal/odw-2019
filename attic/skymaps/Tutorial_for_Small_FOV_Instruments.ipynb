{
 "cells": [
  {
   "cell_type": "markdown",
   "metadata": {},
   "source": [
    "# Tutorial for Small FOV Instruments\n",
    "\n",
    "In this tutorial we combine our skymaps with galaxy catalogs to get a list of galaxies for individual pointings. A note is made that this is only possible with 3D skymaps which are provided for combact binary merger candidate events."
   ]
  },
  {
   "cell_type": "markdown",
   "metadata": {},
   "source": [
    "We begin by importing the necessary packages as done previously. We will also download the 2MASS Redshift Survey galaxy catalog using VizieR."
   ]
  },
  {
   "cell_type": "code",
   "execution_count": 1,
   "metadata": {
    "collapsed": true
   },
   "outputs": [],
   "source": [
    "import healpy as hp # for working with HEALPix files\n",
    "import numpy as np # needed for vector operations\n",
    "from matplotlib import pyplot as plt # plotting skymaps\n",
    "from scipy.stats import norm # probability functions"
   ]
  },
  {
   "cell_type": "code",
   "execution_count": 2,
   "metadata": {
    "collapsed": true
   },
   "outputs": [],
   "source": [
    "from astropy.utils.data import download_file\n",
    "url = ('https://dcc.ligo.org/public/0146/G1701985/001/LALInference_v2.fits.gz')\n",
    "# This is the publication LALInference localization\n",
    "filename = download_file(url, cache=True)"
   ]
  },
  {
   "cell_type": "markdown",
   "metadata": {},
   "source": [
    "We read in the probability, distmu, distsigma, and distnorm."
   ]
  },
  {
   "cell_type": "code",
   "execution_count": 3,
   "metadata": {},
   "outputs": [
    {
     "name": "stdout",
     "output_type": "stream",
     "text": [
      "NSIDE = 1024\n",
      "ORDERING = NESTED in fits file\n",
      "INDXSCHM = IMPLICIT\n",
      "Ordering converted to RING\n",
      "Ordering converted to RING\n",
      "Ordering converted to RING\n",
      "Ordering converted to RING\n"
     ]
    }
   ],
   "source": [
    "prob, distmu, distsigma, distnorm = hp.read_map(filename, field=range(4))"
   ]
  },
  {
   "cell_type": "code",
   "execution_count": 4,
   "metadata": {},
   "outputs": [
    {
     "data": {
      "text/plain": [
       "(12582912, 1024)"
      ]
     },
     "execution_count": 4,
     "metadata": {},
     "output_type": "execute_result"
    }
   ],
   "source": [
    "npix = len(prob)\n",
    "nside = hp.npix2nside(npix)\n",
    "npix, nside"
   ]
  },
  {
   "cell_type": "code",
   "execution_count": 5,
   "metadata": {
    "collapsed": true
   },
   "outputs": [],
   "source": [
    "# Area per pixel in steradians\n",
    "pixarea = hp.nside2pixarea(nside)"
   ]
  },
  {
   "cell_type": "code",
   "execution_count": 6,
   "metadata": {
    "collapsed": true
   },
   "outputs": [],
   "source": [
    "from astroquery.vizier import Vizier\n",
    "Vizier.ROW_LIMIT = -1 # This gets the complete catalog\n",
    "cat1, = Vizier.get_catalogs('J/ApJS/199/26/table3') # Downloading the 2MRS Galaxy Catalog"
   ]
  },
  {
   "cell_type": "markdown",
   "metadata": {},
   "source": [
    "According to Tully(2015), the 2MRS luminosity function is well fit by a Schechter function with a cutoff absolute magnitude of $M_k^* = -23.55$ and a power-law index of $\\alpha_K = -1$. We find the maximum absolute magnitude $M_k^{\\text{max}}$ for a completeness fraction of 0.5."
   ]
  },
  {
   "cell_type": "code",
   "execution_count": 7,
   "metadata": {},
   "outputs": [
    {
     "data": {
      "text/plain": [
       "-23.947936347387156"
      ]
     },
     "execution_count": 7,
     "metadata": {},
     "output_type": "execute_result"
    }
   ],
   "source": [
    "from scipy.special import gammaincinv\n",
    "completeness = 0.5\n",
    "alpha = -1.0\n",
    "MK_star = -23.55\n",
    "MK_max = MK_star + 2.5*np.log10(gammaincinv(alpha + 2, completeness))\n",
    "MK_max"
   ]
  },
  {
   "cell_type": "markdown",
   "metadata": {},
   "source": [
    "Now, we select only galaxies with positive redshifts and absolute magnitudes greater than $M_k^{\\text{max}}$."
   ]
  },
  {
   "cell_type": "code",
   "execution_count": 9,
   "metadata": {
    "collapsed": true
   },
   "outputs": [],
   "source": [
    "from astropy.cosmology import WMAP9 as cosmo\n",
    "from astropy.table import Column\n",
    "import astropy.units as u\n",
    "import astropy.constants as c\n",
    "z = (u.Quantity(cat1['cz'])/c.c).to(u.dimensionless_unscaled)\n",
    "MK = cat1['Ktmag']-cosmo.distmod(z)\n",
    "keep = (z > 0) & (MK < MK_max)\n",
    "cat1 = cat1[keep]\n",
    "z = z[keep]"
   ]
  },
  {
   "cell_type": "markdown",
   "metadata": {},
   "source": [
    "Now, we calculate the luminosity distance and HEALPix index of each galaxy."
   ]
  },
  {
   "cell_type": "code",
   "execution_count": 10,
   "metadata": {
    "collapsed": true
   },
   "outputs": [],
   "source": [
    "r = cosmo.luminosity_distance(z).to('Mpc').value\n",
    "theta = 0.5*np.pi - cat1['DEJ2000'].to('rad').value\n",
    "phi = cat1['RAJ2000'].to('rad').value\n",
    "ipix = hp.ang2pix(nside, theta, phi)"
   ]
  },
  {
   "cell_type": "markdown",
   "metadata": {},
   "source": [
    "We find the probability density per unit volume at the position of each galaxy."
   ]
  },
  {
   "cell_type": "code",
   "execution_count": 11,
   "metadata": {
    "collapsed": true
   },
   "outputs": [],
   "source": [
    "dp_dV = prob[ipix] * distnorm[ipix] * norm(distmu[ipix], distsigma[ipix]).pdf(r)/pixarea"
   ]
  },
  {
   "cell_type": "markdown",
   "metadata": {},
   "source": [
    "Finally, we sort the galaxies by descending probability density and take the top 50."
   ]
  },
  {
   "cell_type": "code",
   "execution_count": 12,
   "metadata": {},
   "outputs": [
    {
     "data": {
      "text/html": [
       "&lt;Table masked=True length=50&gt;\n",
       "<table id=\"table140035034379600\" class=\"table-striped table-bordered table-condensed\">\n",
       "<thead><tr><th>RAJ2000</th><th>DEJ2000</th><th>Ktmag</th></tr></thead>\n",
       "<thead><tr><th>deg</th><th>deg</th><th>mag</th></tr></thead>\n",
       "<thead><tr><th>float64</th><th>float64</th><th>float32</th></tr></thead>\n",
       "<tr><td>197.01802</td><td>-23.79687</td><td>9.226</td></tr>\n",
       "<tr><td>199.52112</td><td>-26.83722</td><td>7.265</td></tr>\n",
       "<tr><td>199.95851</td><td>-27.41009</td><td>7.100</td></tr>\n",
       "<tr><td>196.89058</td><td>-24.00856</td><td>9.047</td></tr>\n",
       "<tr><td>202.30795</td><td>-33.17384</td><td>8.612</td></tr>\n",
       "<tr><td>200.44267</td><td>-27.43052</td><td>7.131</td></tr>\n",
       "<tr><td>194.36627</td><td>-19.69128</td><td>8.819</td></tr>\n",
       "<tr><td>202.86783</td><td>-34.79443</td><td>8.500</td></tr>\n",
       "<tr><td>201.00720</td><td>-32.34394</td><td>9.274</td></tr>\n",
       "<tr><td>...</td><td>...</td><td>...</td></tr>\n",
       "<tr><td>193.11424</td><td>-15.51861</td><td>10.080</td></tr>\n",
       "<tr><td>192.25911</td><td>-8.66435</td><td>6.489</td></tr>\n",
       "<tr><td>204.41425</td><td>-33.81136</td><td>9.610</td></tr>\n",
       "<tr><td>208.60094</td><td>-48.51253</td><td>8.323</td></tr>\n",
       "<tr><td>192.88495</td><td>-13.33003</td><td>9.401</td></tr>\n",
       "<tr><td>201.30222</td><td>-33.65552</td><td>9.816</td></tr>\n",
       "<tr><td>203.44968</td><td>-37.73177</td><td>10.294</td></tr>\n",
       "<tr><td>193.05191</td><td>-13.41473</td><td>9.831</td></tr>\n",
       "<tr><td>194.83864</td><td>-15.04217</td><td>7.451</td></tr>\n",
       "<tr><td>201.97638</td><td>-29.61802</td><td>9.128</td></tr>\n",
       "</table>"
      ],
      "text/plain": [
       "<Table masked=True length=50>\n",
       " RAJ2000   DEJ2000   Ktmag \n",
       "   deg       deg      mag  \n",
       " float64   float64  float32\n",
       "--------- --------- -------\n",
       "197.01802 -23.79687   9.226\n",
       "199.52112 -26.83722   7.265\n",
       "199.95851 -27.41009   7.100\n",
       "196.89058 -24.00856   9.047\n",
       "202.30795 -33.17384   8.612\n",
       "200.44267 -27.43052   7.131\n",
       "194.36627 -19.69128   8.819\n",
       "202.86783 -34.79443   8.500\n",
       "201.00720 -32.34394   9.274\n",
       "      ...       ...     ...\n",
       "193.11424 -15.51861  10.080\n",
       "192.25911  -8.66435   6.489\n",
       "204.41425 -33.81136   9.610\n",
       "208.60094 -48.51253   8.323\n",
       "192.88495 -13.33003   9.401\n",
       "201.30222 -33.65552   9.816\n",
       "203.44968 -37.73177  10.294\n",
       "193.05191 -13.41473   9.831\n",
       "194.83864 -15.04217   7.451\n",
       "201.97638 -29.61802   9.128"
      ]
     },
     "execution_count": 12,
     "metadata": {},
     "output_type": "execute_result"
    }
   ],
   "source": [
    "top50 = cat1[np.flipud(np.argsort(dp_dV))][:50]\n",
    "top50['RAJ2000', 'DEJ2000', 'Ktmag']"
   ]
  },
  {
   "cell_type": "markdown",
   "metadata": {
    "collapsed": true
   },
   "source": [
    "The coordinates of the first galaxy above are (197.01802, -23.79687). A pointing in this direction would likely have captured the true host galaxy of GW170817 which is (197.45, -23.38)."
   ]
  },
  {
   "cell_type": "markdown",
   "metadata": {},
   "source": [
    "Now, we attempt a similar down-selection but with a different galaxy catalog: the Galaxy List for the Advanced Detector Era."
   ]
  },
  {
   "cell_type": "code",
   "execution_count": 16,
   "metadata": {},
   "outputs": [
    {
     "data": {
      "text/plain": [
       "{u'VII/275': u'GLADE catalog (Dalya+, 2016)'}"
      ]
     },
     "execution_count": 16,
     "metadata": {},
     "output_type": "execute_result"
    }
   ],
   "source": [
    "catalog_list = Vizier.find_catalogs('GLADE')\n",
    "{k:v.description for k,v in catalog_list.items()}"
   ]
  },
  {
   "cell_type": "code",
   "execution_count": 18,
   "metadata": {},
   "outputs": [
    {
     "ename": "EOFError",
     "evalue": "",
     "output_type": "error",
     "traceback": [
      "\u001b[0;31m---------------------------------------------------------------------------\u001b[0m",
      "\u001b[0;31mEOFError\u001b[0m                                  Traceback (most recent call last)",
      "\u001b[0;32m<ipython-input-18-dbcfc50e95b4>\u001b[0m in \u001b[0;36m<module>\u001b[0;34m()\u001b[0m\n\u001b[0;32m----> 1\u001b[0;31m \u001b[0mcatalogs\u001b[0m \u001b[0;34m=\u001b[0m \u001b[0mVizier\u001b[0m\u001b[0;34m.\u001b[0m\u001b[0mget_catalogs\u001b[0m\u001b[0;34m(\u001b[0m\u001b[0mcatalog_list\u001b[0m\u001b[0;34m.\u001b[0m\u001b[0mkeys\u001b[0m\u001b[0;34m(\u001b[0m\u001b[0;34m)\u001b[0m\u001b[0;34m)\u001b[0m\u001b[0;34m\u001b[0m\u001b[0m\n\u001b[0m\u001b[1;32m      2\u001b[0m \u001b[0mcatalogs\u001b[0m\u001b[0;34m\u001b[0m\u001b[0m\n",
      "\u001b[0;32m/home/guest/anaconda2/lib/python2.7/site-packages/astroquery/utils/class_or_instance.pyc\u001b[0m in \u001b[0;36mf\u001b[0;34m(*args, **kwds)\u001b[0m\n\u001b[1;32m     23\u001b[0m         \u001b[0;32mdef\u001b[0m \u001b[0mf\u001b[0m\u001b[0;34m(\u001b[0m\u001b[0;34m*\u001b[0m\u001b[0margs\u001b[0m\u001b[0;34m,\u001b[0m \u001b[0;34m**\u001b[0m\u001b[0mkwds\u001b[0m\u001b[0;34m)\u001b[0m\u001b[0;34m:\u001b[0m\u001b[0;34m\u001b[0m\u001b[0m\n\u001b[1;32m     24\u001b[0m             \u001b[0;32mif\u001b[0m \u001b[0mobj\u001b[0m \u001b[0;32mis\u001b[0m \u001b[0;32mnot\u001b[0m \u001b[0mNone\u001b[0m\u001b[0;34m:\u001b[0m\u001b[0;34m\u001b[0m\u001b[0m\n\u001b[0;32m---> 25\u001b[0;31m                 \u001b[0;32mreturn\u001b[0m \u001b[0mself\u001b[0m\u001b[0;34m.\u001b[0m\u001b[0mfn\u001b[0m\u001b[0;34m(\u001b[0m\u001b[0mobj\u001b[0m\u001b[0;34m,\u001b[0m \u001b[0;34m*\u001b[0m\u001b[0margs\u001b[0m\u001b[0;34m,\u001b[0m \u001b[0;34m**\u001b[0m\u001b[0mkwds\u001b[0m\u001b[0;34m)\u001b[0m\u001b[0;34m\u001b[0m\u001b[0m\n\u001b[0m\u001b[1;32m     26\u001b[0m             \u001b[0;32melse\u001b[0m\u001b[0;34m:\u001b[0m\u001b[0;34m\u001b[0m\u001b[0m\n\u001b[1;32m     27\u001b[0m                 \u001b[0;32mreturn\u001b[0m \u001b[0mself\u001b[0m\u001b[0;34m.\u001b[0m\u001b[0mfn\u001b[0m\u001b[0;34m(\u001b[0m\u001b[0mcls\u001b[0m\u001b[0;34m,\u001b[0m \u001b[0;34m*\u001b[0m\u001b[0margs\u001b[0m\u001b[0;34m,\u001b[0m \u001b[0;34m**\u001b[0m\u001b[0mkwds\u001b[0m\u001b[0;34m)\u001b[0m\u001b[0;34m\u001b[0m\u001b[0m\n",
      "\u001b[0;32m/home/guest/anaconda2/lib/python2.7/site-packages/astroquery/utils/process_asyncs.pyc\u001b[0m in \u001b[0;36mnewmethod\u001b[0;34m(self, *args, **kwargs)\u001b[0m\n\u001b[1;32m     24\u001b[0m             \u001b[0mverbose\u001b[0m \u001b[0;34m=\u001b[0m \u001b[0mkwargs\u001b[0m\u001b[0;34m.\u001b[0m\u001b[0mpop\u001b[0m\u001b[0;34m(\u001b[0m\u001b[0;34m'verbose'\u001b[0m\u001b[0;34m,\u001b[0m \u001b[0mFalse\u001b[0m\u001b[0;34m)\u001b[0m\u001b[0;34m\u001b[0m\u001b[0m\n\u001b[1;32m     25\u001b[0m \u001b[0;34m\u001b[0m\u001b[0m\n\u001b[0;32m---> 26\u001b[0;31m             \u001b[0mresponse\u001b[0m \u001b[0;34m=\u001b[0m \u001b[0mgetattr\u001b[0m\u001b[0;34m(\u001b[0m\u001b[0mself\u001b[0m\u001b[0;34m,\u001b[0m \u001b[0masync_method_name\u001b[0m\u001b[0;34m)\u001b[0m\u001b[0;34m(\u001b[0m\u001b[0;34m*\u001b[0m\u001b[0margs\u001b[0m\u001b[0;34m,\u001b[0m \u001b[0;34m**\u001b[0m\u001b[0mkwargs\u001b[0m\u001b[0;34m)\u001b[0m\u001b[0;34m\u001b[0m\u001b[0m\n\u001b[0m\u001b[1;32m     27\u001b[0m             \u001b[0;32mif\u001b[0m \u001b[0mkwargs\u001b[0m\u001b[0;34m.\u001b[0m\u001b[0mget\u001b[0m\u001b[0;34m(\u001b[0m\u001b[0;34m'get_query_payload'\u001b[0m\u001b[0;34m)\u001b[0m \u001b[0;32mor\u001b[0m \u001b[0mkwargs\u001b[0m\u001b[0;34m.\u001b[0m\u001b[0mget\u001b[0m\u001b[0;34m(\u001b[0m\u001b[0;34m'field_help'\u001b[0m\u001b[0;34m)\u001b[0m\u001b[0;34m:\u001b[0m\u001b[0;34m\u001b[0m\u001b[0m\n\u001b[1;32m     28\u001b[0m                 \u001b[0;32mreturn\u001b[0m \u001b[0mresponse\u001b[0m\u001b[0;34m\u001b[0m\u001b[0m\n",
      "\u001b[0;32m/home/guest/anaconda2/lib/python2.7/site-packages/astroquery/vizier/core.pyc\u001b[0m in \u001b[0;36mget_catalogs_async\u001b[0;34m(self, catalog, verbose, return_type, get_query_payload)\u001b[0m\n\u001b[1;32m    259\u001b[0m         response = self._request(\n\u001b[1;32m    260\u001b[0m             \u001b[0mmethod\u001b[0m\u001b[0;34m=\u001b[0m\u001b[0;34m'POST'\u001b[0m\u001b[0;34m,\u001b[0m \u001b[0murl\u001b[0m\u001b[0;34m=\u001b[0m\u001b[0mself\u001b[0m\u001b[0;34m.\u001b[0m\u001b[0m_server_to_url\u001b[0m\u001b[0;34m(\u001b[0m\u001b[0mreturn_type\u001b[0m\u001b[0;34m=\u001b[0m\u001b[0mreturn_type\u001b[0m\u001b[0;34m)\u001b[0m\u001b[0;34m,\u001b[0m\u001b[0;34m\u001b[0m\u001b[0m\n\u001b[0;32m--> 261\u001b[0;31m             data=data_payload, timeout=self.TIMEOUT)\n\u001b[0m\u001b[1;32m    262\u001b[0m \u001b[0;34m\u001b[0m\u001b[0m\n\u001b[1;32m    263\u001b[0m         \u001b[0;32mreturn\u001b[0m \u001b[0mresponse\u001b[0m\u001b[0;34m\u001b[0m\u001b[0m\n",
      "\u001b[0;32m/home/guest/anaconda2/lib/python2.7/site-packages/astroquery/query.pyc\u001b[0m in \u001b[0;36m_request\u001b[0;34m(self, method, url, params, data, headers, files, save, savedir, timeout, cache, stream, auth, continuation, verify)\u001b[0m\n\u001b[1;32m    197\u001b[0m                                              auth=auth, verify=verify)\n\u001b[1;32m    198\u001b[0m             \u001b[0;32melse\u001b[0m\u001b[0;34m:\u001b[0m\u001b[0;34m\u001b[0m\u001b[0m\n\u001b[0;32m--> 199\u001b[0;31m                 \u001b[0mresponse\u001b[0m \u001b[0;34m=\u001b[0m \u001b[0mquery\u001b[0m\u001b[0;34m.\u001b[0m\u001b[0mfrom_cache\u001b[0m\u001b[0;34m(\u001b[0m\u001b[0mself\u001b[0m\u001b[0;34m.\u001b[0m\u001b[0mcache_location\u001b[0m\u001b[0;34m)\u001b[0m\u001b[0;34m\u001b[0m\u001b[0m\n\u001b[0m\u001b[1;32m    200\u001b[0m                 \u001b[0;32mif\u001b[0m \u001b[0;32mnot\u001b[0m \u001b[0mresponse\u001b[0m\u001b[0;34m:\u001b[0m\u001b[0;34m\u001b[0m\u001b[0m\n\u001b[1;32m    201\u001b[0m                     response = query.request(self._session,\n",
      "\u001b[0;32m/home/guest/anaconda2/lib/python2.7/site-packages/astroquery/query.pyc\u001b[0m in \u001b[0;36mfrom_cache\u001b[0;34m(self, cache_location)\u001b[0m\n\u001b[1;32m     96\u001b[0m         \u001b[0;32mtry\u001b[0m\u001b[0;34m:\u001b[0m\u001b[0;34m\u001b[0m\u001b[0m\n\u001b[1;32m     97\u001b[0m             \u001b[0;32mwith\u001b[0m \u001b[0mopen\u001b[0m\u001b[0;34m(\u001b[0m\u001b[0mrequest_file\u001b[0m\u001b[0;34m,\u001b[0m \u001b[0;34m\"rb\"\u001b[0m\u001b[0;34m)\u001b[0m \u001b[0;32mas\u001b[0m \u001b[0mf\u001b[0m\u001b[0;34m:\u001b[0m\u001b[0;34m\u001b[0m\u001b[0m\n\u001b[0;32m---> 98\u001b[0;31m                 \u001b[0mresponse\u001b[0m \u001b[0;34m=\u001b[0m \u001b[0mpickle\u001b[0m\u001b[0;34m.\u001b[0m\u001b[0mload\u001b[0m\u001b[0;34m(\u001b[0m\u001b[0mf\u001b[0m\u001b[0;34m)\u001b[0m\u001b[0;34m\u001b[0m\u001b[0m\n\u001b[0m\u001b[1;32m     99\u001b[0m             \u001b[0;32mif\u001b[0m \u001b[0;32mnot\u001b[0m \u001b[0misinstance\u001b[0m\u001b[0;34m(\u001b[0m\u001b[0mresponse\u001b[0m\u001b[0;34m,\u001b[0m \u001b[0mrequests\u001b[0m\u001b[0;34m.\u001b[0m\u001b[0mResponse\u001b[0m\u001b[0;34m)\u001b[0m\u001b[0;34m:\u001b[0m\u001b[0;34m\u001b[0m\u001b[0m\n\u001b[1;32m    100\u001b[0m                 \u001b[0mresponse\u001b[0m \u001b[0;34m=\u001b[0m \u001b[0mNone\u001b[0m\u001b[0;34m\u001b[0m\u001b[0m\n",
      "\u001b[0;32m/home/guest/anaconda2/lib/python2.7/pickle.pyc\u001b[0m in \u001b[0;36mload\u001b[0;34m(file)\u001b[0m\n\u001b[1;32m   1382\u001b[0m \u001b[0;34m\u001b[0m\u001b[0m\n\u001b[1;32m   1383\u001b[0m \u001b[0;32mdef\u001b[0m \u001b[0mload\u001b[0m\u001b[0;34m(\u001b[0m\u001b[0mfile\u001b[0m\u001b[0;34m)\u001b[0m\u001b[0;34m:\u001b[0m\u001b[0;34m\u001b[0m\u001b[0m\n\u001b[0;32m-> 1384\u001b[0;31m     \u001b[0;32mreturn\u001b[0m \u001b[0mUnpickler\u001b[0m\u001b[0;34m(\u001b[0m\u001b[0mfile\u001b[0m\u001b[0;34m)\u001b[0m\u001b[0;34m.\u001b[0m\u001b[0mload\u001b[0m\u001b[0;34m(\u001b[0m\u001b[0;34m)\u001b[0m\u001b[0;34m\u001b[0m\u001b[0m\n\u001b[0m\u001b[1;32m   1385\u001b[0m \u001b[0;34m\u001b[0m\u001b[0m\n\u001b[1;32m   1386\u001b[0m \u001b[0;32mdef\u001b[0m \u001b[0mloads\u001b[0m\u001b[0;34m(\u001b[0m\u001b[0mstr\u001b[0m\u001b[0;34m)\u001b[0m\u001b[0;34m:\u001b[0m\u001b[0;34m\u001b[0m\u001b[0m\n",
      "\u001b[0;32m/home/guest/anaconda2/lib/python2.7/pickle.pyc\u001b[0m in \u001b[0;36mload\u001b[0;34m(self)\u001b[0m\n\u001b[1;32m    862\u001b[0m             \u001b[0;32mwhile\u001b[0m \u001b[0;36m1\u001b[0m\u001b[0;34m:\u001b[0m\u001b[0;34m\u001b[0m\u001b[0m\n\u001b[1;32m    863\u001b[0m                 \u001b[0mkey\u001b[0m \u001b[0;34m=\u001b[0m \u001b[0mread\u001b[0m\u001b[0;34m(\u001b[0m\u001b[0;36m1\u001b[0m\u001b[0;34m)\u001b[0m\u001b[0;34m\u001b[0m\u001b[0m\n\u001b[0;32m--> 864\u001b[0;31m                 \u001b[0mdispatch\u001b[0m\u001b[0;34m[\u001b[0m\u001b[0mkey\u001b[0m\u001b[0;34m]\u001b[0m\u001b[0;34m(\u001b[0m\u001b[0mself\u001b[0m\u001b[0;34m)\u001b[0m\u001b[0;34m\u001b[0m\u001b[0m\n\u001b[0m\u001b[1;32m    865\u001b[0m         \u001b[0;32mexcept\u001b[0m \u001b[0m_Stop\u001b[0m\u001b[0;34m,\u001b[0m \u001b[0mstopinst\u001b[0m\u001b[0;34m:\u001b[0m\u001b[0;34m\u001b[0m\u001b[0m\n\u001b[1;32m    866\u001b[0m             \u001b[0;32mreturn\u001b[0m \u001b[0mstopinst\u001b[0m\u001b[0;34m.\u001b[0m\u001b[0mvalue\u001b[0m\u001b[0;34m\u001b[0m\u001b[0m\n",
      "\u001b[0;32m/home/guest/anaconda2/lib/python2.7/pickle.pyc\u001b[0m in \u001b[0;36mload_eof\u001b[0;34m(self)\u001b[0m\n\u001b[1;32m    884\u001b[0m \u001b[0;34m\u001b[0m\u001b[0m\n\u001b[1;32m    885\u001b[0m     \u001b[0;32mdef\u001b[0m \u001b[0mload_eof\u001b[0m\u001b[0;34m(\u001b[0m\u001b[0mself\u001b[0m\u001b[0;34m)\u001b[0m\u001b[0;34m:\u001b[0m\u001b[0;34m\u001b[0m\u001b[0m\n\u001b[0;32m--> 886\u001b[0;31m         \u001b[0;32mraise\u001b[0m \u001b[0mEOFError\u001b[0m\u001b[0;34m\u001b[0m\u001b[0m\n\u001b[0m\u001b[1;32m    887\u001b[0m     \u001b[0mdispatch\u001b[0m\u001b[0;34m[\u001b[0m\u001b[0;34m''\u001b[0m\u001b[0;34m]\u001b[0m \u001b[0;34m=\u001b[0m \u001b[0mload_eof\u001b[0m\u001b[0;34m\u001b[0m\u001b[0m\n\u001b[1;32m    888\u001b[0m \u001b[0;34m\u001b[0m\u001b[0m\n",
      "\u001b[0;31mEOFError\u001b[0m: "
     ]
    }
   ],
   "source": [
    "catalogs = Vizier.get_catalogs(catalog_list.keys())\n",
    "catalogs"
   ]
  },
  {
   "cell_type": "code",
   "execution_count": 19,
   "metadata": {
    "collapsed": true
   },
   "outputs": [],
   "source": [
    "Vizier.ROW_LIMIT = 50000\n",
    "# Note, the GLADE catalog is 1,918,147 rows long thus we will get a memory error if we set the row limit to -1\n",
    "cat2, = Vizier.get_catalogs('VII/275/glade1') # Downloading the GLADE catalog (Galaxy List for the Advanced Detector Era)"
   ]
  },
  {
   "cell_type": "markdown",
   "metadata": {},
   "source": [
    "According to Gehrels et al(2016), the GLADE luminosity function is well fit by a Schechter function with a cutoff absolute magnitude of $M_k^* = -20.47$ and a power-law index of $\\alpha_K = -1.07$. We find the maximum absolute magnitude $M_k^{\\text{max}}$ for a completeness fraction of 0.5."
   ]
  },
  {
   "cell_type": "code",
   "execution_count": 20,
   "metadata": {},
   "outputs": [
    {
     "data": {
      "text/plain": [
       "-20.979304092571255"
      ]
     },
     "execution_count": 20,
     "metadata": {},
     "output_type": "execute_result"
    }
   ],
   "source": [
    "completeness = 0.5\n",
    "alpha = -1.07\n",
    "MK_star = -20.47\n",
    "MK_max = MK_star + 2.5*np.log10(gammaincinv(alpha + 2, completeness))\n",
    "MK_max"
   ]
  },
  {
   "cell_type": "code",
   "execution_count": 21,
   "metadata": {
    "collapsed": true
   },
   "outputs": [],
   "source": [
    "dist = u.Quantity(cat2['Dist']) # Distance in Mpc\n",
    "z = (u.Quantity(cat2['zph2MPZ'])).to(u.dimensionless_unscaled)\n",
    "MK = cat2['Kmag2']-cosmo.distmod(z)\n",
    "keep = (z > 0) & (MK < MK_max)\n",
    "cat2 = cat2[keep]\n",
    "dist = dist[keep]"
   ]
  },
  {
   "cell_type": "code",
   "execution_count": 22,
   "metadata": {
    "collapsed": true
   },
   "outputs": [],
   "source": [
    "r = dist.value\n",
    "theta = 0.5*np.pi - cat2['DEJ2000'].to('rad').value\n",
    "phi = cat2['RAJ2000'].to('rad').value\n",
    "ipix = hp.ang2pix(nside, theta, phi)"
   ]
  },
  {
   "cell_type": "code",
   "execution_count": 23,
   "metadata": {
    "collapsed": true
   },
   "outputs": [],
   "source": [
    "dp_dV = prob[ipix] * distnorm[ipix] * norm(distmu[ipix], distsigma[ipix]).pdf(r)/pixarea"
   ]
  },
  {
   "cell_type": "code",
   "execution_count": 24,
   "metadata": {},
   "outputs": [
    {
     "data": {
      "text/html": [
       "&lt;Table masked=True length=50&gt;\n",
       "<table id=\"table140035030582032\" class=\"table-striped table-bordered table-condensed\">\n",
       "<thead><tr><th>RAJ2000</th><th>DEJ2000</th><th>Kmag2</th></tr></thead>\n",
       "<thead><tr><th>deg</th><th>deg</th><th>mag</th></tr></thead>\n",
       "<thead><tr><th>float64</th><th>float64</th><th>float32</th></tr></thead>\n",
       "<tr><td>199.958435</td><td>-27.410082</td><td>7.151</td></tr>\n",
       "<tr><td>199.521057</td><td>-26.837221</td><td>7.366</td></tr>\n",
       "<tr><td>193.998657</td><td>-19.268990</td><td>12.227</td></tr>\n",
       "<tr><td>193.830368</td><td>-14.949816</td><td>12.506</td></tr>\n",
       "<tr><td>200.442673</td><td>-27.430519</td><td>7.421</td></tr>\n",
       "<tr><td>202.954483</td><td>-33.239475</td><td>11.004</td></tr>\n",
       "<tr><td>201.409256</td><td>-30.161926</td><td>13.008</td></tr>\n",
       "<tr><td>202.307953</td><td>-33.173840</td><td>8.883</td></tr>\n",
       "<tr><td>203.777832</td><td>-33.481030</td><td>10.089</td></tr>\n",
       "<tr><td>...</td><td>...</td><td>...</td></tr>\n",
       "<tr><td>193.956802</td><td>-12.055349</td><td>8.603</td></tr>\n",
       "<tr><td>193.111938</td><td>-9.754002</td><td>11.167</td></tr>\n",
       "<tr><td>193.648743</td><td>-12.568590</td><td>7.834</td></tr>\n",
       "<tr><td>194.854004</td><td>-15.286558</td><td>14.562</td></tr>\n",
       "<tr><td>198.809097</td><td>-32.253910</td><td>12.462</td></tr>\n",
       "<tr><td>192.337173</td><td>-9.504754</td><td>12.445</td></tr>\n",
       "<tr><td>190.187241</td><td>-5.302535</td><td>11.578</td></tr>\n",
       "<tr><td>193.598953</td><td>-10.537218</td><td>8.780</td></tr>\n",
       "<tr><td>189.997894</td><td>-11.623070</td><td>5.009</td></tr>\n",
       "<tr><td>196.471619</td><td>-25.587393</td><td>14.030</td></tr>\n",
       "</table>"
      ],
      "text/plain": [
       "<Table masked=True length=50>\n",
       " RAJ2000    DEJ2000    Kmag2 \n",
       "   deg        deg       mag  \n",
       " float64    float64   float32\n",
       "---------- ---------- -------\n",
       "199.958435 -27.410082   7.151\n",
       "199.521057 -26.837221   7.366\n",
       "193.998657 -19.268990  12.227\n",
       "193.830368 -14.949816  12.506\n",
       "200.442673 -27.430519   7.421\n",
       "202.954483 -33.239475  11.004\n",
       "201.409256 -30.161926  13.008\n",
       "202.307953 -33.173840   8.883\n",
       "203.777832 -33.481030  10.089\n",
       "       ...        ...     ...\n",
       "193.956802 -12.055349   8.603\n",
       "193.111938  -9.754002  11.167\n",
       "193.648743 -12.568590   7.834\n",
       "194.854004 -15.286558  14.562\n",
       "198.809097 -32.253910  12.462\n",
       "192.337173  -9.504754  12.445\n",
       "190.187241  -5.302535  11.578\n",
       "193.598953 -10.537218   8.780\n",
       "189.997894 -11.623070   5.009\n",
       "196.471619 -25.587393  14.030"
      ]
     },
     "execution_count": 24,
     "metadata": {},
     "output_type": "execute_result"
    }
   ],
   "source": [
    "top50 = cat2[np.flipud(np.argsort(dp_dV))][:50]\n",
    "top50['RAJ2000', 'DEJ2000', 'Kmag2']"
   ]
  },
  {
   "cell_type": "markdown",
   "metadata": {},
   "source": [
    "We can use many different algorithms to prioritize galaxies. Here is an outline used by the Las Cumbres Observatory for following-up on GW170817.\n",
    "\n",
    "Step 1: Compute the probability the source being at a distance $D$ for a certain right ascension and declination. Compute the location score of a galaxy: $S_{\\text{loc}} = p_{\\text{pos}} \\times p_{\\text{dist}}$.\n",
    "\n",
    "Step 2: Using the $B$-band magnitude and distance provided in the catalog, calculate the $B$-band luminosity of the galaxy: $L_B$.\n",
    "\n",
    "Step 3: Assuming a limiting magnitude for exposures, $m_{\\text{lim}}$, convert to a limiting luminosity at the distance of each galaxy, $L_{\\text{lim}}$. Assign the galaxy a score: $S_{\\text{lum}} = \\frac{L_B}{\\Sigma L_B}$\n",
    "\n",
    "Step 4: Define the likely counterpart magnitude range, $M_{\\text{KN,min}} - M_{\\text{KN,max}}$ and convert those magnitudes to luminosities.\n",
    "\n",
    "Step 5: Give each galaxy a detection likelihood score: $S_\\text{det} = \\frac{L_{\\text{KN,max}} - L_{\\text{lim}}}{L_{\\text{KN,max}} - L_{\\text{KN,min}}}$."
   ]
  }
 ],
 "metadata": {
  "kernelspec": {
   "display_name": "Python 2",
   "language": "python",
   "name": "python2"
  },
  "language_info": {
   "codemirror_mode": {
    "name": "ipython",
    "version": 2
   },
   "file_extension": ".py",
   "mimetype": "text/x-python",
   "name": "python",
   "nbconvert_exporter": "python",
   "pygments_lexer": "ipython2",
   "version": "2.7.14"
  }
 },
 "nbformat": 4,
 "nbformat_minor": 2
}
