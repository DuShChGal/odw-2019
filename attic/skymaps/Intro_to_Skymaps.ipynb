{
 "cells": [
  {
   "cell_type": "markdown",
   "metadata": {},
   "source": [
    "# Introduction to LIGO Skymaps\n",
    "In this first tutorial we will learn the basics of LIGO sky localiztion probability maps (skymaps).\n",
    "\n",
    "We will cover a) downloading and reading in the Flexible Image Transport System (FITS) files, b) getting header information for skymaps, c) getting probabilities given line of sight (right ascension/declination), d) finding the maximum probability density pixel, e) creating skymap plots with galactic coordinates, f) selecting the 50% and 90% probability regions, and g) down-sampling the map to coarser resolutions."
   ]
  },
  {
   "cell_type": "markdown",
   "metadata": {},
   "source": [
    "## Setting up the Python Environment\n",
    "The following packages are needed for working with LIGO skymaps: Astropy, Healpy, and Numpy. We will also utilize Matplotlib, Scipy, and Astroquery. All of these packages can be installed using Pip."
   ]
  },
  {
   "cell_type": "code",
   "execution_count": 1,
   "metadata": {},
   "outputs": [
    {
     "name": "stdout",
     "output_type": "stream",
     "text": [
      "Requirement already satisfied: astropy in /home/guest/anaconda2/lib/python2.7/site-packages\n",
      "Requirement already satisfied: astroquery in /home/guest/anaconda2/lib/python2.7/site-packages\n",
      "Requirement already satisfied: healpy in /home/guest/anaconda2/lib/python2.7/site-packages\n",
      "Requirement already satisfied: matplotlib in /home/guest/anaconda2/lib/python2.7/site-packages\n",
      "Requirement already satisfied: scipy in /home/guest/anaconda2/lib/python2.7/site-packages\n",
      "Requirement already satisfied: pytest>=2.8 in /home/guest/anaconda2/lib/python2.7/site-packages (from astropy)\n",
      "Requirement already satisfied: numpy>=1.9.0 in /home/guest/anaconda2/lib/python2.7/site-packages (from astropy)\n",
      "Requirement already satisfied: keyring>=4.0 in /home/guest/anaconda2/lib/python2.7/site-packages (from astroquery)\n",
      "Requirement already satisfied: beautifulsoup4>=4.3.2 in /home/guest/anaconda2/lib/python2.7/site-packages (from astroquery)\n",
      "Requirement already satisfied: html5lib>=0.999 in /home/guest/anaconda2/lib/python2.7/site-packages (from astroquery)\n",
      "Requirement already satisfied: requests>=2.4.3 in /home/guest/anaconda2/lib/python2.7/site-packages (from astroquery)\n",
      "Requirement already satisfied: six in /home/guest/anaconda2/lib/python2.7/site-packages (from healpy)\n",
      "Requirement already satisfied: python-dateutil>=2.0 in /home/guest/anaconda2/lib/python2.7/site-packages (from matplotlib)\n",
      "Requirement already satisfied: backports.functools_lru_cache in /home/guest/anaconda2/lib/python2.7/site-packages (from matplotlib)\n",
      "Requirement already satisfied: subprocess32 in /home/guest/anaconda2/lib/python2.7/site-packages (from matplotlib)\n",
      "Requirement already satisfied: pytz in /home/guest/anaconda2/lib/python2.7/site-packages (from matplotlib)\n",
      "Requirement already satisfied: cycler>=0.10 in /home/guest/anaconda2/lib/python2.7/site-packages (from matplotlib)\n",
      "Requirement already satisfied: pyparsing!=2.0.4,!=2.1.2,!=2.1.6,>=2.0.1 in /home/guest/anaconda2/lib/python2.7/site-packages (from matplotlib)\n",
      "Requirement already satisfied: py>=1.4.33 in /home/guest/anaconda2/lib/python2.7/site-packages (from pytest>=2.8->astropy)\n",
      "Requirement already satisfied: setuptools in /home/guest/anaconda2/lib/python2.7/site-packages (from pytest>=2.8->astropy)\n",
      "Requirement already satisfied: secretstorage; sys_platform == \"linux2\" or sys_platform == \"linux\" in /home/guest/anaconda2/lib/python2.7/site-packages (from keyring>=4.0->astroquery)\n",
      "Requirement already satisfied: webencodings in /home/guest/anaconda2/lib/python2.7/site-packages (from html5lib>=0.999->astroquery)\n",
      "Requirement already satisfied: chardet<3.1.0,>=3.0.2 in /home/guest/anaconda2/lib/python2.7/site-packages (from requests>=2.4.3->astroquery)\n",
      "Requirement already satisfied: idna<2.7,>=2.5 in /home/guest/anaconda2/lib/python2.7/site-packages (from requests>=2.4.3->astroquery)\n",
      "Requirement already satisfied: urllib3<1.23,>=1.21.1 in /home/guest/anaconda2/lib/python2.7/site-packages (from requests>=2.4.3->astroquery)\n",
      "Requirement already satisfied: certifi>=2017.4.17 in /home/guest/anaconda2/lib/python2.7/site-packages (from requests>=2.4.3->astroquery)\n",
      "Requirement already satisfied: cryptography in /home/guest/anaconda2/lib/python2.7/site-packages (from secretstorage; sys_platform == \"linux2\" or sys_platform == \"linux\"->keyring>=4.0->astroquery)\n",
      "Requirement already satisfied: asn1crypto>=0.21.0 in /home/guest/anaconda2/lib/python2.7/site-packages (from cryptography->secretstorage; sys_platform == \"linux2\" or sys_platform == \"linux\"->keyring>=4.0->astroquery)\n",
      "Requirement already satisfied: enum34 in /home/guest/anaconda2/lib/python2.7/site-packages (from cryptography->secretstorage; sys_platform == \"linux2\" or sys_platform == \"linux\"->keyring>=4.0->astroquery)\n",
      "Requirement already satisfied: ipaddress in /home/guest/anaconda2/lib/python2.7/site-packages (from cryptography->secretstorage; sys_platform == \"linux2\" or sys_platform == \"linux\"->keyring>=4.0->astroquery)\n",
      "Requirement already satisfied: cffi>=1.7 in /home/guest/anaconda2/lib/python2.7/site-packages (from cryptography->secretstorage; sys_platform == \"linux2\" or sys_platform == \"linux\"->keyring>=4.0->astroquery)\n",
      "Requirement already satisfied: pycparser in /home/guest/anaconda2/lib/python2.7/site-packages (from cffi>=1.7->cryptography->secretstorage; sys_platform == \"linux2\" or sys_platform == \"linux\"->keyring>=4.0->astroquery)\n"
     ]
    }
   ],
   "source": [
    "import sys\n",
    "!{sys.executable} -m pip install \"astropy\" \"astroquery\" \"healpy\" \"matplotlib\" \"scipy\""
   ]
  },
  {
   "cell_type": "markdown",
   "metadata": {},
   "source": [
    "All LIGO skymaps are stored as FITS files. The FITS files contain a single binary table that represent a HEALPix (Hierarchical Equal Area isoLatitude Pixelization) all-sky image.\n",
    "For compact binary mergers, 3-D skymaps (distance + directional information) are provided. These tables have four columns: PROB, DISTMU, DISTSTD, and DISTNORM.\n",
    "For unmodelled triggers, 2-D skymaps are generated with only directional information. These tables only have one column.\n",
    "\n",
    "More on this later.... Now that we have installed the packages successfully, let us try importing the necessary packages for working with the HEALPix files."
   ]
  },
  {
   "cell_type": "markdown",
   "metadata": {},
   "source": [
    "## Import necessary packages "
   ]
  },
  {
   "cell_type": "code",
   "execution_count": 2,
   "metadata": {
    "collapsed": true
   },
   "outputs": [],
   "source": [
    "import healpy as hp # for working with HEALPix files\n",
    "import numpy as np # needed for vector operations\n",
    "from matplotlib import pyplot as plt # plotting skymaps\n",
    "from scipy.stats import norm # probability functions"
   ]
  },
  {
   "cell_type": "markdown",
   "metadata": {},
   "source": [
    "We will download a skymap from the BNS merger event, GW170817.\n",
    "Specifically, we will use the publication LALInference skymap.\n",
    "All skymaps relevant for this event released from the LIGO-Virgo side can be found here: https://dcc.ligo.org/LIGO-G1701985/public"
   ]
  },
  {
   "cell_type": "code",
   "execution_count": 3,
   "metadata": {
    "collapsed": true
   },
   "outputs": [],
   "source": [
    "from astropy.utils.data import download_file\n",
    "url = ('https://dcc.ligo.org/public/0146/G1701985/001/LALInference_v2.fits.gz')\n",
    "# This is the publication LALInference localization\n",
    "filename = download_file(url, cache=True)"
   ]
  },
  {
   "cell_type": "markdown",
   "metadata": {},
   "source": [
    "Now, when we read in the HEALPix file with Healpy, we get a skymap and a header. The skymap contains the first column which is the probability sky map. This is the probability that the source is contained in pixel $i$, centered on the direction $\\vec{n}_i$. The units are pixel$^{-1}$. For 3D skymaps, 3 additional columns remain which are DISTMU, DISTSTD, and DISTNORM."
   ]
  },
  {
   "cell_type": "markdown",
   "metadata": {},
   "source": [
    "## Reading in the skymap and header with Healpy"
   ]
  },
  {
   "cell_type": "code",
   "execution_count": 4,
   "metadata": {},
   "outputs": [
    {
     "name": "stdout",
     "output_type": "stream",
     "text": [
      "NSIDE = 1024\n",
      "ORDERING = NESTED in fits file\n",
      "INDXSCHM = IMPLICIT\n",
      "Ordering converted to RING\n"
     ]
    }
   ],
   "source": [
    "prob, header = hp.read_map(filename, h=True) # reading in the first column which is the probability skymap and the header"
   ]
  },
  {
   "cell_type": "markdown",
   "metadata": {},
   "source": [
    "Now, because we are working with a 3D skymap, we will read in distance information as well: distmu and distsigma (the ansatz location and scale parameters of condition distance distribution in direction $\\vec{n}_i$), and distnorm (the ansatz normalization coefficient)."
   ]
  },
  {
   "cell_type": "code",
   "execution_count": 5,
   "metadata": {},
   "outputs": [
    {
     "name": "stdout",
     "output_type": "stream",
     "text": [
      "NSIDE = 1024\n",
      "ORDERING = NESTED in fits file\n",
      "INDXSCHM = IMPLICIT\n",
      "Ordering converted to RING\n",
      "Ordering converted to RING\n",
      "Ordering converted to RING\n"
     ]
    }
   ],
   "source": [
    "distmu, distsigma, distnorm = hp.read_map(filename, field=[1,2,3])"
   ]
  },
  {
   "cell_type": "markdown",
   "metadata": {},
   "source": [
    "Because we read in the header (which contains relevant metadata about the event and the skymap), we will print it explicitly. Often, the circulars written by the LIGO and Virgo Collaborations contain information from the skymap headers."
   ]
  },
  {
   "cell_type": "code",
   "execution_count": 6,
   "metadata": {},
   "outputs": [
    {
     "data": {
      "text/plain": [
       "[('XTENSION', 'BINTABLE'),\n",
       " ('BITPIX', 8),\n",
       " ('NAXIS', 2),\n",
       " ('NAXIS1', 32),\n",
       " ('NAXIS2', 12582912),\n",
       " ('PCOUNT', 0),\n",
       " ('GCOUNT', 1),\n",
       " ('TFIELDS', 4),\n",
       " ('TTYPE1', 'PROB'),\n",
       " ('TFORM1', 'D'),\n",
       " ('TUNIT1', 'pix-1'),\n",
       " ('TTYPE2', 'DISTMU'),\n",
       " ('TFORM2', 'D'),\n",
       " ('TUNIT2', 'Mpc'),\n",
       " ('TTYPE3', 'DISTSIGMA'),\n",
       " ('TFORM3', 'D'),\n",
       " ('TUNIT3', 'Mpc'),\n",
       " ('TTYPE4', 'DISTNORM'),\n",
       " ('TFORM4', 'D'),\n",
       " ('TUNIT4', 'Mpc-2'),\n",
       " ('PIXTYPE', 'HEALPIX'),\n",
       " ('ORDERING', 'NESTED'),\n",
       " ('COORDSYS', 'C'),\n",
       " ('NSIDE', 1024),\n",
       " ('INDXSCHM', 'IMPLICIT'),\n",
       " ('OBJECT', 'GW170817'),\n",
       " ('DATE-OBS', '2017-08-17T12:41:04.429237'),\n",
       " ('MJD-OBS', 57982.52852348645),\n",
       " ('DATE', '2017-09-26T14:24:08.382958'),\n",
       " ('CREATOR', 'run_sky_area'),\n",
       " ('ORIGIN', 'LIGO/Virgo'),\n",
       " ('DISTMEAN', 38.58938617448738),\n",
       " ('DISTSTD', 6.996864447652665),\n",
       " ('VCSVERS', 'skyarea 0.3.2'),\n",
       " ('VCSSTAT', ''),\n",
       " ('VCSREV', ''),\n",
       " ('DATE-BLD', ''),\n",
       " ('HISTORY', ''),\n",
       " ('HISTORY', 'Generated by running the following script:'),\n",
       " ('HISTORY',\n",
       "  'run_sky_area -j --seed 150914 --samples ../../samples/posterior_samples_'),\n",
       " ('HISTORY', 'tidal_P28.dat --objid GW170817')]"
      ]
     },
     "execution_count": 6,
     "metadata": {},
     "output_type": "execute_result"
    }
   ],
   "source": [
    "header"
   ]
  },
  {
   "cell_type": "markdown",
   "metadata": {},
   "source": [
    "Above in the header, DISTMEAN is the posterior mean distance in Mpc and DISTSTD is the posterior standard deviation of the distance in Mpc."
   ]
  },
  {
   "cell_type": "markdown",
   "metadata": {},
   "source": [
    "Next, it will be useful for us to have the HEALPix resolution on hand."
   ]
  },
  {
   "cell_type": "code",
   "execution_count": 7,
   "metadata": {},
   "outputs": [
    {
     "data": {
      "text/plain": [
       "(12582912, 1024)"
      ]
     },
     "execution_count": 7,
     "metadata": {},
     "output_type": "execute_result"
    }
   ],
   "source": [
    "npix = len(prob)\n",
    "nside = hp.npix2nside(npix)\n",
    "npix, nside"
   ]
  },
  {
   "cell_type": "markdown",
   "metadata": {},
   "source": [
    "Another way to get the same information is to use the Healpy functions get_map_size and get_nside."
   ]
  },
  {
   "cell_type": "code",
   "execution_count": 8,
   "metadata": {},
   "outputs": [
    {
     "data": {
      "text/plain": [
       "12582912"
      ]
     },
     "execution_count": 8,
     "metadata": {},
     "output_type": "execute_result"
    }
   ],
   "source": [
    "hp.get_map_size(prob)"
   ]
  },
  {
   "cell_type": "code",
   "execution_count": 9,
   "metadata": {},
   "outputs": [
    {
     "data": {
      "text/plain": [
       "1024"
      ]
     },
     "execution_count": 9,
     "metadata": {},
     "output_type": "execute_result"
    }
   ],
   "source": [
    "hp.get_nside(prob)"
   ]
  },
  {
   "cell_type": "markdown",
   "metadata": {},
   "source": [
    "The relationship between $npix$ and $nside$ is $npix = 12 * nside^2$."
   ]
  },
  {
   "cell_type": "markdown",
   "metadata": {},
   "source": [
    "## Finding the maximum probability density pixel\n",
    "\n",
    "Sometimes it is useful to find the maximum probability density pixel."
   ]
  },
  {
   "cell_type": "code",
   "execution_count": 10,
   "metadata": {},
   "outputs": [
    {
     "data": {
      "text/plain": [
       "8716482"
      ]
     },
     "execution_count": 10,
     "metadata": {},
     "output_type": "execute_result"
    }
   ],
   "source": [
    "maxpix = np.argmax(prob)\n",
    "maxpix"
   ]
  },
  {
   "cell_type": "markdown",
   "metadata": {},
   "source": [
    "We want to compute the probability per deg$^2$ contained in this pixel.\n",
    "To find this, we first need Healpy to tell us the area per pixel in steradians at the current HEALPix resolution."
   ]
  },
  {
   "cell_type": "code",
   "execution_count": 11,
   "metadata": {},
   "outputs": [
    {
     "data": {
      "text/plain": [
       "9.986854087797142e-07"
      ]
     },
     "execution_count": 11,
     "metadata": {},
     "output_type": "execute_result"
    }
   ],
   "source": [
    "pixarea = hp.nside2pixarea(nside)\n",
    "pixarea"
   ]
  },
  {
   "cell_type": "markdown",
   "metadata": {},
   "source": [
    "Note, the $pixarea$ is the same as the solid angle of the sphere divided by the number of pixels, $4 \\pi/npix$."
   ]
  },
  {
   "cell_type": "code",
   "execution_count": 12,
   "metadata": {},
   "outputs": [
    {
     "data": {
      "text/plain": [
       "True"
      ]
     },
     "execution_count": 12,
     "metadata": {},
     "output_type": "execute_result"
    }
   ],
   "source": [
    "pixarea == 4*np.pi/npix"
   ]
  },
  {
   "cell_type": "markdown",
   "metadata": {},
   "source": [
    "We can also get the $pixarea$ in deg$^2$."
   ]
  },
  {
   "cell_type": "code",
   "execution_count": 13,
   "metadata": {},
   "outputs": [
    {
     "data": {
      "text/plain": [
       "0.0032784908016061202"
      ]
     },
     "execution_count": 13,
     "metadata": {},
     "output_type": "execute_result"
    }
   ],
   "source": [
    "pixarea_deg2 = hp.nside2pixarea(nside, degrees=True)\n",
    "pixarea_deg2"
   ]
  },
  {
   "cell_type": "markdown",
   "metadata": {},
   "source": [
    "We can also compute this by using the conversion from steradians to deg$^2$: $1$sr $= (180/\\pi)^2$ deg$^2$."
   ]
  },
  {
   "cell_type": "code",
   "execution_count": 14,
   "metadata": {},
   "outputs": [
    {
     "data": {
      "text/plain": [
       "True"
      ]
     },
     "execution_count": 14,
     "metadata": {},
     "output_type": "execute_result"
    }
   ],
   "source": [
    "pixarea_deg2 == pixarea*(180/np.pi)**2"
   ]
  },
  {
   "cell_type": "markdown",
   "metadata": {},
   "source": [
    "Thus, if we want to compute the probability per steradian or probability per deg$^2$, we just divide the probability contained in maxpix by the area per pixel."
   ]
  },
  {
   "cell_type": "code",
   "execution_count": 15,
   "metadata": {},
   "outputs": [
    {
     "data": {
      "text/plain": [
       "354.23731511473807"
      ]
     },
     "execution_count": 15,
     "metadata": {},
     "output_type": "execute_result"
    }
   ],
   "source": [
    "dp_dA = prob[maxpix]/pixarea\n",
    "dp_dA # Probability per steradian"
   ]
  },
  {
   "cell_type": "code",
   "execution_count": 16,
   "metadata": {},
   "outputs": [
    {
     "data": {
      "text/plain": [
       "0.10790685692242273"
      ]
     },
     "execution_count": 16,
     "metadata": {},
     "output_type": "execute_result"
    }
   ],
   "source": [
    "dp_dA_deg2 = prob[maxpix]/pixarea_deg2\n",
    "dp_dA_deg2 # Probability per deg^2"
   ]
  },
  {
   "cell_type": "markdown",
   "metadata": {},
   "source": [
    "## 2D Probability in a Given Line of Sight\n",
    "\n",
    "We want to be able to compute the probability per deg$^2$ that the source is in a given direction.\n",
    "Let us take the following equatorial coordinates."
   ]
  },
  {
   "cell_type": "code",
   "execution_count": 17,
   "metadata": {
    "collapsed": true
   },
   "outputs": [],
   "source": [
    "ra, dec = 197.45, -23.38 # Coordinates of NGC 4993"
   ]
  },
  {
   "cell_type": "markdown",
   "metadata": {},
   "source": [
    "Healpy uses spherical coordinates $(\\theta, \\phi)$ with $\\theta \\in [0, \\pi]$ being the colatitude from the north celestial pole in radians, and $\\phi \\in [0, 2\\pi)$ being the right ascension in radians."
   ]
  },
  {
   "cell_type": "code",
   "execution_count": 18,
   "metadata": {},
   "outputs": [
    {
     "data": {
      "text/plain": [
       "(1.9788543059111707, 3.4461526080628033)"
      ]
     },
     "execution_count": 18,
     "metadata": {},
     "output_type": "execute_result"
    }
   ],
   "source": [
    "# Converting to radians\n",
    "theta = 0.5*np.pi - np.deg2rad(dec)\n",
    "phi = np.deg2rad(ra)\n",
    "theta, phi"
   ]
  },
  {
   "cell_type": "markdown",
   "metadata": {},
   "source": [
    "Now, we look up the index of the HEALPix pixel that contains this direction."
   ]
  },
  {
   "cell_type": "code",
   "execution_count": 19,
   "metadata": {},
   "outputs": [
    {
     "data": {
      "text/plain": [
       "8790214"
      ]
     },
     "execution_count": 19,
     "metadata": {},
     "output_type": "execute_result"
    }
   ],
   "source": [
    "ipix = hp.ang2pix(nside, theta, phi)\n",
    "ipix"
   ]
  },
  {
   "cell_type": "markdown",
   "metadata": {},
   "source": [
    "Now, we want to compute the probability contained within this ipix pixel. (This is a repeat of what was done above.)"
   ]
  },
  {
   "cell_type": "code",
   "execution_count": 20,
   "metadata": {},
   "outputs": [
    {
     "data": {
      "text/plain": [
       "294.12262609641215"
      ]
     },
     "execution_count": 20,
     "metadata": {},
     "output_type": "execute_result"
    }
   ],
   "source": [
    "dp_dA = prob[ipix]/pixarea # Probability per steradian\n",
    "dp_dA"
   ]
  },
  {
   "cell_type": "code",
   "execution_count": 21,
   "metadata": {},
   "outputs": [
    {
     "data": {
      "text/plain": [
       "0.089594875462379903"
      ]
     },
     "execution_count": 21,
     "metadata": {},
     "output_type": "execute_result"
    }
   ],
   "source": [
    "dp_dA_deg2 = prob[ipix]/pixarea_deg2 # Probability per deg^2\n",
    "dp_dA_deg2"
   ]
  },
  {
   "cell_type": "markdown",
   "metadata": {},
   "source": [
    "## Conditional Distance Distribution along a Line of Sight\n",
    "\n",
    "Next, let us calculate the conditional distance distribution along a given line of sight. In other words, this is the probability per unit distance under the assumption that the source is in a given direction."
   ]
  },
  {
   "cell_type": "markdown",
   "metadata": {},
   "source": [
    "We first lay out a grid in distance along that line of sight."
   ]
  },
  {
   "cell_type": "code",
   "execution_count": 22,
   "metadata": {
    "collapsed": true
   },
   "outputs": [],
   "source": [
    "r = np.linspace(0,80,100) # Returns 100 evenly spaced numbers between 0 and 80"
   ]
  },
  {
   "cell_type": "markdown",
   "metadata": {},
   "source": [
    "Now, we plug everyting into the ansatz distribution. The probability that a source is within pixel $i$ and at a distance between $r$ and $r + dr$ is:\n",
    "\\begin{equation*}\n",
    "P(r, \\vec{n}_i) dr = \\rho_i \\frac{\\hat{N}_i}{\\sqrt{2\\pi}\\hat{\\sigma}_i} \\text{exp} \\left[-\\frac{(r-\\hat{\\mu}_i)^2}{2\\hat{\\sigma}_i^2} \\right] r^2 dr\n",
    "\\end{equation*}\n"
   ]
  },
  {
   "cell_type": "code",
   "execution_count": 23,
   "metadata": {
    "collapsed": true
   },
   "outputs": [],
   "source": [
    "dp_dr = r**2 * distnorm[ipix] * norm(distmu[ipix], distsigma[ipix]).pdf(r)"
   ]
  },
  {
   "cell_type": "markdown",
   "metadata": {},
   "source": [
    "Now, we can plot the result."
   ]
  },
  {
   "cell_type": "code",
   "execution_count": 24,
   "metadata": {},
   "outputs": [
    {
     "data": {
      "image/png": "[encoded data removed]",
      "text/plain": [
       "<matplotlib.figure.Figure at 0x7f2fdcc5c9d0>"
      ]
     },
     "metadata": {},
     "output_type": "display_data"
    }
   ],
   "source": [
    "plt.plot(r, dp_dr)\n",
    "plt.xlabel('distance (Mpc)')\n",
    "plt.ylabel('prob Mpc$^{-1}$')\n",
    "plt.show()"
   ]
  },
  {
   "cell_type": "markdown",
   "metadata": {},
   "source": [
    "## Probability per Unit Volume at a Point "
   ]
  },
  {
   "cell_type": "markdown",
   "metadata": {},
   "source": [
    "Now, we can calculate the probability density per Mpc$^3$ at a point. We can use the same right ascension and declination as above and the distance to NGC 4993, which is 40 Mpc."
   ]
  },
  {
   "cell_type": "code",
   "execution_count": 25,
   "metadata": {
    "collapsed": true
   },
   "outputs": [],
   "source": [
    "r = 40"
   ]
  },
  {
   "cell_type": "code",
   "execution_count": 26,
   "metadata": {},
   "outputs": [
    {
     "data": {
      "text/plain": [
       "0.01098675457913202"
      ]
     },
     "execution_count": 26,
     "metadata": {},
     "output_type": "execute_result"
    }
   ],
   "source": [
    "dp_dV = prob[ipix]*distnorm[ipix]*norm(distmu[ipix], distsigma[ipix]).pdf(r)/pixarea\n",
    "dp_dV"
   ]
  },
  {
   "cell_type": "markdown",
   "metadata": {},
   "source": [
    "## Creating skymap plots with equatorial coordinates\n",
    "\n",
    "Now we wish to create the type of figures that appear in the LIGO/Virgo publications."
   ]
  },
  {
   "cell_type": "code",
   "execution_count": 29,
   "metadata": {},
   "outputs": [
    {
     "name": "stdout",
     "output_type": "stream",
     "text": [
      "0.0 180.0 -180.0 180.0\n",
      "The interval between parallels is 30 deg -0.00'.\n",
      "The interval between meridians is 30 deg -0.00'.\n"
     ]
    },
    {
     "data": {
      "image/png": "[encoded data removed]",
      "text/plain": [
       "<matplotlib.figure.Figure at 0x7f2fcf73c710>"
      ]
     },
     "metadata": {},
     "output_type": "display_data"
    }
   ],
   "source": [
    "probperdeg2 = prob/pixarea_deg2\n",
    "hp.mollview(probperdeg2, coord=['C'], title='GW170817 LALInference', max=np.max(probperdeg2))\n",
    "hp.graticule(local=True)\n",
    "plt.show()"
   ]
  },
  {
   "cell_type": "markdown",
   "metadata": {},
   "source": [
    "# References\n",
    "\n",
    "Please see the following papers/supplements/software repositories for in-depth information on LIGO/Virgo skymaps.\n",
    "\n",
    "1. Going the Distance: Mapping Host Galaxies of LIGO and Virgo Sources in Three Dimensions Using Local Cosmography and Targeted Follow-up. Singer et al. iopscience.iop.org/article/10.3847/2041-8205/829/1/L15/meta\n",
    "\n",
    "2. Supplement: \"Going the Distance\". Singer et al. iopscience.iop.org/article/10.3847/0067-0049/226/1/10/meta\n",
    "\n",
    "3. https://git.ligo.org/leo-singer/ligo.skymap\n",
    "\n",
    "4. https://github.com/ggreco77/GWSky"
   ]
  }
 ],
 "metadata": {
  "kernelspec": {
   "display_name": "Python 2",
   "language": "python",
   "name": "python2"
  },
  "language_info": {
   "codemirror_mode": {
    "name": "ipython",
    "version": 2
   },
   "file_extension": ".py",
   "mimetype": "text/x-python",
   "name": "python",
   "nbconvert_exporter": "python",
   "pygments_lexer": "ipython2",
   "version": "2.7.14"
  }
 },
 "nbformat": 4,
 "nbformat_minor": 2
}
