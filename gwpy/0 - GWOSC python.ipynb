{
 "cells": [
  {
   "cell_type": "markdown",
   "metadata": {},
   "source": [
    "# Query the OpenScience datasets using `gwosc`\n",
    "\n",
    "This pre-tutorial describes how you can use the [`gwosc`](//gwosc.readthedocs.io) python module to search for GW open data information.\n",
    "\n",
    "First, lets install it:"
   ]
  },
  {
   "cell_type": "code",
   "execution_count": 1,
   "metadata": {},
   "outputs": [
    {
     "name": "stdout",
     "output_type": "stream",
     "text": [
      "Collecting gwosc\n",
      "/Users/duncan/git/odw-2018/venv/lib/python2.7/site-packages/pip/_vendor/msgpack/fallback.py:222: PendingDeprecationWarning: encoding is deprecated, Use raw=False instead.\n",
      "  PendingDeprecationWarning)\n",
      "  Using cached https://files.pythonhosted.org/packages/74/f6/1c7ad8effc4f770000b4779e8462d0a1932678d9c2b78c5c81b61b8eda66/gwosc-0.3.3-py2.py3-none-any.whl\n",
      "Requirement already satisfied: six>=1.9.0 in /Users/duncan/git/odw-2018/venv/lib/python2.7/site-packages (from gwosc) (1.11.0)\n",
      "Installing collected packages: gwosc\n",
      "Successfully installed gwosc-0.3.3\n"
     ]
    }
   ],
   "source": [
    "import sys\n",
    "!{sys.executable} -m pip install \"gwosc\""
   ]
  },
  {
   "cell_type": "markdown",
   "metadata": {},
   "source": [
    "## Querying for event information\n",
    "\n",
    "The `gwosc.datasets` module provides tools to search for datasets, including filtering on GPS times.\n",
    "\n",
    "For example, we can search for what event datasets are available:"
   ]
  },
  {
   "cell_type": "code",
   "execution_count": 2,
   "metadata": {},
   "outputs": [
    {
     "name": "stdout",
     "output_type": "stream",
     "text": [
      "[u'GW150914', u'GW151226', u'GW170104', u'GW170608', u'GW170814', u'GW170817', u'LVT151012']\n"
     ]
    }
   ],
   "source": [
    "from gwosc.datasets import find_datasets\n",
    "events = find_datasets(type='event')\n",
    "print(events)"
   ]
  },
  {
   "cell_type": "markdown",
   "metadata": {},
   "source": [
    "Here we see the list of confirmed detections (those prefixed as 'GW') and one likely detection (prefixed as 'LVT'). `find_datasets` also accepts a `detector` keyword to return only those datasets that include data for that detector."
   ]
  },
  {
   "cell_type": "markdown",
   "metadata": {},
   "source": [
    "We can query for the GPS time of a given event:"
   ]
  },
  {
   "cell_type": "code",
   "execution_count": 3,
   "metadata": {},
   "outputs": [
    {
     "name": "stdout",
     "output_type": "stream",
     "text": [
      "1187008882.43\n"
     ]
    }
   ],
   "source": [
    "from gwosc.datasets import event_gps\n",
    "gps = event_gps('GW170817')\n",
    "print(gps)"
   ]
  },
  {
   "cell_type": "markdown",
   "metadata": {},
   "source": [
    "<div class=\"alert alert-info\">All of these times are returned in the GPS time system, which counts the number of seconds that have elapsed since the start of the GPS epoch at midnight (00:00) on January 6th 1980. LOSC provides a <a href=\"https://losc.ligo.org/gps/\">GPS time converter</a> you can use to translate into datetime, or you can use <a href=\"https://gwpy.github.io/docs/stable/time/\"><code>gwpy.time</code></a>.</div>"
   ]
  },
  {
   "cell_type": "markdown",
   "metadata": {},
   "source": [
    "We can query for the GPS time interval for an observing run:"
   ]
  },
  {
   "cell_type": "code",
   "execution_count": 4,
   "metadata": {},
   "outputs": [
    {
     "name": "stdout",
     "output_type": "stream",
     "text": [
      "(931035615, 971622015)\n"
     ]
    }
   ],
   "source": [
    "from gwosc.datasets import run_segment\n",
    "print(run_segment('S6'))"
   ]
  },
  {
   "cell_type": "markdown",
   "metadata": {},
   "source": [
    "## Querying for data files\n",
    "\n",
    "### Events during O1\n",
    "\n",
    "The `gwosc.locate` module provides a function to find the URLs of data files associated with a given dataset.\n",
    "\n",
    "For event datasets, one can get the list of URLs using only the event name:"
   ]
  },
  {
   "cell_type": "code",
   "execution_count": 5,
   "metadata": {},
   "outputs": [
    {
     "name": "stdout",
     "output_type": "stream",
     "text": [
      "[u'https://losc.ligo.org//s/events/GW150914/H-H1_LOSC_4_V2-1126259446-32.hdf5', u'https://losc.ligo.org//s/events/GW150914/L-L1_LOSC_4_V2-1126259446-32.hdf5', u'https://losc.ligo.org//s/events/GW150914/H-H1_LOSC_4_V2-1126257414-4096.hdf5', u'https://losc.ligo.org//s/events/GW150914/L-L1_LOSC_4_V2-1126257414-4096.hdf5']\n"
     ]
    }
   ],
   "source": [
    "from gwosc.locate import get_event_urls\n",
    "urls = get_event_urls('GW150914')\n",
    "print(urls)"
   ]
  },
  {
   "cell_type": "markdown",
   "metadata": {},
   "source": [
    "By default, this function returns all of the files associated with a given event, which isn't particularly helpful. However, we can can filter on any of these by using keyword arguments, for example to get the URL for the 32-second file for the LIGO-Livingston detector:"
   ]
  },
  {
   "cell_type": "code",
   "execution_count": 6,
   "metadata": {},
   "outputs": [
    {
     "name": "stdout",
     "output_type": "stream",
     "text": [
      "[u'https://losc.ligo.org//s/events/GW150914/L-L1_LOSC_4_V2-1126259446-32.hdf5']\n"
     ]
    }
   ],
   "source": [
    "urls = get_event_urls('GW150914', duration=32, detector='L1')\n",
    "print(urls)"
   ]
  },
  {
   "cell_type": "markdown",
   "metadata": {},
   "source": [
    "### Events during O2\n",
    "\n",
    "For events during O2 (and beyond), multiple different types of data were released for a given event, typically including the calibrated strain data, and a cleaned dataset with numerous well-defined instrumental noises removed.\n",
    "\n",
    "When querying for events during O2, an error will be raised if you don't specify which type of data you want, using the `tag` keyword:"
   ]
  },
  {
   "cell_type": "code",
   "execution_count": 7,
   "metadata": {},
   "outputs": [
    {
     "ename": "ValueError",
     "evalue": "multiple LOSC URL tags discovered in dataset, please select one of: u'C00', u'CLN'",
     "output_type": "error",
     "traceback": [
      "\u001b[0;31m---------------------------------------------------------------------------\u001b[0m",
      "\u001b[0;31mValueError\u001b[0m                                Traceback (most recent call last)",
      "\u001b[0;32m<ipython-input-7-ff3781debbe7>\u001b[0m in \u001b[0;36m<module>\u001b[0;34m()\u001b[0m\n\u001b[0;32m----> 1\u001b[0;31m \u001b[0murls\u001b[0m \u001b[0;34m=\u001b[0m \u001b[0mget_event_urls\u001b[0m\u001b[0;34m(\u001b[0m\u001b[0;34m'GW170817'\u001b[0m\u001b[0;34m)\u001b[0m\u001b[0;34m\u001b[0m\u001b[0m\n\u001b[0m",
      "\u001b[0;32m/Users/duncan/git/odw-2018/venv/lib/python2.7/site-packages/gwosc/locate.pyc\u001b[0m in \u001b[0;36mget_event_urls\u001b[0;34m(event, format, sample_rate, **match)\u001b[0m\n\u001b[1;32m    111\u001b[0m         [u['url'] for u in lurls.sieve(meta['strain'], format=format,\n\u001b[1;32m    112\u001b[0m                                        sample_rate=sample_rate, **sieve_kw)],\n\u001b[0;32m--> 113\u001b[0;31m         **match)\n\u001b[0m",
      "\u001b[0;32m/Users/duncan/git/odw-2018/venv/lib/python2.7/site-packages/gwosc/urls.pyc\u001b[0m in \u001b[0;36mmatch\u001b[0;34m(urls, start, end, tag, version)\u001b[0m\n\u001b[1;32m    143\u001b[0m         \u001b[0mtags\u001b[0m \u001b[0;34m=\u001b[0m \u001b[0;34m', '\u001b[0m\u001b[0;34m.\u001b[0m\u001b[0mjoin\u001b[0m\u001b[0;34m(\u001b[0m\u001b[0mmap\u001b[0m\u001b[0;34m(\u001b[0m\u001b[0mrepr\u001b[0m\u001b[0;34m,\u001b[0m \u001b[0mmatched_tags\u001b[0m\u001b[0;34m)\u001b[0m\u001b[0;34m)\u001b[0m\u001b[0;34m\u001b[0m\u001b[0m\n\u001b[1;32m    144\u001b[0m         raise ValueError(\"multiple LOSC URL tags discovered in dataset, \"\n\u001b[0;32m--> 145\u001b[0;31m                          \"please select one of: {}\".format(tags))\n\u001b[0m\u001b[1;32m    146\u001b[0m \u001b[0;34m\u001b[0m\u001b[0m\n\u001b[1;32m    147\u001b[0m     \u001b[0;31m# extract highest version\u001b[0m\u001b[0;34m\u001b[0m\u001b[0;34m\u001b[0m\u001b[0m\n",
      "\u001b[0;31mValueError\u001b[0m: multiple LOSC URL tags discovered in dataset, please select one of: u'C00', u'CLN'"
     ]
    }
   ],
   "source": [
    "urls = get_event_urls('GW170817')"
   ]
  },
  {
   "cell_type": "markdown",
   "metadata": {},
   "source": [
    "The error message tells you what tags are available, and you can refer to the [release page](https://losc.ligo.org/events/GW170817/) for documentation on what each tagged set contains.\n",
    "\n",
    "Now, if you specify the tag, you get back to the sitaution as for those events in O1:"
   ]
  },
  {
   "cell_type": "code",
   "execution_count": 8,
   "metadata": {},
   "outputs": [
    {
     "name": "stdout",
     "output_type": "stream",
     "text": [
      "[u'https://losc.ligo.org//s/events/GW170817/H-H1_LOSC_CLN_4_V1-1187007040-2048.hdf5', u'https://losc.ligo.org//s/events/GW170817/L-L1_LOSC_CLN_4_V1-1187007040-2048.hdf5', u'https://losc.ligo.org//s/events/GW170817/V-V1_LOSC_CLN_4_V1-1187007040-2048.hdf5']\n"
     ]
    }
   ],
   "source": [
    "urls = get_event_urls('GW170817', tag='CLN')\n",
    "print(urls)"
   ]
  },
  {
   "cell_type": "markdown",
   "metadata": {},
   "source": [
    "We see that for this cleaned dataset, there's just a single file for each interferometer, so we could select on one using the `detector` keyword:"
   ]
  },
  {
   "cell_type": "code",
   "execution_count": 9,
   "metadata": {},
   "outputs": [
    {
     "name": "stdout",
     "output_type": "stream",
     "text": [
      "[u'https://losc.ligo.org//s/events/GW170817/V-V1_LOSC_CLN_4_V1-1187007040-2048.hdf5']\n"
     ]
    }
   ],
   "source": [
    "urls = get_event_urls('GW170817', tag='CLN', detector='V1')\n",
    "print(urls)"
   ]
  },
  {
   "cell_type": "markdown",
   "metadata": {},
   "source": [
    "# Exercises\n",
    "\n",
    "Now that you've seen examples of how to query for dataset information using the `gwosc` package, please try and complete the following exercies using that interface:\n",
    "\n",
    "- How many months did S6 last?\n",
    "- How many events were detected during O1?\n",
    "- Which event releases include data for the Virgo detector?"
   ]
  }
 ],
 "metadata": {
  "kernelspec": {
   "display_name": "Python 2",
   "language": "python",
   "name": "python2"
  },
  "language_info": {
   "codemirror_mode": {
    "name": "ipython",
    "version": 2
   },
   "file_extension": ".py",
   "mimetype": "text/x-python",
   "name": "python",
   "nbconvert_exporter": "python",
   "pygments_lexer": "ipython2",
   "version": "2.7.15"
  }
 },
 "nbformat": 4,
 "nbformat_minor": 2
}
